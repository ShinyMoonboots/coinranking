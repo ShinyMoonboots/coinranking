{
 "cells": [
  {
   "cell_type": "markdown",
   "id": "36a4e5c4",
   "metadata": {},
   "source": [
    "# Imports"
   ]
  },
  {
   "cell_type": "code",
   "execution_count": 1,
   "id": "110b1d92",
   "metadata": {},
   "outputs": [
    {
     "data": {
      "text/html": [
       "<style>.container { width:100% !important; }</style>"
      ],
      "text/plain": [
       "<IPython.core.display.HTML object>"
      ]
     },
     "metadata": {},
     "output_type": "display_data"
    }
   ],
   "source": [
    "from IPython.core.display import display, HTML\n",
    "\n",
    "display(HTML(\"<style>.container { width:100% !important; }</style>\"))"
   ]
  },
  {
   "cell_type": "code",
   "execution_count": 1,
   "id": "368b2134",
   "metadata": {},
   "outputs": [
    {
     "name": "stdout",
     "output_type": "stream",
     "text": [
      "time: 141 ms (started: 2023-12-12 09:05:42 +03:00)\n"
     ]
    },
    {
     "data": {
      "application/javascript": [
       "\n",
       "            setTimeout(function() {\n",
       "                var nbb_cell_id = 1;\n",
       "                var nbb_unformatted_code = \"%load_ext line_profiler\\n%load_ext autoreload\\n%load_ext autotime\\n%load_ext nb_black\\n%autoreload 2\";\n",
       "                var nbb_formatted_code = \"%load_ext line_profiler\\n%load_ext autoreload\\n%load_ext autotime\\n%load_ext nb_black\\n%autoreload 2\";\n",
       "                var nbb_cells = Jupyter.notebook.get_cells();\n",
       "                for (var i = 0; i < nbb_cells.length; ++i) {\n",
       "                    if (nbb_cells[i].input_prompt_number == nbb_cell_id) {\n",
       "                        if (nbb_cells[i].get_text() == nbb_unformatted_code) {\n",
       "                             nbb_cells[i].set_text(nbb_formatted_code);\n",
       "                        }\n",
       "                        break;\n",
       "                    }\n",
       "                }\n",
       "            }, 500);\n",
       "            "
      ],
      "text/plain": [
       "<IPython.core.display.Javascript object>"
      ]
     },
     "metadata": {},
     "output_type": "display_data"
    }
   ],
   "source": [
    "%load_ext line_profiler\n",
    "%load_ext autoreload\n",
    "%load_ext autotime\n",
    "%load_ext nb_black\n",
    "%autoreload 2"
   ]
  },
  {
   "cell_type": "code",
   "execution_count": 2,
   "id": "df5f2d19",
   "metadata": {},
   "outputs": [
    {
     "name": "stderr",
     "output_type": "stream",
     "text": [
      "2023-12-12 09:05:45,126 - INFO - <module>-line:5 - test\n"
     ]
    },
    {
     "name": "stdout",
     "output_type": "stream",
     "text": [
      "time: 2.42 s (started: 2023-12-12 09:05:42 +03:00)\n"
     ]
    },
    {
     "data": {
      "application/javascript": [
       "\n",
       "            setTimeout(function() {\n",
       "                var nbb_cell_id = 2;\n",
       "                var nbb_unformatted_code = \"from pyutilz.logginglib import init_logging\\n\\nlogger = init_logging(default_caller_name=\\\"stocksranking.py\\\", format=\\\"%(asctime)s - %(levelname)s - %(funcName)s-line:%(lineno)d - %(message)s\\\")\\n\\nlogger.info(\\\"test\\\")\";\n",
       "                var nbb_formatted_code = \"from pyutilz.logginglib import init_logging\\n\\nlogger = init_logging(default_caller_name=\\\"stocksranking.py\\\", format=\\\"%(asctime)s - %(levelname)s - %(funcName)s-line:%(lineno)d - %(message)s\\\")\\n\\nlogger.info(\\\"test\\\")\";\n",
       "                var nbb_cells = Jupyter.notebook.get_cells();\n",
       "                for (var i = 0; i < nbb_cells.length; ++i) {\n",
       "                    if (nbb_cells[i].input_prompt_number == nbb_cell_id) {\n",
       "                        if (nbb_cells[i].get_text() == nbb_unformatted_code) {\n",
       "                             nbb_cells[i].set_text(nbb_formatted_code);\n",
       "                        }\n",
       "                        break;\n",
       "                    }\n",
       "                }\n",
       "            }, 500);\n",
       "            "
      ],
      "text/plain": [
       "<IPython.core.display.Javascript object>"
      ]
     },
     "metadata": {},
     "output_type": "display_data"
    }
   ],
   "source": [
    "from pyutilz.logginglib import init_logging\n",
    "\n",
    "logger = init_logging(default_caller_name=\"stocksranking.py\", format=\"%(asctime)s - %(levelname)s - %(funcName)s-line:%(lineno)d - %(message)s\")\n",
    "\n",
    "logger.info(\"test\")"
   ]
  },
  {
   "cell_type": "code",
   "execution_count": 3,
   "id": "a9b4378c",
   "metadata": {},
   "outputs": [
    {
     "name": "stderr",
     "output_type": "stream",
     "text": [
      "C:\\ProgramData\\Anaconda3\\lib\\site-packages\\antropy\\fractal.py:197: NumbaDeprecationWarning: \u001b[1mThe 'nopython' keyword argument was not supplied to the 'numba.jit' decorator. The implicit default value for this argument is currently False, but it will be changed to True in Numba 0.59.0. See https://numba.readthedocs.io/en/stable/reference/deprecation.html#deprecation-of-object-mode-fall-back-behaviour-when-using-jit for details.\u001b[0m\n",
      "  @jit((types.Array(types.float64, 1, \"C\", readonly=True), types.int32))\n"
     ]
    },
    {
     "name": "stdout",
     "output_type": "stream",
     "text": [
      "time: 11.9 s (started: 2023-12-12 09:05:45 +03:00)\n"
     ]
    },
    {
     "data": {
      "application/javascript": [
       "\n",
       "            setTimeout(function() {\n",
       "                var nbb_cell_id = 3;\n",
       "                var nbb_unformatted_code = \"from stocksranking import *\";\n",
       "                var nbb_formatted_code = \"from stocksranking import *\";\n",
       "                var nbb_cells = Jupyter.notebook.get_cells();\n",
       "                for (var i = 0; i < nbb_cells.length; ++i) {\n",
       "                    if (nbb_cells[i].input_prompt_number == nbb_cell_id) {\n",
       "                        if (nbb_cells[i].get_text() == nbb_unformatted_code) {\n",
       "                             nbb_cells[i].set_text(nbb_formatted_code);\n",
       "                        }\n",
       "                        break;\n",
       "                    }\n",
       "                }\n",
       "            }, 500);\n",
       "            "
      ],
      "text/plain": [
       "<IPython.core.display.Javascript object>"
      ]
     },
     "metadata": {},
     "output_type": "display_data"
    }
   ],
   "source": [
    "from stocksranking import *"
   ]
  },
  {
   "cell_type": "markdown",
   "id": "3b95dea5",
   "metadata": {},
   "source": [
    "# Inits"
   ]
  },
  {
   "cell_type": "markdown",
   "id": "f16bbde8",
   "metadata": {
    "heading_collapsed": true
   },
   "source": [
    "# Data reading"
   ]
  },
  {
   "cell_type": "code",
   "execution_count": 158,
   "id": "9c7d5ece",
   "metadata": {
    "hidden": true
   },
   "outputs": [
    {
     "name": "stderr",
     "output_type": "stream",
     "text": [
      "<ipython-input-157-77d94f8419aa>:8: FutureWarning: The behavior of 'to_datetime' with 'unit' when parsing strings is deprecated. In a future version, strings will be parsed as datetime strings, matching the behavior without a 'unit'. To retain the old behavior, explicitly cast ints or floats to numeric type before calling to_datetime.\n",
      "  df[\"ts\"] = pd.to_datetime(df[\"ts\"], unit=\"ms\")\n"
     ]
    },
    {
     "data": {
      "application/vnd.jupyter.widget-view+json": {
       "model_id": "",
       "version_major": 2,
       "version_minor": 0
      },
      "text/plain": [
       "checking float2int:   0%|          | 0/2 [00:00<?, ?it/s]"
      ]
     },
     "metadata": {},
     "output_type": "display_data"
    },
    {
     "data": {
      "application/vnd.jupyter.widget-view+json": {
       "model_id": "",
       "version_major": 2,
       "version_minor": 0
      },
      "text/plain": [
       "size reduction:   0%|          | 0/3 [00:00<?, ?it/s]"
      ]
     },
     "metadata": {},
     "output_type": "display_data"
    },
    {
     "data": {
      "text/html": [
       "<div>\n",
       "<style scoped>\n",
       "    .dataframe tbody tr th:only-of-type {\n",
       "        vertical-align: middle;\n",
       "    }\n",
       "\n",
       "    .dataframe tbody tr th {\n",
       "        vertical-align: top;\n",
       "    }\n",
       "\n",
       "    .dataframe thead th {\n",
       "        text-align: right;\n",
       "    }\n",
       "</style>\n",
       "<table border=\"1\" class=\"dataframe\">\n",
       "  <thead>\n",
       "    <tr style=\"text-align: right;\">\n",
       "      <th></th>\n",
       "      <th>ticker</th>\n",
       "      <th>tradeid</th>\n",
       "      <th>side</th>\n",
       "      <th>volume</th>\n",
       "      <th>price</th>\n",
       "      <th>ts</th>\n",
       "    </tr>\n",
       "  </thead>\n",
       "  <tbody>\n",
       "    <tr>\n",
       "      <th>2225129</th>\n",
       "      <td>UMA-USDT</td>\n",
       "      <td>10142073</td>\n",
       "      <td>1</td>\n",
       "      <td>1.26188</td>\n",
       "      <td>1.60000</td>\n",
       "      <td>2023-11-06 15:59:11.872</td>\n",
       "    </tr>\n",
       "    <tr>\n",
       "      <th>397</th>\n",
       "      <td>VRA-USDT</td>\n",
       "      <td>10273435</td>\n",
       "      <td>-1</td>\n",
       "      <td>2329.65723</td>\n",
       "      <td>0.00657</td>\n",
       "      <td>2023-11-06 15:59:11.872</td>\n",
       "    </tr>\n",
       "    <tr>\n",
       "      <th>375</th>\n",
       "      <td>VRA-USDT</td>\n",
       "      <td>10273437</td>\n",
       "      <td>-1</td>\n",
       "      <td>25300.00000</td>\n",
       "      <td>0.00656</td>\n",
       "      <td>2023-11-06 15:59:11.872</td>\n",
       "    </tr>\n",
       "    <tr>\n",
       "      <th>363</th>\n",
       "      <td>VRA-USDT</td>\n",
       "      <td>10273438</td>\n",
       "      <td>-1</td>\n",
       "      <td>4800.00000</td>\n",
       "      <td>0.00656</td>\n",
       "      <td>2023-11-06 15:59:11.872</td>\n",
       "    </tr>\n",
       "    <tr>\n",
       "      <th>333</th>\n",
       "      <td>VRA-USDT</td>\n",
       "      <td>10273443</td>\n",
       "      <td>-1</td>\n",
       "      <td>5000.00000</td>\n",
       "      <td>0.00656</td>\n",
       "      <td>2023-11-06 15:59:11.872</td>\n",
       "    </tr>\n",
       "    <tr>\n",
       "      <th>...</th>\n",
       "      <td>...</td>\n",
       "      <td>...</td>\n",
       "      <td>...</td>\n",
       "      <td>...</td>\n",
       "      <td>...</td>\n",
       "      <td>...</td>\n",
       "    </tr>\n",
       "    <tr>\n",
       "      <th>2305738</th>\n",
       "      <td>TRB-USDT</td>\n",
       "      <td>9658736</td>\n",
       "      <td>-1</td>\n",
       "      <td>0.90756</td>\n",
       "      <td>126.14800</td>\n",
       "      <td>2023-11-07 16:00:59.392</td>\n",
       "    </tr>\n",
       "    <tr>\n",
       "      <th>2245182</th>\n",
       "      <td>TRB-USDT</td>\n",
       "      <td>9658737</td>\n",
       "      <td>1</td>\n",
       "      <td>0.17000</td>\n",
       "      <td>126.33800</td>\n",
       "      <td>2023-11-07 16:00:59.392</td>\n",
       "    </tr>\n",
       "    <tr>\n",
       "      <th>2245163</th>\n",
       "      <td>TRB-USDT</td>\n",
       "      <td>9658738</td>\n",
       "      <td>1</td>\n",
       "      <td>0.14000</td>\n",
       "      <td>126.32800</td>\n",
       "      <td>2023-11-07 16:00:59.392</td>\n",
       "    </tr>\n",
       "    <tr>\n",
       "      <th>2245154</th>\n",
       "      <td>TRB-USDT</td>\n",
       "      <td>9658739</td>\n",
       "      <td>1</td>\n",
       "      <td>0.19000</td>\n",
       "      <td>126.31700</td>\n",
       "      <td>2023-11-07 16:00:59.392</td>\n",
       "    </tr>\n",
       "    <tr>\n",
       "      <th>2245375</th>\n",
       "      <td>TRB-USDT</td>\n",
       "      <td>9658740</td>\n",
       "      <td>1</td>\n",
       "      <td>0.01300</td>\n",
       "      <td>126.43400</td>\n",
       "      <td>2023-11-07 16:00:59.392</td>\n",
       "    </tr>\n",
       "  </tbody>\n",
       "</table>\n",
       "<p>2409226 rows × 6 columns</p>\n",
       "</div>"
      ],
      "text/plain": [
       "           ticker   tradeid  side       volume      price  \\\n",
       "2225129  UMA-USDT  10142073     1      1.26188    1.60000   \n",
       "397      VRA-USDT  10273435    -1   2329.65723    0.00657   \n",
       "375      VRA-USDT  10273437    -1  25300.00000    0.00656   \n",
       "363      VRA-USDT  10273438    -1   4800.00000    0.00656   \n",
       "333      VRA-USDT  10273443    -1   5000.00000    0.00656   \n",
       "...           ...       ...   ...          ...        ...   \n",
       "2305738  TRB-USDT   9658736    -1      0.90756  126.14800   \n",
       "2245182  TRB-USDT   9658737     1      0.17000  126.33800   \n",
       "2245163  TRB-USDT   9658738     1      0.14000  126.32800   \n",
       "2245154  TRB-USDT   9658739     1      0.19000  126.31700   \n",
       "2245375  TRB-USDT   9658740     1      0.01300  126.43400   \n",
       "\n",
       "                             ts  \n",
       "2225129 2023-11-06 15:59:11.872  \n",
       "397     2023-11-06 15:59:11.872  \n",
       "375     2023-11-06 15:59:11.872  \n",
       "363     2023-11-06 15:59:11.872  \n",
       "333     2023-11-06 15:59:11.872  \n",
       "...                         ...  \n",
       "2305738 2023-11-07 16:00:59.392  \n",
       "2245182 2023-11-07 16:00:59.392  \n",
       "2245163 2023-11-07 16:00:59.392  \n",
       "2245154 2023-11-07 16:00:59.392  \n",
       "2245375 2023-11-07 16:00:59.392  \n",
       "\n",
       "[2409226 rows x 6 columns]"
      ]
     },
     "execution_count": 158,
     "metadata": {},
     "output_type": "execute_result"
    },
    {
     "name": "stdout",
     "output_type": "stream",
     "text": [
      "time: 1min 25s (started: 2023-12-04 11:46:25 +03:00)\n"
     ]
    },
    {
     "data": {
      "application/javascript": [
       "\n",
       "            setTimeout(function() {\n",
       "                var nbb_cell_id = 158;\n",
       "                var nbb_unformatted_code = \"df = read_okx_daily_trades(\\\"allspot-aggtrades-2023-11-07.zip\\\", clean=True)\\ndf\";\n",
       "                var nbb_formatted_code = \"df = read_okx_daily_trades(\\\"allspot-aggtrades-2023-11-07.zip\\\", clean=True)\\ndf\";\n",
       "                var nbb_cells = Jupyter.notebook.get_cells();\n",
       "                for (var i = 0; i < nbb_cells.length; ++i) {\n",
       "                    if (nbb_cells[i].input_prompt_number == nbb_cell_id) {\n",
       "                        if (nbb_cells[i].get_text() == nbb_unformatted_code) {\n",
       "                             nbb_cells[i].set_text(nbb_formatted_code);\n",
       "                        }\n",
       "                        break;\n",
       "                    }\n",
       "                }\n",
       "            }, 500);\n",
       "            "
      ],
      "text/plain": [
       "<IPython.core.display.Javascript object>"
      ]
     },
     "metadata": {},
     "output_type": "display_data"
    }
   ],
   "source": [
    "df = read_okx_daily_trades(\"allspot-aggtrades-2023-11-07.zip\", clean=True)\n",
    "df"
   ]
  },
  {
   "cell_type": "code",
   "execution_count": 179,
   "id": "6fdc8fc2",
   "metadata": {
    "hidden": true
   },
   "outputs": [
    {
     "data": {
      "text/plain": [
       "<Axes: xlabel='ts'>"
      ]
     },
     "execution_count": 179,
     "metadata": {},
     "output_type": "execute_result"
    },
    {
     "data": {
      "image/png": "[encoded data removed]",
      "text/plain": [
       "<Figure size 432x288 with 1 Axes>"
      ]
     },
     "metadata": {
      "needs_background": "light"
     },
     "output_type": "display_data"
    },
    {
     "name": "stdout",
     "output_type": "stream",
     "text": [
      "time: 453 ms (started: 2023-12-04 12:55:00 +03:00)\n"
     ]
    },
    {
     "data": {
      "application/javascript": [
       "\n",
       "            setTimeout(function() {\n",
       "                var nbb_cell_id = 179;\n",
       "                var nbb_unformatted_code = \"df.query(\\\"ticker=='ZIL-USDT'\\\").set_index(\\\"ts\\\").price.plot()\";\n",
       "                var nbb_formatted_code = \"df.query(\\\"ticker=='ZIL-USDT'\\\").set_index(\\\"ts\\\").price.plot()\";\n",
       "                var nbb_cells = Jupyter.notebook.get_cells();\n",
       "                for (var i = 0; i < nbb_cells.length; ++i) {\n",
       "                    if (nbb_cells[i].input_prompt_number == nbb_cell_id) {\n",
       "                        if (nbb_cells[i].get_text() == nbb_unformatted_code) {\n",
       "                             nbb_cells[i].set_text(nbb_formatted_code);\n",
       "                        }\n",
       "                        break;\n",
       "                    }\n",
       "                }\n",
       "            }, 500);\n",
       "            "
      ],
      "text/plain": [
       "<IPython.core.display.Javascript object>"
      ]
     },
     "metadata": {},
     "output_type": "display_data"
    }
   ],
   "source": [
    "df.query(\"ticker=='ZIL-USDT'\").set_index(\"ts\").price.plot()"
   ]
  },
  {
   "cell_type": "code",
   "execution_count": 125,
   "id": "ced1495b",
   "metadata": {
    "hidden": true
   },
   "outputs": [
    {
     "data": {
      "text/plain": [
       "{'BTC',\n",
       " 'DAI',\n",
       " 'ETH',\n",
       " 'EURT',\n",
       " 'PERFTESTA',\n",
       " 'PERFTESTB',\n",
       " 'RVN',\n",
       " 'TRY',\n",
       " 'USDC',\n",
       " 'USDT'}"
      ]
     },
     "execution_count": 125,
     "metadata": {},
     "output_type": "execute_result"
    },
    {
     "name": "stdout",
     "output_type": "stream",
     "text": [
      "time: 188 ms (started: 2023-12-03 21:57:47 +03:00)\n"
     ]
    },
    {
     "data": {
      "application/javascript": [
       "\n",
       "            setTimeout(function() {\n",
       "                var nbb_cell_id = 125;\n",
       "                var nbb_unformatted_code = \"set(map(lambda x: x.split(\\\"-\\\")[1], df.ticker.unique()))\";\n",
       "                var nbb_formatted_code = \"set(map(lambda x: x.split(\\\"-\\\")[1], df.ticker.unique()))\";\n",
       "                var nbb_cells = Jupyter.notebook.get_cells();\n",
       "                for (var i = 0; i < nbb_cells.length; ++i) {\n",
       "                    if (nbb_cells[i].input_prompt_number == nbb_cell_id) {\n",
       "                        if (nbb_cells[i].get_text() == nbb_unformatted_code) {\n",
       "                             nbb_cells[i].set_text(nbb_formatted_code);\n",
       "                        }\n",
       "                        break;\n",
       "                    }\n",
       "                }\n",
       "            }, 500);\n",
       "            "
      ],
      "text/plain": [
       "<IPython.core.display.Javascript object>"
      ]
     },
     "metadata": {},
     "output_type": "display_data"
    }
   ],
   "source": [
    "# basic currencies\n",
    "set(map(lambda x: x.split(\"-\")[1], df.ticker.unique()))"
   ]
  },
  {
   "cell_type": "code",
   "execution_count": 130,
   "id": "cf9b277e",
   "metadata": {
    "hidden": true
   },
   "outputs": [
    {
     "data": {
      "text/plain": [
       "['1INCH-USDC',\n",
       " '1INCH-USDT',\n",
       " 'AAVE-BTC',\n",
       " 'AAVE-ETH',\n",
       " 'AAVE-USDC',\n",
       " 'AAVE-USDT',\n",
       " 'ACA-USDT',\n",
       " 'ACH-USDT',\n",
       " 'ADA-BTC',\n",
       " 'ADA-ETH',\n",
       " 'ADA-USDC',\n",
       " 'ADA-USDT',\n",
       " 'AERGO-USDT',\n",
       " 'AGLD-USDC',\n",
       " 'AGLD-USDT',\n",
       " 'AIDOGE-USDT',\n",
       " 'AKITA-USDT',\n",
       " 'ALCX-USDT',\n",
       " 'ALGO-BTC',\n",
       " 'ALGO-USDC',\n",
       " 'ALGO-USDT',\n",
       " 'ALPHA-USDT',\n",
       " 'ANT-USDC',\n",
       " 'ANT-USDT',\n",
       " 'APE-BTC',\n",
       " 'APE-USDC',\n",
       " 'APE-USDT',\n",
       " 'API3-USDT',\n",
       " 'APM-USDT',\n",
       " 'APT-USDC',\n",
       " 'APT-USDT',\n",
       " 'AR-USDC',\n",
       " 'AR-USDT',\n",
       " 'ARB-USDT',\n",
       " 'ARG-USDT',\n",
       " 'AST-USDT',\n",
       " 'ASTR-USDC',\n",
       " 'ASTR-USDT',\n",
       " 'ATOM-BTC',\n",
       " 'ATOM-ETH',\n",
       " 'ATOM-USDC',\n",
       " 'ATOM-USDT',\n",
       " 'AUCTION-USDT',\n",
       " 'AVAX-BTC',\n",
       " 'AVAX-USDC',\n",
       " 'AVAX-USDT',\n",
       " 'AXS-USDC',\n",
       " 'AXS-USDT',\n",
       " 'AZY-USDT',\n",
       " 'BABYDOGE-USDT',\n",
       " 'BADGER-USDT',\n",
       " 'BAL-USDT',\n",
       " 'BAND-USDT',\n",
       " 'BAT-USDT',\n",
       " 'BCH-BTC',\n",
       " 'BCH-USDC',\n",
       " 'BCH-USDT',\n",
       " 'BETH-ETH',\n",
       " 'BETH-USDT',\n",
       " 'BICO-USDT',\n",
       " 'BIGTIME-USDT',\n",
       " 'BLOK-USDT',\n",
       " 'BLUR-USDC',\n",
       " 'BLUR-USDT',\n",
       " 'BNB-USDC',\n",
       " 'BNB-USDT',\n",
       " 'BNT-USDT',\n",
       " 'BONE-USDT',\n",
       " 'BORA-USDT',\n",
       " 'BORING-USDT',\n",
       " 'BRWL-USDT',\n",
       " 'BSB-RVN',\n",
       " 'BSV-BTC',\n",
       " 'BSV-USDC',\n",
       " 'BSV-USDT',\n",
       " 'BTC-DAI',\n",
       " 'BTC-EURT',\n",
       " 'BTC-USDC',\n",
       " 'BTC-USDT',\n",
       " 'BTM-USDT',\n",
       " 'BTT-USDT',\n",
       " 'BZZ-USDT',\n",
       " 'CAPO-USDT',\n",
       " 'CEEK-USDT',\n",
       " 'CEL-USDC',\n",
       " 'CEL-USDT',\n",
       " 'CELO-USDC',\n",
       " 'CELO-USDT',\n",
       " 'CELR-USDT',\n",
       " 'CETUS-USDT',\n",
       " 'CFG-USDT',\n",
       " 'CFX-USDT',\n",
       " 'CGL-USDT',\n",
       " 'CHZ-BTC',\n",
       " 'CHZ-USDC',\n",
       " 'CHZ-USDT',\n",
       " 'CITY-USDT',\n",
       " 'CLV-USDT',\n",
       " 'COMP-USDC',\n",
       " 'COMP-USDT',\n",
       " 'CONV-USDT',\n",
       " 'CORE-USDC',\n",
       " 'CORE-USDT',\n",
       " 'COVER-USDT',\n",
       " 'CQT-USDT',\n",
       " 'CRO-BTC',\n",
       " 'CRO-USDC',\n",
       " 'CRO-USDT',\n",
       " 'CRV-BTC',\n",
       " 'CRV-USDC',\n",
       " 'CRV-USDT',\n",
       " 'CSPR-USDC',\n",
       " 'CSPR-USDT',\n",
       " 'CTC-USDT',\n",
       " 'CTXC-USDT',\n",
       " 'CVC-USDT',\n",
       " 'CVP-USDT',\n",
       " 'CVX-USDT',\n",
       " 'DAI-USDT',\n",
       " 'DAO-USDT',\n",
       " 'DASH-BTC',\n",
       " 'DASH-USDC',\n",
       " 'DASH-USDT',\n",
       " 'DCR-USDT',\n",
       " 'DEP-USDT',\n",
       " 'DGB-USDT',\n",
       " 'DHT-USDT',\n",
       " 'DIA-USDT',\n",
       " 'DOGE-BTC',\n",
       " 'DOGE-ETH',\n",
       " 'DOGE-USDC',\n",
       " 'DOGE-USDT',\n",
       " 'DOME-USDT',\n",
       " 'DORA-USDT',\n",
       " 'DOSE-USDT',\n",
       " 'DOT-BTC',\n",
       " 'DOT-USDC',\n",
       " 'DOT-USDT',\n",
       " 'DYDX-BTC',\n",
       " 'DYDX-USDC',\n",
       " 'DYDX-USDT',\n",
       " 'EGLD-USDC',\n",
       " 'EGLD-USDT',\n",
       " 'ELF-USDT',\n",
       " 'ELON-USDT',\n",
       " 'EM-USDT',\n",
       " 'ENJ-USDT',\n",
       " 'ENS-USDC',\n",
       " 'ENS-USDT',\n",
       " 'EOS-BTC',\n",
       " 'EOS-ETH',\n",
       " 'EOS-USDC',\n",
       " 'EOS-USDT',\n",
       " 'ERN-USDT',\n",
       " 'ETC-BTC',\n",
       " 'ETC-USDC',\n",
       " 'ETC-USDT',\n",
       " 'ETH-BTC',\n",
       " 'ETH-DAI',\n",
       " 'ETH-EURT',\n",
       " 'ETH-USDC',\n",
       " 'ETH-USDT',\n",
       " 'ETHW-USDC',\n",
       " 'ETHW-USDT',\n",
       " 'EURT-USDT',\n",
       " 'FAME-USDT',\n",
       " 'FIL-BTC',\n",
       " 'FIL-ETH',\n",
       " 'FIL-USDC',\n",
       " 'FIL-USDT',\n",
       " 'FITFI-USDT',\n",
       " 'FLM-USDT',\n",
       " 'FLOKI-USDC',\n",
       " 'FLOKI-USDT',\n",
       " 'FLOW-USDC',\n",
       " 'FLOW-USDT',\n",
       " 'FLR-USDC',\n",
       " 'FLR-USDT',\n",
       " 'FORTH-USDT',\n",
       " 'FRONT-USDT',\n",
       " 'FSN-USDT',\n",
       " 'FTM-USDC',\n",
       " 'FTM-USDT',\n",
       " 'FXS-USDT',\n",
       " 'GAL-USDT',\n",
       " 'GALA-USDC',\n",
       " 'GALA-USDT',\n",
       " 'GALFT-USDT',\n",
       " 'GARI-USDT',\n",
       " 'GAS-USDT',\n",
       " 'GEAR-USDT',\n",
       " 'GF-USDT',\n",
       " 'GFT-USDT',\n",
       " 'GHST-USDT',\n",
       " 'GLM-USDT',\n",
       " 'GLMR-USDT',\n",
       " 'GMT-USDC',\n",
       " 'GMT-USDT',\n",
       " 'GMX-USDC',\n",
       " 'GMX-USDT',\n",
       " 'GOAL-USDT',\n",
       " 'GODS-USDT',\n",
       " 'GOG-USDT',\n",
       " 'GRT-BTC',\n",
       " 'GRT-USDC',\n",
       " 'GRT-USDT',\n",
       " 'HBAR-BTC',\n",
       " 'HBAR-USDC',\n",
       " 'HBAR-USDT',\n",
       " 'HC-USDT',\n",
       " 'HNT-USDT',\n",
       " 'ICP-USDC',\n",
       " 'ICP-USDT',\n",
       " 'ICX-USDT',\n",
       " 'ID-USDT',\n",
       " 'IGU-USDT',\n",
       " 'ILV-USDT',\n",
       " 'IMX-USDC',\n",
       " 'IMX-USDT',\n",
       " 'IOST-USDC',\n",
       " 'IOST-USDT',\n",
       " 'IOTA-USDT',\n",
       " 'IQ-USDT',\n",
       " 'JOE-USDT',\n",
       " 'JPG-USDT',\n",
       " 'JST-USDC',\n",
       " 'JST-USDT',\n",
       " 'KAN-USDT',\n",
       " 'KAR-USDT',\n",
       " 'KCAL-USDT',\n",
       " 'KDA-USDT',\n",
       " 'KINE-USDT',\n",
       " 'KISHU-USDT',\n",
       " 'KLAY-USDC',\n",
       " 'KLAY-USDT',\n",
       " 'KNC-USDC',\n",
       " 'KNC-USDT',\n",
       " 'KONO-USDT',\n",
       " 'KP3R-USDT',\n",
       " 'KSM-USDC',\n",
       " 'KSM-USDT',\n",
       " 'LAMB-USDT',\n",
       " 'LAT-USDT',\n",
       " 'LBR-USDT',\n",
       " 'LDO-USDT',\n",
       " 'LEASH-USDT',\n",
       " 'LEO-USDT',\n",
       " 'LET-USDT',\n",
       " 'LHINU-USDT',\n",
       " 'LING-USDT',\n",
       " 'LINK-BTC',\n",
       " 'LINK-ETH',\n",
       " 'LINK-USDC',\n",
       " 'LINK-USDT',\n",
       " 'LITH-USDT',\n",
       " 'LON-USDT',\n",
       " 'LOOKS-USDC',\n",
       " 'LOOKS-USDT',\n",
       " 'LPT-USDT',\n",
       " 'LQTY-USDT',\n",
       " 'LRC-USDC',\n",
       " 'LRC-USDT',\n",
       " 'LSK-USDT',\n",
       " 'LTC-BTC',\n",
       " 'LTC-ETH',\n",
       " 'LTC-USDC',\n",
       " 'LTC-USDT',\n",
       " 'LUNA-USDC',\n",
       " 'LUNA-USDT',\n",
       " 'LUNC-USDC',\n",
       " 'LUNC-USDT',\n",
       " 'MAGIC-USDT',\n",
       " 'MANA-BTC',\n",
       " 'MANA-USDC',\n",
       " 'MANA-USDT',\n",
       " 'MASK-USDC',\n",
       " 'MASK-USDT',\n",
       " 'MATIC-BTC',\n",
       " 'MATIC-USDC',\n",
       " 'MATIC-USDT',\n",
       " 'MDT-USDT',\n",
       " 'MEME-USDT',\n",
       " 'MENGO-USDT',\n",
       " 'METIS-USDT',\n",
       " 'MILO-USDT',\n",
       " 'MINA-USDC',\n",
       " 'MINA-USDT',\n",
       " 'MKR-BTC',\n",
       " 'MKR-USDC',\n",
       " 'MKR-USDT',\n",
       " 'MLN-USDT',\n",
       " 'MOVEZ-USDT',\n",
       " 'MOVR-USDT',\n",
       " 'MRST-USDT',\n",
       " 'MXC-USDT',\n",
       " 'MYRIA-USDT',\n",
       " 'NEAR-BTC',\n",
       " 'NEAR-ETH',\n",
       " 'NEAR-USDC',\n",
       " 'NEAR-USDT',\n",
       " 'NEO-BTC',\n",
       " 'NEO-USDT',\n",
       " 'NFT-USDT',\n",
       " 'NMR-USDT',\n",
       " 'NULS-USDT',\n",
       " 'NYM-USDT',\n",
       " 'OAS-USDT',\n",
       " 'OKB-BTC',\n",
       " 'OKB-ETH',\n",
       " 'OKB-USDC',\n",
       " 'OKB-USDT',\n",
       " 'OKT-BTC',\n",
       " 'OKT-ETH',\n",
       " 'OKT-USDC',\n",
       " 'OKT-USDT',\n",
       " 'OM-USDT',\n",
       " 'OMG-USDC',\n",
       " 'OMG-USDT',\n",
       " 'OMI-USDT',\n",
       " 'OMN-USDT',\n",
       " 'ONE-USDT',\n",
       " 'ONT-USDT',\n",
       " 'OP-USDC',\n",
       " 'OP-USDT',\n",
       " 'ORB-USDT',\n",
       " 'ORBS-USDT',\n",
       " 'ORDI-USDT',\n",
       " 'OXT-USDT',\n",
       " 'PCI-USDT',\n",
       " 'PEOPLE-USDT',\n",
       " 'PEPE-USDT',\n",
       " 'PERFTESTA-PERFTESTB',\n",
       " 'PERFTESTB-PERFTESTA',\n",
       " 'PERP-USDT',\n",
       " 'PHA-USDT',\n",
       " 'PICKLE-USDT',\n",
       " 'PIT-USDT',\n",
       " 'POLS-USDT',\n",
       " 'POLYDOGE-USDT',\n",
       " 'POR-USDT',\n",
       " 'PRQ-USDT',\n",
       " 'PSTAKE-USDT',\n",
       " 'QOM-USDT',\n",
       " 'QTUM-BTC',\n",
       " 'QTUM-USDT',\n",
       " 'RACA-USDT',\n",
       " 'RADAR-USDT',\n",
       " 'RAY-USDT',\n",
       " 'RDNT-USDC',\n",
       " 'RDNT-USDT',\n",
       " 'REN-USDT',\n",
       " 'REP-USDT',\n",
       " 'REVV-USDT',\n",
       " 'RIO-USDT',\n",
       " 'RNDR-USDT',\n",
       " 'RON-USDT',\n",
       " 'RPL-USDC',\n",
       " 'RPL-USDT',\n",
       " 'RSR-USDT',\n",
       " 'RSS3-USDT',\n",
       " 'RVN-USDT',\n",
       " 'SAITAMA-USDT',\n",
       " 'SAMO-USDT',\n",
       " 'SAND-USDC',\n",
       " 'SAND-USDT',\n",
       " 'SC-USDT',\n",
       " 'SD-USDT',\n",
       " 'SHIB-BTC',\n",
       " 'SHIB-USDC',\n",
       " 'SHIB-USDT',\n",
       " 'SIS-USDT',\n",
       " 'SKEB-USDT',\n",
       " 'SKL-USDT',\n",
       " 'SLP-USDT',\n",
       " 'SNT-USDT',\n",
       " 'SNX-USDC',\n",
       " 'SNX-USDT',\n",
       " 'SOL-BTC',\n",
       " 'SOL-ETH',\n",
       " 'SOL-USDC',\n",
       " 'SOL-USDT',\n",
       " 'SPELL-USDT',\n",
       " 'SPURS-USDT',\n",
       " 'SSV-USDT',\n",
       " 'SSWP-USDT',\n",
       " 'STARL-USDT',\n",
       " 'STC-USDT',\n",
       " 'STETH-ETH',\n",
       " 'STETH-USDT',\n",
       " 'STORJ-USDC',\n",
       " 'STORJ-USDT',\n",
       " 'STX-BTC',\n",
       " 'STX-USDC',\n",
       " 'STX-USDT',\n",
       " 'SUI-USDT',\n",
       " 'SUN-USDT',\n",
       " 'SUSHI-USDC',\n",
       " 'SUSHI-USDT',\n",
       " 'SWEAT-USDT',\n",
       " 'SWFTC-USDT',\n",
       " 'T-USDT',\n",
       " 'TAKI-USDT',\n",
       " 'TAMA-USDT',\n",
       " 'THETA-USDC',\n",
       " 'THETA-USDT',\n",
       " 'THG-USDT',\n",
       " 'TIA-USDT',\n",
       " 'TON-USDC',\n",
       " 'TON-USDT',\n",
       " 'TRA-USDT',\n",
       " 'TRB-USDT',\n",
       " 'TRX-BTC',\n",
       " 'TRX-ETH',\n",
       " 'TRX-USDC',\n",
       " 'TRX-USDT',\n",
       " 'TUP-USDT',\n",
       " 'TURBO-USDT',\n",
       " 'UMA-USDT',\n",
       " 'UNI-BTC',\n",
       " 'UNI-USDC',\n",
       " 'UNI-USDT',\n",
       " 'UP-RVN',\n",
       " 'USDC-USDT',\n",
       " 'USDT-TRY',\n",
       " 'USDT-USDC',\n",
       " 'USTC-USDT',\n",
       " 'UTK-USDT',\n",
       " 'VELA-USDT',\n",
       " 'VELO-USDT',\n",
       " 'VELODROME-USDT',\n",
       " 'VRA-USDT',\n",
       " 'VSYS-USDT',\n",
       " 'WAVES-USDC',\n",
       " 'WAVES-USDT',\n",
       " 'WAXP-USDT',\n",
       " 'WBTC-BTC',\n",
       " 'WBTC-USDT',\n",
       " 'WGRT-USDT',\n",
       " 'WIFI-USDT',\n",
       " 'WIN-USDT',\n",
       " 'WLD-USDT',\n",
       " 'WNCG-USDT',\n",
       " 'WOO-USDT',\n",
       " 'WSB-USDT',\n",
       " 'WSM-USDT',\n",
       " 'WXT-USDT',\n",
       " 'XAUT-USDT',\n",
       " 'XCH-BTC',\n",
       " 'XCH-USDT',\n",
       " 'XEC-USDT',\n",
       " 'XEM-USDT',\n",
       " 'XETA-USDT',\n",
       " 'XLM-BTC',\n",
       " 'XLM-ETH',\n",
       " 'XLM-USDC',\n",
       " 'XLM-USDT',\n",
       " 'XMR-BTC',\n",
       " 'XMR-ETH',\n",
       " 'XMR-USDC',\n",
       " 'XMR-USDT',\n",
       " 'XNO-USDT',\n",
       " 'XPR-USDT',\n",
       " 'XRP-BTC',\n",
       " 'XRP-ETH',\n",
       " 'XRP-USDC',\n",
       " 'XRP-USDT',\n",
       " 'XTZ-USDC',\n",
       " 'XTZ-USDT',\n",
       " 'YFI-USDC',\n",
       " 'YFI-USDT',\n",
       " 'YFII-USDC',\n",
       " 'YFII-USDT',\n",
       " 'YGG-USDC',\n",
       " 'YGG-USDT',\n",
       " 'ZBC-USDT',\n",
       " 'ZEC-BTC',\n",
       " 'ZEC-USDC',\n",
       " 'ZEC-USDT',\n",
       " 'ZEN-BTC',\n",
       " 'ZEN-USDT',\n",
       " 'ZIL-USDC',\n",
       " 'ZIL-USDT',\n",
       " 'ZKS-USDT',\n",
       " 'ZRX-USDT']"
      ]
     },
     "execution_count": 130,
     "metadata": {},
     "output_type": "execute_result"
    },
    {
     "name": "stdout",
     "output_type": "stream",
     "text": [
      "time: 187 ms (started: 2023-12-03 22:01:03 +03:00)\n"
     ]
    },
    {
     "data": {
      "application/javascript": [
       "\n",
       "            setTimeout(function() {\n",
       "                var nbb_cell_id = 130;\n",
       "                var nbb_unformatted_code = \"sorted(df.ticker.unique())\";\n",
       "                var nbb_formatted_code = \"sorted(df.ticker.unique())\";\n",
       "                var nbb_cells = Jupyter.notebook.get_cells();\n",
       "                for (var i = 0; i < nbb_cells.length; ++i) {\n",
       "                    if (nbb_cells[i].input_prompt_number == nbb_cell_id) {\n",
       "                        if (nbb_cells[i].get_text() == nbb_unformatted_code) {\n",
       "                             nbb_cells[i].set_text(nbb_formatted_code);\n",
       "                        }\n",
       "                        break;\n",
       "                    }\n",
       "                }\n",
       "            }, 500);\n",
       "            "
      ],
      "text/plain": [
       "<IPython.core.display.Javascript object>"
      ]
     },
     "metadata": {},
     "output_type": "display_data"
    }
   ],
   "source": [
    "#unique tickers\n",
    "sorted(df.ticker.unique())"
   ]
  },
  {
   "cell_type": "markdown",
   "id": "b60fe8ed",
   "metadata": {
    "hidden": true
   },
   "source": [
    "## Looking at data"
   ]
  },
  {
   "cell_type": "code",
   "execution_count": 153,
   "id": "318dfe22",
   "metadata": {
    "hidden": true
   },
   "outputs": [
    {
     "data": {
      "text/html": [
       "<div>\n",
       "<style scoped>\n",
       "    .dataframe tbody tr th:only-of-type {\n",
       "        vertical-align: middle;\n",
       "    }\n",
       "\n",
       "    .dataframe tbody tr th {\n",
       "        vertical-align: top;\n",
       "    }\n",
       "\n",
       "    .dataframe thead th {\n",
       "        text-align: right;\n",
       "    }\n",
       "</style>\n",
       "<table border=\"1\" class=\"dataframe\">\n",
       "  <thead>\n",
       "    <tr style=\"text-align: right;\">\n",
       "      <th></th>\n",
       "      <th>ticker</th>\n",
       "      <th>tradeid</th>\n",
       "      <th>side</th>\n",
       "      <th>volume</th>\n",
       "      <th>price</th>\n",
       "      <th>ts</th>\n",
       "    </tr>\n",
       "  </thead>\n",
       "  <tbody>\n",
       "    <tr>\n",
       "      <th>2228611</th>\n",
       "      <td>UNI-BTC</td>\n",
       "      <td>5330464</td>\n",
       "      <td>1</td>\n",
       "      <td>2.33921</td>\n",
       "      <td>0.00014</td>\n",
       "      <td>2023-11-06 16:01:37.621</td>\n",
       "    </tr>\n",
       "    <tr>\n",
       "      <th>97269</th>\n",
       "      <td>UNI-BTC</td>\n",
       "      <td>5330465</td>\n",
       "      <td>-1</td>\n",
       "      <td>57.40648</td>\n",
       "      <td>0.00014</td>\n",
       "      <td>2023-11-06 16:05:45.088</td>\n",
       "    </tr>\n",
       "    <tr>\n",
       "      <th>2228593</th>\n",
       "      <td>UNI-BTC</td>\n",
       "      <td>5330473</td>\n",
       "      <td>1</td>\n",
       "      <td>27.76676</td>\n",
       "      <td>0.00014</td>\n",
       "      <td>2023-11-06 16:16:31.735</td>\n",
       "    </tr>\n",
       "    <tr>\n",
       "      <th>97253</th>\n",
       "      <td>UNI-BTC</td>\n",
       "      <td>5330468</td>\n",
       "      <td>-1</td>\n",
       "      <td>2.34780</td>\n",
       "      <td>0.00014</td>\n",
       "      <td>2023-11-06 16:16:40.448</td>\n",
       "    </tr>\n",
       "    <tr>\n",
       "      <th>97252</th>\n",
       "      <td>UNI-BTC</td>\n",
       "      <td>5330471</td>\n",
       "      <td>-1</td>\n",
       "      <td>161.20285</td>\n",
       "      <td>0.00014</td>\n",
       "      <td>2023-11-06 16:16:40.448</td>\n",
       "    </tr>\n",
       "    <tr>\n",
       "      <th>...</th>\n",
       "      <td>...</td>\n",
       "      <td>...</td>\n",
       "      <td>...</td>\n",
       "      <td>...</td>\n",
       "      <td>...</td>\n",
       "      <td>...</td>\n",
       "    </tr>\n",
       "    <tr>\n",
       "      <th>2228505</th>\n",
       "      <td>UNI-BTC</td>\n",
       "      <td>5330930</td>\n",
       "      <td>1</td>\n",
       "      <td>2.15208</td>\n",
       "      <td>0.00014</td>\n",
       "      <td>2023-11-07 15:50:01.493</td>\n",
       "    </tr>\n",
       "    <tr>\n",
       "      <th>97109</th>\n",
       "      <td>UNI-BTC</td>\n",
       "      <td>5330933</td>\n",
       "      <td>-1</td>\n",
       "      <td>49.72976</td>\n",
       "      <td>0.00014</td>\n",
       "      <td>2023-11-07 15:50:04.032</td>\n",
       "    </tr>\n",
       "    <tr>\n",
       "      <th>97107</th>\n",
       "      <td>UNI-BTC</td>\n",
       "      <td>5330934</td>\n",
       "      <td>-1</td>\n",
       "      <td>49.69999</td>\n",
       "      <td>0.00014</td>\n",
       "      <td>2023-11-07 15:50:04.032</td>\n",
       "    </tr>\n",
       "    <tr>\n",
       "      <th>2228506</th>\n",
       "      <td>UNI-BTC</td>\n",
       "      <td>5330931</td>\n",
       "      <td>1</td>\n",
       "      <td>0.27024</td>\n",
       "      <td>0.00014</td>\n",
       "      <td>2023-11-07 15:50:28.023</td>\n",
       "    </tr>\n",
       "    <tr>\n",
       "      <th>97110</th>\n",
       "      <td>UNI-BTC</td>\n",
       "      <td>5330936</td>\n",
       "      <td>-1</td>\n",
       "      <td>15.00000</td>\n",
       "      <td>0.00014</td>\n",
       "      <td>2023-11-07 15:52:15.104</td>\n",
       "    </tr>\n",
       "  </tbody>\n",
       "</table>\n",
       "<p>321 rows × 6 columns</p>\n",
       "</div>"
      ],
      "text/plain": [
       "          ticker  tradeid  side     volume    price                      ts\n",
       "2228611  UNI-BTC  5330464     1    2.33921  0.00014 2023-11-06 16:01:37.621\n",
       "97269    UNI-BTC  5330465    -1   57.40648  0.00014 2023-11-06 16:05:45.088\n",
       "2228593  UNI-BTC  5330473     1   27.76676  0.00014 2023-11-06 16:16:31.735\n",
       "97253    UNI-BTC  5330468    -1    2.34780  0.00014 2023-11-06 16:16:40.448\n",
       "97252    UNI-BTC  5330471    -1  161.20285  0.00014 2023-11-06 16:16:40.448\n",
       "...          ...      ...   ...        ...      ...                     ...\n",
       "2228505  UNI-BTC  5330930     1    2.15208  0.00014 2023-11-07 15:50:01.493\n",
       "97109    UNI-BTC  5330933    -1   49.72976  0.00014 2023-11-07 15:50:04.032\n",
       "97107    UNI-BTC  5330934    -1   49.69999  0.00014 2023-11-07 15:50:04.032\n",
       "2228506  UNI-BTC  5330931     1    0.27024  0.00014 2023-11-07 15:50:28.023\n",
       "97110    UNI-BTC  5330936    -1   15.00000  0.00014 2023-11-07 15:52:15.104\n",
       "\n",
       "[321 rows x 6 columns]"
      ]
     },
     "execution_count": 153,
     "metadata": {},
     "output_type": "execute_result"
    },
    {
     "name": "stdout",
     "output_type": "stream",
     "text": [
      "time: 109 ms (started: 2023-12-04 11:30:23 +03:00)\n"
     ]
    },
    {
     "data": {
      "application/javascript": [
       "\n",
       "            setTimeout(function() {\n",
       "                var nbb_cell_id = 153;\n",
       "                var nbb_unformatted_code = \"df.query(\\\"ticker=='UNI-BTC'\\\")#.sort_values(\\\"tradeid\\\").price.plot()\";\n",
       "                var nbb_formatted_code = \"df.query(\\\"ticker=='UNI-BTC'\\\")  # .sort_values(\\\"tradeid\\\").price.plot()\";\n",
       "                var nbb_cells = Jupyter.notebook.get_cells();\n",
       "                for (var i = 0; i < nbb_cells.length; ++i) {\n",
       "                    if (nbb_cells[i].input_prompt_number == nbb_cell_id) {\n",
       "                        if (nbb_cells[i].get_text() == nbb_unformatted_code) {\n",
       "                             nbb_cells[i].set_text(nbb_formatted_code);\n",
       "                        }\n",
       "                        break;\n",
       "                    }\n",
       "                }\n",
       "            }, 500);\n",
       "            "
      ],
      "text/plain": [
       "<IPython.core.display.Javascript object>"
      ]
     },
     "metadata": {},
     "output_type": "display_data"
    }
   ],
   "source": [
    "df.query(\"ticker=='UNI-BTC'\")  # .sort_values(\"tradeid\").price.plot()"
   ]
  },
  {
   "cell_type": "code",
   "execution_count": 147,
   "id": "57290814",
   "metadata": {
    "hidden": true
   },
   "outputs": [
    {
     "data": {
      "text/html": [
       "<div>\n",
       "<style scoped>\n",
       "    .dataframe tbody tr th:only-of-type {\n",
       "        vertical-align: middle;\n",
       "    }\n",
       "\n",
       "    .dataframe tbody tr th {\n",
       "        vertical-align: top;\n",
       "    }\n",
       "\n",
       "    .dataframe thead th {\n",
       "        text-align: right;\n",
       "    }\n",
       "</style>\n",
       "<table border=\"1\" class=\"dataframe\">\n",
       "  <thead>\n",
       "    <tr style=\"text-align: right;\">\n",
       "      <th></th>\n",
       "      <th>ticker</th>\n",
       "      <th>tradeid</th>\n",
       "      <th>side</th>\n",
       "      <th>volume</th>\n",
       "      <th>price</th>\n",
       "      <th>ts</th>\n",
       "    </tr>\n",
       "  </thead>\n",
       "  <tbody>\n",
       "    <tr>\n",
       "      <th>1333189</th>\n",
       "      <td>BTC-USDT</td>\n",
       "      <td>446015659</td>\n",
       "      <td>-1</td>\n",
       "      <td>0.04000</td>\n",
       "      <td>35080.00000</td>\n",
       "      <td>2023-11-06 16:00:04.693</td>\n",
       "    </tr>\n",
       "    <tr>\n",
       "      <th>1333140</th>\n",
       "      <td>BTC-USDT</td>\n",
       "      <td>446015661</td>\n",
       "      <td>-1</td>\n",
       "      <td>0.01123</td>\n",
       "      <td>35078.69922</td>\n",
       "      <td>2023-11-06 16:00:04.693</td>\n",
       "    </tr>\n",
       "    <tr>\n",
       "      <th>1333136</th>\n",
       "      <td>BTC-USDT</td>\n",
       "      <td>446015662</td>\n",
       "      <td>-1</td>\n",
       "      <td>0.00414</td>\n",
       "      <td>35078.60156</td>\n",
       "      <td>2023-11-06 16:00:04.693</td>\n",
       "    </tr>\n",
       "    <tr>\n",
       "      <th>1061738</th>\n",
       "      <td>BTC-USDT</td>\n",
       "      <td>446015664</td>\n",
       "      <td>1</td>\n",
       "      <td>0.11255</td>\n",
       "      <td>35076.30078</td>\n",
       "      <td>2023-11-06 16:00:04.727</td>\n",
       "    </tr>\n",
       "    <tr>\n",
       "      <th>1061752</th>\n",
       "      <td>BTC-USDT</td>\n",
       "      <td>446015665</td>\n",
       "      <td>1</td>\n",
       "      <td>0.02989</td>\n",
       "      <td>35076.69922</td>\n",
       "      <td>2023-11-06 16:00:04.727</td>\n",
       "    </tr>\n",
       "    <tr>\n",
       "      <th>...</th>\n",
       "      <td>...</td>\n",
       "      <td>...</td>\n",
       "      <td>...</td>\n",
       "      <td>...</td>\n",
       "      <td>...</td>\n",
       "      <td>...</td>\n",
       "    </tr>\n",
       "    <tr>\n",
       "      <th>1033316</th>\n",
       "      <td>BTC-USDT</td>\n",
       "      <td>446214833</td>\n",
       "      <td>1</td>\n",
       "      <td>0.00042</td>\n",
       "      <td>34722.19922</td>\n",
       "      <td>2023-11-07 15:59:32.455</td>\n",
       "    </tr>\n",
       "    <tr>\n",
       "      <th>1299089</th>\n",
       "      <td>BTC-USDT</td>\n",
       "      <td>446214837</td>\n",
       "      <td>-1</td>\n",
       "      <td>0.03280</td>\n",
       "      <td>34723.19922</td>\n",
       "      <td>2023-11-07 15:59:37.410</td>\n",
       "    </tr>\n",
       "    <tr>\n",
       "      <th>1033394</th>\n",
       "      <td>BTC-USDT</td>\n",
       "      <td>446214838</td>\n",
       "      <td>1</td>\n",
       "      <td>0.03562</td>\n",
       "      <td>34723.30078</td>\n",
       "      <td>2023-11-07 15:59:40.357</td>\n",
       "    </tr>\n",
       "    <tr>\n",
       "      <th>1299106</th>\n",
       "      <td>BTC-USDT</td>\n",
       "      <td>446214839</td>\n",
       "      <td>-1</td>\n",
       "      <td>0.00283</td>\n",
       "      <td>34723.39844</td>\n",
       "      <td>2023-11-07 15:59:50.579</td>\n",
       "    </tr>\n",
       "    <tr>\n",
       "      <th>1033417</th>\n",
       "      <td>BTC-USDT</td>\n",
       "      <td>446214844</td>\n",
       "      <td>1</td>\n",
       "      <td>0.01427</td>\n",
       "      <td>34723.50000</td>\n",
       "      <td>2023-11-07 15:59:55.996</td>\n",
       "    </tr>\n",
       "  </tbody>\n",
       "</table>\n",
       "<p>89730 rows × 6 columns</p>\n",
       "</div>"
      ],
      "text/plain": [
       "           ticker    tradeid  side   volume        price  \\\n",
       "1333189  BTC-USDT  446015659    -1  0.04000  35080.00000   \n",
       "1333140  BTC-USDT  446015661    -1  0.01123  35078.69922   \n",
       "1333136  BTC-USDT  446015662    -1  0.00414  35078.60156   \n",
       "1061738  BTC-USDT  446015664     1  0.11255  35076.30078   \n",
       "1061752  BTC-USDT  446015665     1  0.02989  35076.69922   \n",
       "...           ...        ...   ...      ...          ...   \n",
       "1033316  BTC-USDT  446214833     1  0.00042  34722.19922   \n",
       "1299089  BTC-USDT  446214837    -1  0.03280  34723.19922   \n",
       "1033394  BTC-USDT  446214838     1  0.03562  34723.30078   \n",
       "1299106  BTC-USDT  446214839    -1  0.00283  34723.39844   \n",
       "1033417  BTC-USDT  446214844     1  0.01427  34723.50000   \n",
       "\n",
       "                             ts  \n",
       "1333189 2023-11-06 16:00:04.693  \n",
       "1333140 2023-11-06 16:00:04.693  \n",
       "1333136 2023-11-06 16:00:04.693  \n",
       "1061738 2023-11-06 16:00:04.727  \n",
       "1061752 2023-11-06 16:00:04.727  \n",
       "...                         ...  \n",
       "1033316 2023-11-07 15:59:32.455  \n",
       "1299089 2023-11-07 15:59:37.410  \n",
       "1033394 2023-11-07 15:59:40.357  \n",
       "1299106 2023-11-07 15:59:50.579  \n",
       "1033417 2023-11-07 15:59:55.996  \n",
       "\n",
       "[89730 rows x 6 columns]"
      ]
     },
     "execution_count": 147,
     "metadata": {},
     "output_type": "execute_result"
    },
    {
     "name": "stdout",
     "output_type": "stream",
     "text": [
      "time: 125 ms (started: 2023-12-04 11:20:17 +03:00)\n"
     ]
    },
    {
     "data": {
      "application/javascript": [
       "\n",
       "            setTimeout(function() {\n",
       "                var nbb_cell_id = 147;\n",
       "                var nbb_unformatted_code = \"df.query(\\\"ticker=='BTC-USDT'\\\")\";\n",
       "                var nbb_formatted_code = \"df.query(\\\"ticker=='BTC-USDT'\\\")\";\n",
       "                var nbb_cells = Jupyter.notebook.get_cells();\n",
       "                for (var i = 0; i < nbb_cells.length; ++i) {\n",
       "                    if (nbb_cells[i].input_prompt_number == nbb_cell_id) {\n",
       "                        if (nbb_cells[i].get_text() == nbb_unformatted_code) {\n",
       "                             nbb_cells[i].set_text(nbb_formatted_code);\n",
       "                        }\n",
       "                        break;\n",
       "                    }\n",
       "                }\n",
       "            }, 500);\n",
       "            "
      ],
      "text/plain": [
       "<IPython.core.display.Javascript object>"
      ]
     },
     "metadata": {},
     "output_type": "display_data"
    }
   ],
   "source": [
    "df.query(\"ticker=='BTC-USDT'\")"
   ]
  },
  {
   "cell_type": "code",
   "execution_count": 173,
   "id": "05861257",
   "metadata": {
    "hidden": true,
    "scrolled": true
   },
   "outputs": [
    {
     "data": {
      "text/html": [
       "<div>\n",
       "<style scoped>\n",
       "    .dataframe tbody tr th:only-of-type {\n",
       "        vertical-align: middle;\n",
       "    }\n",
       "\n",
       "    .dataframe tbody tr th {\n",
       "        vertical-align: top;\n",
       "    }\n",
       "\n",
       "    .dataframe thead th {\n",
       "        text-align: right;\n",
       "    }\n",
       "</style>\n",
       "<table border=\"1\" class=\"dataframe\">\n",
       "  <thead>\n",
       "    <tr style=\"text-align: right;\">\n",
       "      <th></th>\n",
       "      <th>ticker</th>\n",
       "      <th>tradeid</th>\n",
       "      <th>side</th>\n",
       "      <th>volume</th>\n",
       "      <th>price</th>\n",
       "      <th>ts</th>\n",
       "    </tr>\n",
       "  </thead>\n",
       "  <tbody>\n",
       "    <tr>\n",
       "      <th>1271765</th>\n",
       "      <td>BSB-RVN</td>\n",
       "      <td>767717</td>\n",
       "      <td>-1</td>\n",
       "      <td>308.32999</td>\n",
       "      <td>0.0100</td>\n",
       "      <td>2023-11-06 17:30:56.896</td>\n",
       "    </tr>\n",
       "    <tr>\n",
       "      <th>1271766</th>\n",
       "      <td>BSB-RVN</td>\n",
       "      <td>767718</td>\n",
       "      <td>-1</td>\n",
       "      <td>314.38000</td>\n",
       "      <td>0.0100</td>\n",
       "      <td>2023-11-06 17:35:19.040</td>\n",
       "    </tr>\n",
       "    <tr>\n",
       "      <th>986281</th>\n",
       "      <td>BSB-RVN</td>\n",
       "      <td>767719</td>\n",
       "      <td>1</td>\n",
       "      <td>236.19048</td>\n",
       "      <td>0.0105</td>\n",
       "      <td>2023-11-06 17:35:19.040</td>\n",
       "    </tr>\n",
       "    <tr>\n",
       "      <th>986282</th>\n",
       "      <td>BSB-RVN</td>\n",
       "      <td>767720</td>\n",
       "      <td>1</td>\n",
       "      <td>208.00000</td>\n",
       "      <td>0.0105</td>\n",
       "      <td>2023-11-06 17:50:36.544</td>\n",
       "    </tr>\n",
       "    <tr>\n",
       "      <th>1271767</th>\n",
       "      <td>BSB-RVN</td>\n",
       "      <td>767721</td>\n",
       "      <td>-1</td>\n",
       "      <td>261.03000</td>\n",
       "      <td>0.0100</td>\n",
       "      <td>2023-11-06 18:14:38.336</td>\n",
       "    </tr>\n",
       "    <tr>\n",
       "      <th>986283</th>\n",
       "      <td>BSB-RVN</td>\n",
       "      <td>767722</td>\n",
       "      <td>1</td>\n",
       "      <td>249.52380</td>\n",
       "      <td>0.0105</td>\n",
       "      <td>2023-11-06 18:19:00.480</td>\n",
       "    </tr>\n",
       "    <tr>\n",
       "      <th>1271768</th>\n",
       "      <td>BSB-RVN</td>\n",
       "      <td>767723</td>\n",
       "      <td>-1</td>\n",
       "      <td>178.20000</td>\n",
       "      <td>0.0100</td>\n",
       "      <td>2023-11-06 19:46:23.360</td>\n",
       "    </tr>\n",
       "    <tr>\n",
       "      <th>1271769</th>\n",
       "      <td>BSB-RVN</td>\n",
       "      <td>767724</td>\n",
       "      <td>-1</td>\n",
       "      <td>128.03999</td>\n",
       "      <td>0.0100</td>\n",
       "      <td>2023-11-06 20:41:00.160</td>\n",
       "    </tr>\n",
       "    <tr>\n",
       "      <th>986284</th>\n",
       "      <td>BSB-RVN</td>\n",
       "      <td>767725</td>\n",
       "      <td>1</td>\n",
       "      <td>190.47620</td>\n",
       "      <td>0.0105</td>\n",
       "      <td>2023-11-06 20:56:17.664</td>\n",
       "    </tr>\n",
       "    <tr>\n",
       "      <th>1271770</th>\n",
       "      <td>BSB-RVN</td>\n",
       "      <td>767726</td>\n",
       "      <td>-1</td>\n",
       "      <td>364.10001</td>\n",
       "      <td>0.0100</td>\n",
       "      <td>2023-11-06 23:07:21.984</td>\n",
       "    </tr>\n",
       "    <tr>\n",
       "      <th>986285</th>\n",
       "      <td>BSB-RVN</td>\n",
       "      <td>767728</td>\n",
       "      <td>1</td>\n",
       "      <td>549.04761</td>\n",
       "      <td>0.0105</td>\n",
       "      <td>2023-11-06 23:07:21.984</td>\n",
       "    </tr>\n",
       "    <tr>\n",
       "      <th>1271771</th>\n",
       "      <td>BSB-RVN</td>\n",
       "      <td>767729</td>\n",
       "      <td>-1</td>\n",
       "      <td>155.32001</td>\n",
       "      <td>0.0100</td>\n",
       "      <td>2023-11-07 02:28:20.608</td>\n",
       "    </tr>\n",
       "    <tr>\n",
       "      <th>1271772</th>\n",
       "      <td>BSB-RVN</td>\n",
       "      <td>767730</td>\n",
       "      <td>-1</td>\n",
       "      <td>254.42999</td>\n",
       "      <td>0.0100</td>\n",
       "      <td>2023-11-07 08:02:34.624</td>\n",
       "    </tr>\n",
       "    <tr>\n",
       "      <th>1271773</th>\n",
       "      <td>BSB-RVN</td>\n",
       "      <td>767731</td>\n",
       "      <td>-1</td>\n",
       "      <td>321.31000</td>\n",
       "      <td>0.0100</td>\n",
       "      <td>2023-11-07 09:38:41.792</td>\n",
       "    </tr>\n",
       "    <tr>\n",
       "      <th>1271774</th>\n",
       "      <td>BSB-RVN</td>\n",
       "      <td>767732</td>\n",
       "      <td>-1</td>\n",
       "      <td>127.93000</td>\n",
       "      <td>0.0100</td>\n",
       "      <td>2023-11-07 09:40:52.864</td>\n",
       "    </tr>\n",
       "    <tr>\n",
       "      <th>986286</th>\n",
       "      <td>BSB-RVN</td>\n",
       "      <td>767733</td>\n",
       "      <td>1</td>\n",
       "      <td>259.04761</td>\n",
       "      <td>0.0105</td>\n",
       "      <td>2023-11-07 09:40:52.864</td>\n",
       "    </tr>\n",
       "    <tr>\n",
       "      <th>986287</th>\n",
       "      <td>BSB-RVN</td>\n",
       "      <td>767734</td>\n",
       "      <td>1</td>\n",
       "      <td>250.00000</td>\n",
       "      <td>0.0105</td>\n",
       "      <td>2023-11-07 10:09:16.800</td>\n",
       "    </tr>\n",
       "    <tr>\n",
       "      <th>1271775</th>\n",
       "      <td>BSB-RVN</td>\n",
       "      <td>767738</td>\n",
       "      <td>-1</td>\n",
       "      <td>1082.06995</td>\n",
       "      <td>0.0100</td>\n",
       "      <td>2023-11-07 10:11:27.872</td>\n",
       "    </tr>\n",
       "    <tr>\n",
       "      <th>986288</th>\n",
       "      <td>BSB-RVN</td>\n",
       "      <td>767739</td>\n",
       "      <td>1</td>\n",
       "      <td>466.66666</td>\n",
       "      <td>0.0105</td>\n",
       "      <td>2023-11-07 10:11:27.872</td>\n",
       "    </tr>\n",
       "    <tr>\n",
       "      <th>1271776</th>\n",
       "      <td>BSB-RVN</td>\n",
       "      <td>767740</td>\n",
       "      <td>-1</td>\n",
       "      <td>172.59000</td>\n",
       "      <td>0.0100</td>\n",
       "      <td>2023-11-07 10:48:36.096</td>\n",
       "    </tr>\n",
       "    <tr>\n",
       "      <th>1271777</th>\n",
       "      <td>BSB-RVN</td>\n",
       "      <td>767741</td>\n",
       "      <td>-1</td>\n",
       "      <td>310.85999</td>\n",
       "      <td>0.0100</td>\n",
       "      <td>2023-11-07 11:25:44.320</td>\n",
       "    </tr>\n",
       "    <tr>\n",
       "      <th>986289</th>\n",
       "      <td>BSB-RVN</td>\n",
       "      <td>767742</td>\n",
       "      <td>1</td>\n",
       "      <td>453.33334</td>\n",
       "      <td>0.0105</td>\n",
       "      <td>2023-11-07 11:25:44.320</td>\n",
       "    </tr>\n",
       "    <tr>\n",
       "      <th>986290</th>\n",
       "      <td>BSB-RVN</td>\n",
       "      <td>767743</td>\n",
       "      <td>1</td>\n",
       "      <td>357.39047</td>\n",
       "      <td>0.0105</td>\n",
       "      <td>2023-11-07 11:41:01.824</td>\n",
       "    </tr>\n",
       "    <tr>\n",
       "      <th>1271778</th>\n",
       "      <td>BSB-RVN</td>\n",
       "      <td>767744</td>\n",
       "      <td>-1</td>\n",
       "      <td>316.35999</td>\n",
       "      <td>0.0100</td>\n",
       "      <td>2023-11-07 12:09:25.760</td>\n",
       "    </tr>\n",
       "    <tr>\n",
       "      <th>986291</th>\n",
       "      <td>BSB-RVN</td>\n",
       "      <td>767745</td>\n",
       "      <td>1</td>\n",
       "      <td>254.00000</td>\n",
       "      <td>0.0105</td>\n",
       "      <td>2023-11-07 12:11:36.832</td>\n",
       "    </tr>\n",
       "    <tr>\n",
       "      <th>986292</th>\n",
       "      <td>BSB-RVN</td>\n",
       "      <td>767746</td>\n",
       "      <td>1</td>\n",
       "      <td>328.00000</td>\n",
       "      <td>0.0105</td>\n",
       "      <td>2023-11-07 13:01:51.488</td>\n",
       "    </tr>\n",
       "    <tr>\n",
       "      <th>986293</th>\n",
       "      <td>BSB-RVN</td>\n",
       "      <td>767747</td>\n",
       "      <td>1</td>\n",
       "      <td>222.00000</td>\n",
       "      <td>0.0105</td>\n",
       "      <td>2023-11-07 13:19:20.064</td>\n",
       "    </tr>\n",
       "    <tr>\n",
       "      <th>986294</th>\n",
       "      <td>BSB-RVN</td>\n",
       "      <td>767748</td>\n",
       "      <td>1</td>\n",
       "      <td>344.00000</td>\n",
       "      <td>0.0105</td>\n",
       "      <td>2023-11-07 13:23:42.208</td>\n",
       "    </tr>\n",
       "    <tr>\n",
       "      <th>1271779</th>\n",
       "      <td>BSB-RVN</td>\n",
       "      <td>767749</td>\n",
       "      <td>-1</td>\n",
       "      <td>107.14000</td>\n",
       "      <td>0.0100</td>\n",
       "      <td>2023-11-07 14:44:31.872</td>\n",
       "    </tr>\n",
       "    <tr>\n",
       "      <th>1271780</th>\n",
       "      <td>BSB-RVN</td>\n",
       "      <td>767750</td>\n",
       "      <td>-1</td>\n",
       "      <td>356.39999</td>\n",
       "      <td>0.0100</td>\n",
       "      <td>2023-11-07 14:53:16.160</td>\n",
       "    </tr>\n",
       "    <tr>\n",
       "      <th>986295</th>\n",
       "      <td>BSB-RVN</td>\n",
       "      <td>767751</td>\n",
       "      <td>1</td>\n",
       "      <td>219.04761</td>\n",
       "      <td>0.0105</td>\n",
       "      <td>2023-11-07 14:53:16.160</td>\n",
       "    </tr>\n",
       "    <tr>\n",
       "      <th>1271781</th>\n",
       "      <td>BSB-RVN</td>\n",
       "      <td>767752</td>\n",
       "      <td>-1</td>\n",
       "      <td>309.42999</td>\n",
       "      <td>0.0100</td>\n",
       "      <td>2023-11-07 14:53:16.160</td>\n",
       "    </tr>\n",
       "    <tr>\n",
       "      <th>986296</th>\n",
       "      <td>BSB-RVN</td>\n",
       "      <td>767753</td>\n",
       "      <td>1</td>\n",
       "      <td>331.71429</td>\n",
       "      <td>0.0105</td>\n",
       "      <td>2023-11-07 14:55:27.232</td>\n",
       "    </tr>\n",
       "    <tr>\n",
       "      <th>1271782</th>\n",
       "      <td>BSB-RVN</td>\n",
       "      <td>767754</td>\n",
       "      <td>-1</td>\n",
       "      <td>168.96001</td>\n",
       "      <td>0.0100</td>\n",
       "      <td>2023-11-07 15:52:15.104</td>\n",
       "    </tr>\n",
       "  </tbody>\n",
       "</table>\n",
       "</div>"
      ],
      "text/plain": [
       "          ticker  tradeid  side      volume   price                      ts\n",
       "1271765  BSB-RVN   767717    -1   308.32999  0.0100 2023-11-06 17:30:56.896\n",
       "1271766  BSB-RVN   767718    -1   314.38000  0.0100 2023-11-06 17:35:19.040\n",
       "986281   BSB-RVN   767719     1   236.19048  0.0105 2023-11-06 17:35:19.040\n",
       "986282   BSB-RVN   767720     1   208.00000  0.0105 2023-11-06 17:50:36.544\n",
       "1271767  BSB-RVN   767721    -1   261.03000  0.0100 2023-11-06 18:14:38.336\n",
       "986283   BSB-RVN   767722     1   249.52380  0.0105 2023-11-06 18:19:00.480\n",
       "1271768  BSB-RVN   767723    -1   178.20000  0.0100 2023-11-06 19:46:23.360\n",
       "1271769  BSB-RVN   767724    -1   128.03999  0.0100 2023-11-06 20:41:00.160\n",
       "986284   BSB-RVN   767725     1   190.47620  0.0105 2023-11-06 20:56:17.664\n",
       "1271770  BSB-RVN   767726    -1   364.10001  0.0100 2023-11-06 23:07:21.984\n",
       "986285   BSB-RVN   767728     1   549.04761  0.0105 2023-11-06 23:07:21.984\n",
       "1271771  BSB-RVN   767729    -1   155.32001  0.0100 2023-11-07 02:28:20.608\n",
       "1271772  BSB-RVN   767730    -1   254.42999  0.0100 2023-11-07 08:02:34.624\n",
       "1271773  BSB-RVN   767731    -1   321.31000  0.0100 2023-11-07 09:38:41.792\n",
       "1271774  BSB-RVN   767732    -1   127.93000  0.0100 2023-11-07 09:40:52.864\n",
       "986286   BSB-RVN   767733     1   259.04761  0.0105 2023-11-07 09:40:52.864\n",
       "986287   BSB-RVN   767734     1   250.00000  0.0105 2023-11-07 10:09:16.800\n",
       "1271775  BSB-RVN   767738    -1  1082.06995  0.0100 2023-11-07 10:11:27.872\n",
       "986288   BSB-RVN   767739     1   466.66666  0.0105 2023-11-07 10:11:27.872\n",
       "1271776  BSB-RVN   767740    -1   172.59000  0.0100 2023-11-07 10:48:36.096\n",
       "1271777  BSB-RVN   767741    -1   310.85999  0.0100 2023-11-07 11:25:44.320\n",
       "986289   BSB-RVN   767742     1   453.33334  0.0105 2023-11-07 11:25:44.320\n",
       "986290   BSB-RVN   767743     1   357.39047  0.0105 2023-11-07 11:41:01.824\n",
       "1271778  BSB-RVN   767744    -1   316.35999  0.0100 2023-11-07 12:09:25.760\n",
       "986291   BSB-RVN   767745     1   254.00000  0.0105 2023-11-07 12:11:36.832\n",
       "986292   BSB-RVN   767746     1   328.00000  0.0105 2023-11-07 13:01:51.488\n",
       "986293   BSB-RVN   767747     1   222.00000  0.0105 2023-11-07 13:19:20.064\n",
       "986294   BSB-RVN   767748     1   344.00000  0.0105 2023-11-07 13:23:42.208\n",
       "1271779  BSB-RVN   767749    -1   107.14000  0.0100 2023-11-07 14:44:31.872\n",
       "1271780  BSB-RVN   767750    -1   356.39999  0.0100 2023-11-07 14:53:16.160\n",
       "986295   BSB-RVN   767751     1   219.04761  0.0105 2023-11-07 14:53:16.160\n",
       "1271781  BSB-RVN   767752    -1   309.42999  0.0100 2023-11-07 14:53:16.160\n",
       "986296   BSB-RVN   767753     1   331.71429  0.0105 2023-11-07 14:55:27.232\n",
       "1271782  BSB-RVN   767754    -1   168.96001  0.0100 2023-11-07 15:52:15.104"
      ]
     },
     "execution_count": 173,
     "metadata": {},
     "output_type": "execute_result"
    },
    {
     "name": "stdout",
     "output_type": "stream",
     "text": [
      "time: 94 ms (started: 2023-12-04 12:41:08 +03:00)\n"
     ]
    },
    {
     "data": {
      "application/javascript": [
       "\n",
       "            setTimeout(function() {\n",
       "                var nbb_cell_id = 173;\n",
       "                var nbb_unformatted_code = \"df.query(\\\"ticker=='BSB-RVN'\\\")\";\n",
       "                var nbb_formatted_code = \"df.query(\\\"ticker=='BSB-RVN'\\\")\";\n",
       "                var nbb_cells = Jupyter.notebook.get_cells();\n",
       "                for (var i = 0; i < nbb_cells.length; ++i) {\n",
       "                    if (nbb_cells[i].input_prompt_number == nbb_cell_id) {\n",
       "                        if (nbb_cells[i].get_text() == nbb_unformatted_code) {\n",
       "                             nbb_cells[i].set_text(nbb_formatted_code);\n",
       "                        }\n",
       "                        break;\n",
       "                    }\n",
       "                }\n",
       "            }, 500);\n",
       "            "
      ],
      "text/plain": [
       "<IPython.core.display.Javascript object>"
      ]
     },
     "metadata": {},
     "output_type": "display_data"
    }
   ],
   "source": [
    "df.query(\"ticker=='BSB-RVN'\")"
   ]
  },
  {
   "cell_type": "code",
   "execution_count": 172,
   "id": "6487c0f2",
   "metadata": {
    "hidden": true
   },
   "outputs": [
    {
     "data": {
      "text/html": [
       "<div>\n",
       "<style scoped>\n",
       "    .dataframe tbody tr th:only-of-type {\n",
       "        vertical-align: middle;\n",
       "    }\n",
       "\n",
       "    .dataframe tbody tr th {\n",
       "        vertical-align: top;\n",
       "    }\n",
       "\n",
       "    .dataframe thead th {\n",
       "        text-align: right;\n",
       "    }\n",
       "</style>\n",
       "<table border=\"1\" class=\"dataframe\">\n",
       "  <thead>\n",
       "    <tr style=\"text-align: right;\">\n",
       "      <th></th>\n",
       "      <th>ticker</th>\n",
       "      <th>tradeid</th>\n",
       "      <th>side</th>\n",
       "      <th>volume</th>\n",
       "      <th>price</th>\n",
       "      <th>ts</th>\n",
       "    </tr>\n",
       "  </thead>\n",
       "  <tbody>\n",
       "    <tr>\n",
       "      <th>2088154</th>\n",
       "      <td>RVN-USDT</td>\n",
       "      <td>16783243</td>\n",
       "      <td>1</td>\n",
       "      <td>10000.00000</td>\n",
       "      <td>0.01828</td>\n",
       "      <td>2023-11-06 15:59:11.872</td>\n",
       "    </tr>\n",
       "    <tr>\n",
       "      <th>2088169</th>\n",
       "      <td>RVN-USDT</td>\n",
       "      <td>16783247</td>\n",
       "      <td>1</td>\n",
       "      <td>103259.25000</td>\n",
       "      <td>0.01829</td>\n",
       "      <td>2023-11-06 15:59:11.872</td>\n",
       "    </tr>\n",
       "    <tr>\n",
       "      <th>2088186</th>\n",
       "      <td>RVN-USDT</td>\n",
       "      <td>16783248</td>\n",
       "      <td>1</td>\n",
       "      <td>5268.11328</td>\n",
       "      <td>0.01831</td>\n",
       "      <td>2023-11-06 16:01:22.944</td>\n",
       "    </tr>\n",
       "    <tr>\n",
       "      <th>2088174</th>\n",
       "      <td>RVN-USDT</td>\n",
       "      <td>16783251</td>\n",
       "      <td>1</td>\n",
       "      <td>8331.19922</td>\n",
       "      <td>0.01830</td>\n",
       "      <td>2023-11-06 16:01:22.944</td>\n",
       "    </tr>\n",
       "    <tr>\n",
       "      <th>2088194</th>\n",
       "      <td>RVN-USDT</td>\n",
       "      <td>16783252</td>\n",
       "      <td>1</td>\n",
       "      <td>501.00000</td>\n",
       "      <td>0.01832</td>\n",
       "      <td>2023-11-06 16:03:34.016</td>\n",
       "    </tr>\n",
       "    <tr>\n",
       "      <th>...</th>\n",
       "      <td>...</td>\n",
       "      <td>...</td>\n",
       "      <td>...</td>\n",
       "      <td>...</td>\n",
       "      <td>...</td>\n",
       "      <td>...</td>\n",
       "    </tr>\n",
       "    <tr>\n",
       "      <th>625808</th>\n",
       "      <td>RVN-USDT</td>\n",
       "      <td>16787810</td>\n",
       "      <td>-1</td>\n",
       "      <td>170.06802</td>\n",
       "      <td>0.01764</td>\n",
       "      <td>2023-11-07 15:52:15.104</td>\n",
       "    </tr>\n",
       "    <tr>\n",
       "      <th>625809</th>\n",
       "      <td>RVN-USDT</td>\n",
       "      <td>16787812</td>\n",
       "      <td>-1</td>\n",
       "      <td>7069.62695</td>\n",
       "      <td>0.01764</td>\n",
       "      <td>2023-11-07 15:54:26.176</td>\n",
       "    </tr>\n",
       "    <tr>\n",
       "      <th>625812</th>\n",
       "      <td>RVN-USDT</td>\n",
       "      <td>16787814</td>\n",
       "      <td>-1</td>\n",
       "      <td>16300.16309</td>\n",
       "      <td>0.01765</td>\n",
       "      <td>2023-11-07 15:58:48.320</td>\n",
       "    </tr>\n",
       "    <tr>\n",
       "      <th>2087712</th>\n",
       "      <td>RVN-USDT</td>\n",
       "      <td>16787816</td>\n",
       "      <td>1</td>\n",
       "      <td>11900.00000</td>\n",
       "      <td>0.01767</td>\n",
       "      <td>2023-11-07 15:58:48.320</td>\n",
       "    </tr>\n",
       "    <tr>\n",
       "      <th>625814</th>\n",
       "      <td>RVN-USDT</td>\n",
       "      <td>16787818</td>\n",
       "      <td>-1</td>\n",
       "      <td>8072.61426</td>\n",
       "      <td>0.01766</td>\n",
       "      <td>2023-11-07 15:58:48.320</td>\n",
       "    </tr>\n",
       "  </tbody>\n",
       "</table>\n",
       "<p>1494 rows × 6 columns</p>\n",
       "</div>"
      ],
      "text/plain": [
       "           ticker   tradeid  side        volume    price  \\\n",
       "2088154  RVN-USDT  16783243     1   10000.00000  0.01828   \n",
       "2088169  RVN-USDT  16783247     1  103259.25000  0.01829   \n",
       "2088186  RVN-USDT  16783248     1    5268.11328  0.01831   \n",
       "2088174  RVN-USDT  16783251     1    8331.19922  0.01830   \n",
       "2088194  RVN-USDT  16783252     1     501.00000  0.01832   \n",
       "...           ...       ...   ...           ...      ...   \n",
       "625808   RVN-USDT  16787810    -1     170.06802  0.01764   \n",
       "625809   RVN-USDT  16787812    -1    7069.62695  0.01764   \n",
       "625812   RVN-USDT  16787814    -1   16300.16309  0.01765   \n",
       "2087712  RVN-USDT  16787816     1   11900.00000  0.01767   \n",
       "625814   RVN-USDT  16787818    -1    8072.61426  0.01766   \n",
       "\n",
       "                             ts  \n",
       "2088154 2023-11-06 15:59:11.872  \n",
       "2088169 2023-11-06 15:59:11.872  \n",
       "2088186 2023-11-06 16:01:22.944  \n",
       "2088174 2023-11-06 16:01:22.944  \n",
       "2088194 2023-11-06 16:03:34.016  \n",
       "...                         ...  \n",
       "625808  2023-11-07 15:52:15.104  \n",
       "625809  2023-11-07 15:54:26.176  \n",
       "625812  2023-11-07 15:58:48.320  \n",
       "2087712 2023-11-07 15:58:48.320  \n",
       "625814  2023-11-07 15:58:48.320  \n",
       "\n",
       "[1494 rows x 6 columns]"
      ]
     },
     "execution_count": 172,
     "metadata": {},
     "output_type": "execute_result"
    },
    {
     "name": "stdout",
     "output_type": "stream",
     "text": [
      "time: 93 ms (started: 2023-12-04 12:40:30 +03:00)\n"
     ]
    },
    {
     "data": {
      "application/javascript": [
       "\n",
       "            setTimeout(function() {\n",
       "                var nbb_cell_id = 172;\n",
       "                var nbb_unformatted_code = \"df.query(\\\"ticker=='RVN-USDT'\\\")\";\n",
       "                var nbb_formatted_code = \"df.query(\\\"ticker=='RVN-USDT'\\\")\";\n",
       "                var nbb_cells = Jupyter.notebook.get_cells();\n",
       "                for (var i = 0; i < nbb_cells.length; ++i) {\n",
       "                    if (nbb_cells[i].input_prompt_number == nbb_cell_id) {\n",
       "                        if (nbb_cells[i].get_text() == nbb_unformatted_code) {\n",
       "                             nbb_cells[i].set_text(nbb_formatted_code);\n",
       "                        }\n",
       "                        break;\n",
       "                    }\n",
       "                }\n",
       "            }, 500);\n",
       "            "
      ],
      "text/plain": [
       "<IPython.core.display.Javascript object>"
      ]
     },
     "metadata": {},
     "output_type": "display_data"
    }
   ],
   "source": [
    "df.query(\"ticker=='RVN-USDT'\")"
   ]
  },
  {
   "cell_type": "code",
   "execution_count": 196,
   "id": "954c26ea",
   "metadata": {
    "hidden": true
   },
   "outputs": [
    {
     "data": {
      "text/html": [
       "<div>\n",
       "<style scoped>\n",
       "    .dataframe tbody tr th:only-of-type {\n",
       "        vertical-align: middle;\n",
       "    }\n",
       "\n",
       "    .dataframe tbody tr th {\n",
       "        vertical-align: top;\n",
       "    }\n",
       "\n",
       "    .dataframe thead th {\n",
       "        text-align: right;\n",
       "    }\n",
       "</style>\n",
       "<table border=\"1\" class=\"dataframe\">\n",
       "  <thead>\n",
       "    <tr style=\"text-align: right;\">\n",
       "      <th></th>\n",
       "      <th>ticker</th>\n",
       "      <th>tradeid</th>\n",
       "      <th>side</th>\n",
       "      <th>volume</th>\n",
       "      <th>price</th>\n",
       "      <th>ts</th>\n",
       "      <th>unified_volume</th>\n",
       "    </tr>\n",
       "  </thead>\n",
       "  <tbody>\n",
       "    <tr>\n",
       "      <th>643650</th>\n",
       "      <td>SHIB-BTC</td>\n",
       "      <td>780974</td>\n",
       "      <td>-1</td>\n",
       "      <td>3.59457e+06</td>\n",
       "      <td>2.37000e-10</td>\n",
       "      <td>2023-11-06 16:07:56.160</td>\n",
       "      <td>1.51669e+16</td>\n",
       "    </tr>\n",
       "    <tr>\n",
       "      <th>2112210</th>\n",
       "      <td>SHIB-BTC</td>\n",
       "      <td>781035</td>\n",
       "      <td>1</td>\n",
       "      <td>9.13446e+07</td>\n",
       "      <td>2.38000e-10</td>\n",
       "      <td>2023-11-06 16:07:56.160</td>\n",
       "      <td>3.85420e+17</td>\n",
       "    </tr>\n",
       "    <tr>\n",
       "      <th>2112211</th>\n",
       "      <td>SHIB-BTC</td>\n",
       "      <td>781064</td>\n",
       "      <td>1</td>\n",
       "      <td>1.23595e+08</td>\n",
       "      <td>2.38000e-10</td>\n",
       "      <td>2023-11-06 16:07:56.160</td>\n",
       "      <td>5.21499e+17</td>\n",
       "    </tr>\n",
       "    <tr>\n",
       "      <th>643675</th>\n",
       "      <td>SHIB-BTC</td>\n",
       "      <td>781065</td>\n",
       "      <td>-1</td>\n",
       "      <td>3.59457e+06</td>\n",
       "      <td>2.38000e-10</td>\n",
       "      <td>2023-11-06 16:07:56.160</td>\n",
       "      <td>1.51669e+16</td>\n",
       "    </tr>\n",
       "    <tr>\n",
       "      <th>2112231</th>\n",
       "      <td>SHIB-BTC</td>\n",
       "      <td>781075</td>\n",
       "      <td>1</td>\n",
       "      <td>2.82320e+07</td>\n",
       "      <td>2.39000e-10</td>\n",
       "      <td>2023-11-06 16:10:07.232</td>\n",
       "      <td>1.19122e+17</td>\n",
       "    </tr>\n",
       "    <tr>\n",
       "      <th>...</th>\n",
       "      <td>...</td>\n",
       "      <td>...</td>\n",
       "      <td>...</td>\n",
       "      <td>...</td>\n",
       "      <td>...</td>\n",
       "      <td>...</td>\n",
       "      <td>...</td>\n",
       "    </tr>\n",
       "    <tr>\n",
       "      <th>643609</th>\n",
       "      <td>SHIB-BTC</td>\n",
       "      <td>783015</td>\n",
       "      <td>-1</td>\n",
       "      <td>7.45494e+06</td>\n",
       "      <td>2.31000e-10</td>\n",
       "      <td>2023-11-07 15:41:19.744</td>\n",
       "      <td>3.14555e+16</td>\n",
       "    </tr>\n",
       "    <tr>\n",
       "      <th>643610</th>\n",
       "      <td>SHIB-BTC</td>\n",
       "      <td>783018</td>\n",
       "      <td>-1</td>\n",
       "      <td>4.12619e+06</td>\n",
       "      <td>2.31000e-10</td>\n",
       "      <td>2023-11-07 15:43:30.816</td>\n",
       "      <td>1.74101e+16</td>\n",
       "    </tr>\n",
       "    <tr>\n",
       "      <th>2112166</th>\n",
       "      <td>SHIB-BTC</td>\n",
       "      <td>783019</td>\n",
       "      <td>1</td>\n",
       "      <td>2.65811e+05</td>\n",
       "      <td>2.31000e-10</td>\n",
       "      <td>2023-11-07 15:43:30.816</td>\n",
       "      <td>1.12157e+15</td>\n",
       "    </tr>\n",
       "    <tr>\n",
       "      <th>643611</th>\n",
       "      <td>SHIB-BTC</td>\n",
       "      <td>783020</td>\n",
       "      <td>-1</td>\n",
       "      <td>1.51525e+07</td>\n",
       "      <td>2.31000e-10</td>\n",
       "      <td>2023-11-07 15:43:30.816</td>\n",
       "      <td>6.39348e+16</td>\n",
       "    </tr>\n",
       "    <tr>\n",
       "      <th>2112167</th>\n",
       "      <td>SHIB-BTC</td>\n",
       "      <td>783021</td>\n",
       "      <td>1</td>\n",
       "      <td>5.80460e+04</td>\n",
       "      <td>2.32000e-10</td>\n",
       "      <td>2023-11-07 15:50:04.032</td>\n",
       "      <td>2.44920e+14</td>\n",
       "    </tr>\n",
       "  </tbody>\n",
       "</table>\n",
       "<p>332 rows × 7 columns</p>\n",
       "</div>"
      ],
      "text/plain": [
       "           ticker  tradeid  side       volume        price  \\\n",
       "643650   SHIB-BTC   780974    -1  3.59457e+06  2.37000e-10   \n",
       "2112210  SHIB-BTC   781035     1  9.13446e+07  2.38000e-10   \n",
       "2112211  SHIB-BTC   781064     1  1.23595e+08  2.38000e-10   \n",
       "643675   SHIB-BTC   781065    -1  3.59457e+06  2.38000e-10   \n",
       "2112231  SHIB-BTC   781075     1  2.82320e+07  2.39000e-10   \n",
       "...           ...      ...   ...          ...          ...   \n",
       "643609   SHIB-BTC   783015    -1  7.45494e+06  2.31000e-10   \n",
       "643610   SHIB-BTC   783018    -1  4.12619e+06  2.31000e-10   \n",
       "2112166  SHIB-BTC   783019     1  2.65811e+05  2.31000e-10   \n",
       "643611   SHIB-BTC   783020    -1  1.51525e+07  2.31000e-10   \n",
       "2112167  SHIB-BTC   783021     1  5.80460e+04  2.32000e-10   \n",
       "\n",
       "                             ts  unified_volume  \n",
       "643650  2023-11-06 16:07:56.160     1.51669e+16  \n",
       "2112210 2023-11-06 16:07:56.160     3.85420e+17  \n",
       "2112211 2023-11-06 16:07:56.160     5.21499e+17  \n",
       "643675  2023-11-06 16:07:56.160     1.51669e+16  \n",
       "2112231 2023-11-06 16:10:07.232     1.19122e+17  \n",
       "...                         ...             ...  \n",
       "643609  2023-11-07 15:41:19.744     3.14555e+16  \n",
       "643610  2023-11-07 15:43:30.816     1.74101e+16  \n",
       "2112166 2023-11-07 15:43:30.816     1.12157e+15  \n",
       "643611  2023-11-07 15:43:30.816     6.39348e+16  \n",
       "2112167 2023-11-07 15:50:04.032     2.44920e+14  \n",
       "\n",
       "[332 rows x 7 columns]"
      ]
     },
     "execution_count": 196,
     "metadata": {},
     "output_type": "execute_result"
    },
    {
     "name": "stdout",
     "output_type": "stream",
     "text": [
      "time: 94 ms (started: 2023-12-04 13:22:25 +03:00)\n"
     ]
    },
    {
     "data": {
      "application/javascript": [
       "\n",
       "            setTimeout(function() {\n",
       "                var nbb_cell_id = 196;\n",
       "                var nbb_unformatted_code = \"df.query(\\\"ticker=='SHIB-BTC'\\\")\";\n",
       "                var nbb_formatted_code = \"df.query(\\\"ticker=='SHIB-BTC'\\\")\";\n",
       "                var nbb_cells = Jupyter.notebook.get_cells();\n",
       "                for (var i = 0; i < nbb_cells.length; ++i) {\n",
       "                    if (nbb_cells[i].input_prompt_number == nbb_cell_id) {\n",
       "                        if (nbb_cells[i].get_text() == nbb_unformatted_code) {\n",
       "                             nbb_cells[i].set_text(nbb_formatted_code);\n",
       "                        }\n",
       "                        break;\n",
       "                    }\n",
       "                }\n",
       "            }, 500);\n",
       "            "
      ],
      "text/plain": [
       "<IPython.core.display.Javascript object>"
      ]
     },
     "metadata": {},
     "output_type": "display_data"
    }
   ],
   "source": [
    "df.query(\"ticker=='SHIB-BTC'\")"
   ]
  },
  {
   "cell_type": "markdown",
   "id": "97303391",
   "metadata": {
    "hidden": true
   },
   "source": [
    "## Geting conversion rates"
   ]
  },
  {
   "cell_type": "code",
   "execution_count": 224,
   "id": "25a01358",
   "metadata": {
    "hidden": true
   },
   "outputs": [
    {
     "data": {
      "text/plain": [
       "{'AAVE-BTC': 0.0027340000960975885,\n",
       " 'ADA-BTC': 1.0042000212706625e-05,\n",
       " 'ALGO-BTC': 3.6199999158270657e-06,\n",
       " 'APE-BTC': 4.199999966658652e-05,\n",
       " 'ATOM-BTC': 0.00024340000527445227,\n",
       " 'AVAX-BTC': 0.0003691999881993979,\n",
       " 'BCH-BTC': 0.00684799998998642,\n",
       " 'BSV-BTC': 0.0013989999424666166,\n",
       " 'BTC-DAI': 1.0,\n",
       " 'BTC-EURT': 1.0,\n",
       " 'BTC-USDC': 1.0,\n",
       " 'BTC-USDT': 1.0,\n",
       " 'CHZ-BTC': 2.2920000901649473e-06,\n",
       " 'CRO-BTC': 2.0790000689885346e-06,\n",
       " 'CRV-BTC': 1.616000008652918e-05,\n",
       " 'DASH-BTC': 0.000881000014487654,\n",
       " 'DOGE-BTC': 2.103000042552594e-06,\n",
       " 'DOT-BTC': 0.00013899999612476677,\n",
       " 'DYDX-BTC': 6.882000161567703e-05,\n",
       " 'EOS-BTC': 1.9670000256155618e-05,\n",
       " 'ETC-BTC': 0.0005244999774731696,\n",
       " 'ETH-BTC': 0.05420000106096268,\n",
       " 'FIL-BTC': 0.00012320000678300858,\n",
       " 'GRT-BTC': 4.0350000745092984e-06,\n",
       " 'HBAR-BTC': 1.6440000081274775e-06,\n",
       " 'LINK-BTC': 0.00036100001307204366,\n",
       " 'LTC-BTC': 0.0021009999327361584,\n",
       " 'MANA-BTC': 1.2200000128359534e-05,\n",
       " 'MATIC-BTC': 2.0389999917824753e-05,\n",
       " 'MKR-BTC': 0.037950001657009125,\n",
       " 'NEAR-BTC': 4.475999958231114e-05,\n",
       " 'NEO-BTC': 0.00037819999852217734,\n",
       " 'OKB-BTC': 0.0014857000205665827,\n",
       " 'OKT-BTC': 0.00040389999048784375,\n",
       " 'QTUM-BTC': 8.97999998414889e-05,\n",
       " 'SHIB-BTC': 2.3700000295612256e-10,\n",
       " 'SOL-BTC': 0.0011467000003904104,\n",
       " 'STX-BTC': 1.911000072141178e-05,\n",
       " 'TRX-BTC': 2.798999958031345e-06,\n",
       " 'UNI-BTC': 0.0001449999981559813,\n",
       " 'WBTC-BTC': 0.9998999834060669,\n",
       " 'XCH-BTC': 0.0007740000146441162,\n",
       " 'XLM-BTC': 3.7800000427523628e-06,\n",
       " 'XMR-BTC': 0.004726999904960394,\n",
       " 'XRP-BTC': 2.0470000890782103e-05,\n",
       " 'ZEC-BTC': 0.000830999983008951,\n",
       " 'ZEN-BTC': 0.0002886999864131212,\n",
       " '1INCH-USDC': 9.929341083578564e-06,\n",
       " '1INCH-USDT': 9.911630553285779e-06,\n",
       " 'AAVE-ETH': 0.0027593220408974883,\n",
       " 'AAVE-USDC': 0.002735198586814064,\n",
       " 'AAVE-USDT': 0.0027334663452009246,\n",
       " 'ACA-USDT': 1.8129989657733703e-06,\n",
       " 'ACH-USDT': 5.866590454036044e-07,\n",
       " 'ADA-ETH': 1.0032420082940643e-05,\n",
       " 'ADA-USDC': 1.0041028042112404e-05,\n",
       " 'ADA-USDT': 1.0039053322108061e-05,\n",
       " 'AERGO-USDT': 4.056442269849397e-06,\n",
       " 'AGLD-USDC': 2.2984215374841766e-05,\n",
       " 'AGLD-USDT': 2.302451477627118e-05,\n",
       " 'AIDOGE-USDT': 4.010832192784786e-15,\n",
       " 'AKITA-USDT': 3.653648826535654e-12,\n",
       " 'ALCX-USDT': 0.000451254273765851,\n",
       " 'ALGO-USDC': 3.6238530360230614e-06,\n",
       " 'ALGO-USDT': 3.6151652800996055e-06,\n",
       " 'ALPHA-USDT': 2.5199543570031327e-06,\n",
       " 'ANT-USDC': 0.000137671655899127,\n",
       " 'ANT-USDT': 0.00013765678438384558,\n",
       " 'APE-USDC': 4.2358540600131016e-05,\n",
       " 'APE-USDT': 4.2343214409109395e-05,\n",
       " 'API3-USDT': 3.791334215836215e-05,\n",
       " 'APM-USDT': 1.758836929770261e-07,\n",
       " 'APT-USDC': 0.00020762151228721968,\n",
       " 'APT-USDT': 0.00020826397083504306,\n",
       " 'AR-USDC': 0.00019727619198749085,\n",
       " 'AR-USDT': 0.0001976339819765689,\n",
       " 'ARB-USDT': 3.1696122347832816e-05,\n",
       " 'ARG-USDT': 2.2348916177195046e-05,\n",
       " 'AST-USDT': 2.6482326257867716e-06,\n",
       " 'ASTR-USDC': 1.7180466126822306e-06,\n",
       " 'ASTR-USDT': 1.713226919944909e-06,\n",
       " 'ATOM-ETH': 0.0002443878106182934,\n",
       " 'ATOM-USDC': 0.0002444013923489815,\n",
       " 'ATOM-USDT': 0.00024372862573360498,\n",
       " 'AUCTION-USDT': 0.00020105473127984946,\n",
       " 'AVAX-USDC': 0.0003701920346036121,\n",
       " 'AVAX-USDT': 0.0003700969156680656,\n",
       " 'AXS-USDC': 0.00017060800946141263,\n",
       " 'AXS-USDT': 0.00017038199077854134,\n",
       " 'AZY-USDT': 1.5706955662322153e-07,\n",
       " 'BABYDOGE-USDT': 3.6288484569986055e-14,\n",
       " 'BADGER-USDT': 7.571265390280851e-05,\n",
       " 'BAL-USDT': 0.00010476054596112554,\n",
       " 'BAND-USDT': 4.35575825866299e-05,\n",
       " 'BAT-USDT': 6.157354777731944e-06,\n",
       " 'BCH-USDC': 0.006847683524357246,\n",
       " 'BCH-USDT': 0.006846636051191028,\n",
       " 'BETH-ETH': 0.05415664032612799,\n",
       " 'BETH-USDT': 0.054175027392745156,\n",
       " 'BICO-USDT': 7.132269195711055e-06,\n",
       " 'BIGTIME-USDT': 4.3891106935020455e-06,\n",
       " 'BLOK-USDT': 4.652223404828234e-08,\n",
       " 'BLUR-USDC': 9.73274832920129e-06,\n",
       " 'BLUR-USDT': 9.766248232146626e-06,\n",
       " 'BNB-USDC': 0.007165650464413927,\n",
       " 'BNB-USDT': 0.007176453819840365,\n",
       " 'BNT-USDT': 1.620866587659516e-05,\n",
       " 'BONE-USDT': 2.0267959671390235e-05,\n",
       " 'BORA-USDT': 3.950969404206444e-06,\n",
       " 'BORING-USDT': 5.230900806033965e-08,\n",
       " 'BRWL-USDT': 1.4281641859709876e-07,\n",
       " 'BSB-RVN': 5.210946147651876e-09,\n",
       " 'BSV-USDC': 0.0014009344740140554,\n",
       " 'BSV-USDT': 0.0013990878515123912,\n",
       " 'BTM-USDT': 5.644241702597389e-07,\n",
       " 'BTT-USDT': 1.338654493222104e-11,\n",
       " 'BZZ-USDT': 8.56613470591868e-06,\n",
       " 'CAPO-USDT': 4.618015950556288e-08,\n",
       " 'CEEK-USDT': 1.3511973043464064e-06,\n",
       " 'CEL-USDC': 6.2339732576159715e-06,\n",
       " 'CEL-USDT': 6.245724015795926e-06,\n",
       " 'CELO-USDC': 1.5613424641446542e-05,\n",
       " 'CELO-USDT': 1.5735461407403717e-05,\n",
       " 'CELR-USDT': 4.4925885961020415e-07,\n",
       " 'CETUS-USDT': 1.5949259088411841e-06,\n",
       " 'CFG-USDT': 1.2887685539513112e-05,\n",
       " 'CFX-USDT': 4.650798106954742e-06,\n",
       " 'CGL-USDT': 1.8757126031776925e-07,\n",
       " 'CHZ-USDC': 2.291013837315784e-06,\n",
       " 'CHZ-USDT': 2.290764048338752e-06,\n",
       " 'CITY-USDT': 8.22405926585877e-05,\n",
       " 'CLV-USDT': 1.0858039279280394e-06,\n",
       " 'COMP-USDC': 0.0014493703040596264,\n",
       " 'COMP-USDT': 0.0014495438561608065,\n",
       " 'CONV-USDT': 1.4766248180918574e-08,\n",
       " 'CORE-USDC': 1.3030941917438563e-05,\n",
       " 'CORE-USDT': 1.3061288315186886e-05,\n",
       " 'COVER-USDT': 0.00023460660040582464,\n",
       " 'CQT-USDT': 3.751425524937794e-06,\n",
       " 'CRO-USDC': 2.0778961970029148e-06,\n",
       " 'CRO-USDT': 2.077822079680257e-06,\n",
       " 'CRV-USDC': 1.616901234348477e-05,\n",
       " 'CRV-USDT': 1.6151654067849623e-05,\n",
       " 'CSPR-USDC': 1.1120291916187879e-06,\n",
       " 'CSPR-USDT': 1.1106042941116825e-06,\n",
       " 'CTC-USDT': 4.469783405349627e-06,\n",
       " 'CTXC-USDT': 3.990878010149556e-06,\n",
       " 'CVC-USDT': 2.8221208512986943e-06,\n",
       " 'CVP-USDT': 9.623717011176602e-06,\n",
       " 'CVX-USDT': 9.746293929175068e-05,\n",
       " 'DAI-USDT': 2.8506271379703534e-05,\n",
       " 'DAO-USDT': 1.8899657571329358e-05,\n",
       " 'DASH-USDC': 0.0008812468033841183,\n",
       " 'DASH-USDT': 0.0008805587055201949,\n",
       " 'DCR-USDT': 0.0003988027300774847,\n",
       " 'DEP-USDT': 3.229760582916685e-08,\n",
       " 'DGB-USDT': 2.1579247148560962e-07,\n",
       " 'DHT-USDT': 2.1550740660120445e-06,\n",
       " 'DIA-USDT': 8.092930236727237e-06,\n",
       " 'DOGE-ETH': 2.1002500619974457e-06,\n",
       " 'DOGE-USDC': 2.100974358726522e-06,\n",
       " 'DOGE-USDT': 2.102622658252172e-06,\n",
       " 'DOME-USDT': 1.8244013222127712e-08,\n",
       " 'DORA-USDT': 7.383124488687297e-07,\n",
       " 'DOSE-USDT': 7.636829846439842e-08,\n",
       " 'DOT-USDC': 0.00013883982406286672,\n",
       " 'DOT-USDT': 0.00013874002574107257,\n",
       " 'DYDX-USDC': 6.880733836267102e-05,\n",
       " 'DYDX-USDT': 6.889965950151398e-05,\n",
       " 'EGLD-USDC': 0.001259046060365519,\n",
       " 'EGLD-USDT': 0.0012557012325273816,\n",
       " 'ELF-USDT': 1.0433295229821548e-05,\n",
       " 'ELON-USDT': 5.339224716726728e-12,\n",
       " 'EM-USDT': 2.0011402231172797e-08,\n",
       " 'ENJ-USDT': 8.560433355133509e-06,\n",
       " 'ENS-USDC': 0.00024659523998436355,\n",
       " 'ENS-USDT': 0.0002466362721563881,\n",
       " 'EOS-ETH': 1.964208009335778e-05,\n",
       " 'EOS-USDC': 1.967348626647772e-05,\n",
       " 'EOS-USDT': 1.9643672379827554e-05,\n",
       " 'ERN-USDT': 4.8403647497823056e-05,\n",
       " 'ETC-USDC': 0.0005233631398142678,\n",
       " 'ETC-USDT': 0.0005231756169004886,\n",
       " 'ETH-DAI': 0.0541496020357294,\n",
       " 'ETH-EURT': 0.09124951086052605,\n",
       " 'ETH-USDC': 0.05419967088803137,\n",
       " 'ETH-USDT': 0.05419270114180979,\n",
       " 'ETHW-USDC': 4.5928542610858404e-05,\n",
       " 'ETHW-USDT': 4.583808552036263e-05,\n",
       " 'EURT-USDT': 3.0587227885508346e-05,\n",
       " 'FAME-USDT': 2.061003351057354e-08,\n",
       " 'FIL-ETH': 0.00012314240624035008,\n",
       " 'FIL-USDC': 0.00012325489240478223,\n",
       " 'FIL-USDT': 0.00012331813607819404,\n",
       " 'FITFI-USDT': 1.3292474011670768e-07,\n",
       " 'FLM-USDT': 2.5960660307002314e-06,\n",
       " 'FLOKI-USDC': 8.821585529668909e-10,\n",
       " 'FLOKI-USDT': 8.819270566089382e-10,\n",
       " 'FLOW-USDC': 1.694683444704437e-05,\n",
       " 'FLOW-USDT': 1.6927024181783538e-05,\n",
       " 'FLR-USDC': 3.2024616517261995e-07,\n",
       " 'FLR-USDT': 3.204104876062889e-07,\n",
       " 'FORTH-USDT': 9.130558918656074e-05,\n",
       " 'FRONT-USDT': 1.0022804769713904e-05,\n",
       " 'FSN-USDT': 6.311288275495766e-06,\n",
       " 'FTM-USDC': 7.726936043073013e-06,\n",
       " 'FTM-USDT': 7.722349232115794e-06,\n",
       " 'FXS-USDT': 0.00018982325883384714,\n",
       " 'GAL-USDT': 4.2046750964705185e-05,\n",
       " 'GALA-USDC': 6.05732542176866e-07,\n",
       " 'GALA-USDT': 6.057582731903482e-07,\n",
       " 'GALFT-USDT': 5.168186897834595e-05,\n",
       " 'GARI-USDT': 6.75313574014531e-07,\n",
       " 'GAS-USDT': 0.00033269667978841333,\n",
       " 'GEAR-USDT': 1.7844926366240567e-07,\n",
       " 'GF-USDT': 2.0524514509851333e-06,\n",
       " 'GFT-USDT': 4.854618211700544e-07,\n",
       " 'GHST-USDT': 2.5456100532375147e-05,\n",
       " 'GLM-USDT': 6.547890510091488e-06,\n",
       " 'GLMR-USDT': 6.468072873428719e-06,\n",
       " 'GMT-USDC': 6.741124755996973e-06,\n",
       " 'GMT-USDT': 6.724629410995997e-06,\n",
       " 'GMX-USDC': 0.0013621859186646252,\n",
       " 'GMX-USDT': 0.0013700114416559583,\n",
       " 'GOAL-USDT': 2.00114035585995e-06,\n",
       " 'GODS-USDT': 7.340364676380919e-06,\n",
       " 'GOG-USDT': 2.2690991702210262e-06,\n",
       " 'GRT-USDC': 4.000228143117388e-06,\n",
       " 'GRT-USDT': 3.990878010149556e-06,\n",
       " 'HBAR-USDC': 1.6419738666971456e-06,\n",
       " 'HBAR-USDT': 1.6413911531425527e-06,\n",
       " 'HC-USDT': 1.7987458011987136e-06,\n",
       " 'HNT-USDT': 4.831813148381093e-05,\n",
       " 'ICP-USDC': 0.000119607953564979,\n",
       " 'ICP-USDT': 0.00011946978291736633,\n",
       " 'ICX-USDT': 6.630558822146843e-06,\n",
       " 'ID-USDT': 7.405928936080758e-06,\n",
       " 'IGU-USDT': 9.717788237190572e-07,\n",
       " 'ILV-USDT': 0.001876852803246597,\n",
       " 'IMX-USDC': 2.563393885637323e-05,\n",
       " 'IMX-USDT': 2.563568925911915e-05,\n",
       " 'IOST-USDC': 2.5500027629797787e-07,\n",
       " 'IOST-USDT': 2.5570124999419314e-07,\n",
       " 'IOTA-USDT': 5.028506437212467e-06,\n",
       " 'IQ-USDT': 1.5592931035986783e-07,\n",
       " 'JOE-USDT': 8.460660990722638e-06,\n",
       " 'JPG-USDT': 5.590080038273756e-07,\n",
       " 'JST-USDC': 9.094535560647038e-07,\n",
       " 'JST-USDT': 9.079247143888419e-07,\n",
       " 'KAN-USDT': 3.765678583318314e-08,\n",
       " 'KAR-USDT': 3.3836943461658473e-06,\n",
       " 'KCAL-USDT': 4.484036357536011e-06,\n",
       " 'KDA-USDT': 1.650513102010555e-05,\n",
       " 'KINE-USDT': 4.062143620634568e-06,\n",
       " 'KISHU-USDT': 7.839224486830856e-15,\n",
       " 'KLAY-USDC': 4.108496130453609e-06,\n",
       " 'KLAY-USDT': 4.102052651354225e-06,\n",
       " 'KNC-USDC': 2.2992762590556467e-05,\n",
       " 'KNC-USDT': 2.3033068076778574e-05,\n",
       " 'KONO-USDT': 6.231470851221269e-07,\n",
       " 'KP3R-USDT': 0.0015219498115635244,\n",
       " 'KSM-USDC': 0.0007328052684869364,\n",
       " 'KSM-USDT': 0.000735176764980825,\n",
       " 'LAMB-USDT': 3.705815289449902e-08,\n",
       " 'LAT-USDT': 2.445838124222603e-07,\n",
       " 'LBR-USDT': 3.1442418609540845e-05,\n",
       " 'LDO-USDT': 5.715222288020796e-05,\n",
       " 'LEASH-USDT': 0.00882839259427113,\n",
       " 'LEO-USDT': 0.00011308437878076952,\n",
       " 'LET-USDT': 2.998859685831868e-08,\n",
       " 'LHINU-USDT': 7.981756095796507e-10,\n",
       " 'LING-USDT': 1.22035341178032e-07,\n",
       " 'LINK-ETH': 0.0003609178168568136,\n",
       " 'LINK-USDC': 0.0003612741553699864,\n",
       " 'LINK-USDT': 0.000360547313668437,\n",
       " 'LITH-USDT': 9.179019587944892e-09,\n",
       " 'LON-USDT': 1.696123228649457e-05,\n",
       " 'LOOKS-USDC': 2.6067012503952904e-06,\n",
       " 'LOOKS-USDT': 2.5960660307002314e-06,\n",
       " 'LPT-USDT': 0.00019062143095270937,\n",
       " 'LQTY-USDT': 4.3358039556914345e-05,\n",
       " 'LRC-USDC': 6.37358259262132e-06,\n",
       " 'LRC-USDT': 6.365450258401808e-06,\n",
       " 'LSK-USDT': 2.9988598796361665e-05,\n",
       " 'LTC-ETH': 0.0021013341160181775,\n",
       " 'LTC-USDC': 0.0021004046162374818,\n",
       " 'LTC-USDT': 0.0021006272075657427,\n",
       " 'LUNA-USDC': 1.3405322023209455e-05,\n",
       " 'LUNA-USDT': 1.3395097263862496e-05,\n",
       " 'LUNC-USDC': 1.9354378940210982e-09,\n",
       " 'LUNC-USDT': 1.9367159740625536e-09,\n",
       " 'MAGIC-USDT': 1.8631698332191737e-05,\n",
       " 'MANA-USDC': 1.2094705925007356e-05,\n",
       " 'MANA-USDT': 1.205815301789661e-05,\n",
       " 'MASK-USDC': 9.670066822627391e-05,\n",
       " 'MASK-USDT': 9.709235743758616e-05,\n",
       " 'MATIC-USDC': 2.0340191169276632e-05,\n",
       " 'MATIC-USDT': 2.0336374181706114e-05,\n",
       " 'MDT-USDT': 1.415906488861434e-06,\n",
       " 'MEME-USDT': 5.687001302515495e-07,\n",
       " 'MENGO-USDT': 1.482611167390099e-05,\n",
       " 'METIS-USDT': 0.00046180161809975635,\n",
       " 'MILO-USDT': 2.2277651660566674e-13,\n",
       " 'MINA-USDC': 1.723744997075293e-05,\n",
       " 'MINA-USDT': 1.7254846329835828e-05,\n",
       " 'MKR-USDC': 0.03795657733124039,\n",
       " 'MKR-USDT': 0.037978906751086804,\n",
       " 'MLN-USDT': 0.0004623717022050881,\n",
       " 'MOVEZ-USDT': 2.2805016527659638e-08,\n",
       " 'MOVR-USDT': 0.00013754275396992978,\n",
       " 'MRST-USDT': 1.0661345703724852e-07,\n",
       " 'MXC-USDT': 1.8785632520217443e-07,\n",
       " 'MYRIA-USDT': 1.2431584697900638e-07,\n",
       " 'NEAR-ETH': 4.455239939170179e-05,\n",
       " 'NEAR-USDC': 4.473189504963495e-05,\n",
       " 'NEAR-USDT': 4.472348885769991e-05,\n",
       " 'NEO-USDT': 0.0003779076388107874,\n",
       " 'NFT-USDT': 9.783352741893973e-12,\n",
       " 'NMR-USDT': 0.0004133409350057012,\n",
       " 'NULS-USDT': 5.9236032185288085e-06,\n",
       " 'NYM-USDT': 4.435575725415141e-06,\n",
       " 'OAS-USDT': 1.342645384362785e-06,\n",
       " 'OKB-ETH': 0.001485730384688591,\n",
       " 'OKB-USDC': 0.0014872642533175523,\n",
       " 'OKB-USDT': 0.001484891680518469,\n",
       " 'OKT-ETH': 0.00040492819949142916,\n",
       " 'OKT-USDC': 0.0004045814521985622,\n",
       " 'OKT-USDT': 0.0004050741173930152,\n",
       " 'OM-USDT': 6.325541864846967e-07,\n",
       " 'OMG-USDC': 1.766482434236628e-05,\n",
       " 'OMG-USDT': 1.775940780356917e-05,\n",
       " 'OMI-USDT': 2.0039908719613314e-08,\n",
       " 'OMN-USDT': 1.4501139829561811e-07,\n",
       " 'ONE-USDT': 3.939566702636101e-07,\n",
       " 'ONT-USDT': 6.382554310757323e-06,\n",
       " 'OP-USDC': 4.4310216557518345e-05,\n",
       " 'OP-USDT': 4.4273089791649154e-05,\n",
       " 'ORB-USDT': 3.2041049822570254e-06,\n",
       " 'ORBS-USDT': 1.1547890193378097e-06,\n",
       " 'ORDI-USDT': 0.0002066704675028506,\n",
       " 'OXT-USDT': 2.023945334224092e-06,\n",
       " 'PCI-USDT': 8.523374999806438e-07,\n",
       " 'PEOPLE-USDT': 3.858608806435711e-07,\n",
       " 'PEPE-USDT': 3.303021669681743e-11,\n",
       " 'PERP-USDT': 1.8326681587280133e-05,\n",
       " 'PHA-USDT': 3.0957810164449424e-06,\n",
       " 'PICKLE-USDT': 1.9811858405001215e-05,\n",
       " 'PIT-USDT': 8.55188133028893e-15,\n",
       " 'POLS-USDT': 9.897377601099394e-06,\n",
       " 'POLYDOGE-USDT': 1.6305587312388006e-13,\n",
       " 'POR-USDT': 3.323831267340561e-05,\n",
       " 'PRQ-USDT': 1.5678449173881635e-06,\n",
       " 'PSTAKE-USDT': 7.864880028309273e-07,\n",
       " 'QOM-USDT': 6.884264348245354e-13,\n",
       " 'QTUM-USDT': 9.010832421184266e-05,\n",
       " 'RACA-USDT': 5.629133379873751e-09,\n",
       " 'RADAR-USDT': 1.7844926366240567e-07,\n",
       " 'RAY-USDT': 7.423032988436273e-06,\n",
       " 'RDNT-USDC': 7.829506028119e-06,\n",
       " 'RDNT-USDT': 7.850627500899433e-06,\n",
       " 'REN-USDT': 1.8129989657733703e-06,\n",
       " 'REP-USDT': 2.4201823748911528e-05,\n",
       " 'REVV-USDT': 2.7137969916807474e-07,\n",
       " 'RIO-USDT': 1.0034207471284247e-05,\n",
       " 'RNDR-USDT': 6.850057344208285e-05,\n",
       " 'RON-USDT': 1.7417331853777408e-05,\n",
       " 'RPL-USDC': 0.0007345148067310248,\n",
       " 'RPL-USDT': 0.00072976055819469,\n",
       " 'RSR-USDT': 7.135119632166834e-08,\n",
       " 'RSS3-USDT': 2.9250284913872093e-06,\n",
       " 'RVN-USDT': 5.210946264125602e-07,\n",
       " 'SAITAMA-USDT': 2.8021665748756724e-08,\n",
       " 'SAMO-USDT': 1.3617445325039267e-07,\n",
       " 'SAND-USDC': 1.1069006923664887e-05,\n",
       " 'SAND-USDT': 1.1077536824355783e-05,\n",
       " 'SC-USDT': 1.0801026169656688e-07,\n",
       " 'SD-USDT': 1.9521095461829087e-05,\n",
       " 'SHIB-USDC': 2.3727848165278165e-10,\n",
       " 'SHIB-USDT': 2.3754274918543264e-10,\n",
       " 'SIS-USDT': 4.110604252755438e-06,\n",
       " 'SKEB-USDT': 4.7633980460329024e-08,\n",
       " 'SKL-USDT': 8.03876867859774e-07,\n",
       " 'SLP-USDT': 6.818700265330491e-08,\n",
       " 'SNT-USDT': 1.4281641594224535e-06,\n",
       " 'SNX-USDC': 7.347997025999495e-05,\n",
       " 'SNX-USDT': 7.343215436728813e-05,\n",
       " 'SOL-ETH': 0.0011474140015587803,\n",
       " 'SOL-USDC': 0.0011490397904630985,\n",
       " 'SOL-USDT': 0.001146921355748802,\n",
       " 'SPELL-USDT': 1.490592997427711e-08,\n",
       " 'SPURS-USDT': 0.0001011972620386626,\n",
       " 'SSV-USDT': 0.00045210945429524646,\n",
       " 'SSWP-USDT': 1.670467446132339e-08,\n",
       " 'STARL-USDT': 1.1153078045553454e-10,\n",
       " 'STC-USDT': 3.514823290342072e-06,\n",
       " 'STETH-ETH': 0.05414038085820794,\n",
       " 'STETH-USDT': 0.05420553105179233,\n",
       " 'STORJ-USDC': 1.3174539556855986e-05,\n",
       " 'STORJ-USDT': 1.3218357938181444e-05,\n",
       " 'STX-USDC': 1.9226166127217013e-05,\n",
       " 'STX-USDT': 1.9153363008727506e-05,\n",
       " 'SUI-USDT': 1.4846065976872547e-05,\n",
       " 'SUN-USDT': 1.8785632520217443e-07,\n",
       " 'SUSHI-USDC': 2.8334947330427685e-05,\n",
       " 'SUSHI-USDT': 2.8278220746509026e-05,\n",
       " 'SWEAT-USDT': 2.5878563213205666e-07,\n",
       " 'SWFTC-USDT': 3.226909934072633e-08,\n",
       " 'T-USDT': 6.787342995303251e-07,\n",
       " 'TAKI-USDT': 1.793044450413542e-07,\n",
       " 'TAMA-USDT': 2.260832275299009e-07,\n",
       " 'THETA-USDC': 2.333466310678802e-05,\n",
       " 'THETA-USDT': 2.3375142327464158e-05,\n",
       " 'THG-USDT': 9.692132795822117e-07,\n",
       " 'TIA-USDT': 6.673318358348468e-05,\n",
       " 'TON-USDC': 6.603795216289896e-05,\n",
       " 'TON-USDT': 6.598916537677412e-05,\n",
       " 'TRA-USDT': 2.8648802600673558e-05,\n",
       " 'TRB-USDT': 0.0036277651379018716,\n",
       " 'TRX-ETH': 2.793467990817145e-06,\n",
       " 'TRX-USDC': 2.7990199723565156e-06,\n",
       " 'TRX-USDT': 2.798745822811344e-06,\n",
       " 'TUP-USDT': 7.297605288851084e-07,\n",
       " 'TURBO-USDT': 3.814139115882181e-09,\n",
       " 'UMA-USDT': 4.5610034887168125e-05,\n",
       " 'UNI-USDC': 0.00014493703040596264,\n",
       " 'UNI-USDT': 0.00014461231340432248,\n",
       " 'UP-RVN': 6.722120909010528e-09,\n",
       " 'USDC-USDT': 2.849201757796406e-05,\n",
       " 'USDT-TRY': 2.8506271379703534e-05,\n",
       " 'USDT-USDC': 2.8505896739426065e-05,\n",
       " 'USTC-USDT': 3.375142479279294e-07,\n",
       " 'UTK-USDT': 1.9013682038373523e-06,\n",
       " 'VELA-USDT': 2.3178448698811546e-05,\n",
       " 'VELO-USDT': 7.93899663276928e-08,\n",
       " 'VELODROME-USDT': 1.225484579699613e-06,\n",
       " 'VRA-USDT': 1.8720068260517605e-07,\n",
       " 'VSYS-USDT': 3.1271378882441714e-08,\n",
       " 'WAVES-USDC': 5.7353695693318476e-05,\n",
       " 'WAVES-USDT': 5.7297605201347116e-05,\n",
       " 'WAXP-USDT': 1.8443557579269975e-06,\n",
       " 'WBTC-USDT': 0.9974287565920752,\n",
       " 'WGRT-USDT': 9.806157023929476e-08,\n",
       " 'WIFI-USDT': 1.0262257254925667e-06,\n",
       " 'WIN-USDT': 2.098061578619605e-09,\n",
       " 'WLD-USDT': 5.1567845360854874e-05,\n",
       " 'WNCG-USDT': 2.149372927615145e-06,\n",
       " 'WOO-USDT': 6.969783246992931e-06,\n",
       " 'WSB-USDT': 3.8597489996019966e-08,\n",
       " 'WSM-USDT': 6.45952116583337e-07,\n",
       " 'WXT-USDT': 1.5307867479008306e-07,\n",
       " 'XAUT-USDT': 0.056533636008320266,\n",
       " 'XCH-USDT': 0.0007719498267875158,\n",
       " 'XEC-USDT': 8.586088880295775e-10,\n",
       " 'XEM-USDT': 9.521094396149691e-07,\n",
       " 'XETA-USDT': 2.1978335331874807e-07,\n",
       " 'XLM-ETH': 3.7777400514713857e-06,\n",
       " 'XLM-USDC': 3.777423134705465e-06,\n",
       " 'XLM-USDT': 3.7682441274551598e-06,\n",
       " 'XMR-ETH': 0.004724613951243517,\n",
       " 'XMR-USDC': 0.004721921355277767,\n",
       " 'XMR-USDT': 0.004730330742343394,\n",
       " 'XNO-USDT': 2.049600860547856e-05,\n",
       " 'XPR-USDT': 2.3175599218102993e-08,\n",
       " 'XRP-ETH': 2.043339982463828e-05,\n",
       " 'XRP-USDC': 2.0441905243986795e-05,\n",
       " 'XRP-USDT': 2.0445553647479555e-05,\n",
       " 'XTZ-USDC': 2.333466310678802e-05,\n",
       " 'XTZ-USDT': 2.3375142327464158e-05,\n",
       " 'YFI-USDC': 0.1722035443615021,\n",
       " 'YFI-USDT': 0.17229190421892815,\n",
       " 'YFII-USDC': 0.015750184847939164,\n",
       " 'YFII-USDT': 0.01575541653953909,\n",
       " 'YGG-USDC': 9.370904592674569e-06,\n",
       " 'YGG-USDT': 9.401368578320354e-06,\n",
       " 'ZBC-USDT': 2.4290193624140324e-07,\n",
       " 'ZEC-USDC': 0.0008325260502978658,\n",
       " 'ZEC-USDT': 0.0008346636455714226,\n",
       " 'ZEN-USDT': 0.0002884264546897827,\n",
       " 'ZIL-USDC': 5.929112940461175e-07,\n",
       " 'ZIL-USDT': 5.937856276909329e-07,\n",
       " 'ZKS-USDT': 1.171607728049312e-06,\n",
       " 'ZRX-USDT': 7.5256556034631845e-06}"
      ]
     },
     "execution_count": 224,
     "metadata": {},
     "output_type": "execute_result"
    },
    {
     "name": "stdout",
     "output_type": "stream",
     "text": [
      "time: 297 ms (started: 2023-12-04 17:36:40 +03:00)\n"
     ]
    },
    {
     "data": {
      "application/javascript": [
       "\n",
       "            setTimeout(function() {\n",
       "                var nbb_cell_id = 224;\n",
       "                var nbb_unformatted_code = \"vol_conversion_rates = get_conversion_rates(df)\\nvol_conversion_rates\";\n",
       "                var nbb_formatted_code = \"vol_conversion_rates = get_conversion_rates(df)\\nvol_conversion_rates\";\n",
       "                var nbb_cells = Jupyter.notebook.get_cells();\n",
       "                for (var i = 0; i < nbb_cells.length; ++i) {\n",
       "                    if (nbb_cells[i].input_prompt_number == nbb_cell_id) {\n",
       "                        if (nbb_cells[i].get_text() == nbb_unformatted_code) {\n",
       "                             nbb_cells[i].set_text(nbb_formatted_code);\n",
       "                        }\n",
       "                        break;\n",
       "                    }\n",
       "                }\n",
       "            }, 500);\n",
       "            "
      ],
      "text/plain": [
       "<IPython.core.display.Javascript object>"
      ]
     },
     "metadata": {},
     "output_type": "display_data"
    }
   ],
   "source": [
    "vol_conversion_rates = get_conversion_rates(df)\n",
    "vol_conversion_rates"
   ]
  },
  {
   "cell_type": "markdown",
   "id": "5543b8f9",
   "metadata": {
    "hidden": true
   },
   "source": [
    "## Basic stats"
   ]
  },
  {
   "cell_type": "code",
   "execution_count": 110,
   "id": "e6313fca",
   "metadata": {
    "hidden": true
   },
   "outputs": [
    {
     "name": "stdout",
     "output_type": "stream",
     "text": [
      "<class 'pandas.core.frame.DataFrame'>\n",
      "Index: 2409226 entries, 313 to 55975\n",
      "Data columns (total 6 columns):\n",
      " #   Column   Dtype         \n",
      "---  ------   -----         \n",
      " 0   ticker   object        \n",
      " 1   tradeid  uint32        \n",
      " 2   side     int8          \n",
      " 3   volume   float32       \n",
      " 4   price    float32       \n",
      " 5   ts       datetime64[ns]\n",
      "dtypes: datetime64[ns](1), float32(2), int8(1), object(1), uint32(1)\n",
      "memory usage: 85.0+ MB\n",
      "time: 0 ns (started: 2023-12-03 21:48:09 +03:00)\n"
     ]
    },
    {
     "data": {
      "application/javascript": [
       "\n",
       "            setTimeout(function() {\n",
       "                var nbb_cell_id = 110;\n",
       "                var nbb_unformatted_code = \"df.info()\";\n",
       "                var nbb_formatted_code = \"df.info()\";\n",
       "                var nbb_cells = Jupyter.notebook.get_cells();\n",
       "                for (var i = 0; i < nbb_cells.length; ++i) {\n",
       "                    if (nbb_cells[i].input_prompt_number == nbb_cell_id) {\n",
       "                        if (nbb_cells[i].get_text() == nbb_unformatted_code) {\n",
       "                             nbb_cells[i].set_text(nbb_formatted_code);\n",
       "                        }\n",
       "                        break;\n",
       "                    }\n",
       "                }\n",
       "            }, 500);\n",
       "            "
      ],
      "text/plain": [
       "<IPython.core.display.Javascript object>"
      ]
     },
     "metadata": {},
     "output_type": "display_data"
    }
   ],
   "source": [
    "df.info()"
   ]
  },
  {
   "cell_type": "markdown",
   "id": "c9df3cc0",
   "metadata": {
    "hidden": true
   },
   "source": [
    "### Trading hours"
   ]
  },
  {
   "cell_type": "code",
   "execution_count": 78,
   "id": "b1371480",
   "metadata": {
    "hidden": true
   },
   "outputs": [
    {
     "data": {
      "text/plain": [
       "<Axes: title={'center': 'NTransactions by hour'}, xlabel='ts'>"
      ]
     },
     "execution_count": 78,
     "metadata": {},
     "output_type": "execute_result"
    },
    {
     "data": {
      "image/png": "[encoded data removed]",
      "text/plain": [
       "<Figure size 432x288 with 1 Axes>"
      ]
     },
     "metadata": {
      "needs_background": "light"
     },
     "output_type": "display_data"
    },
    {
     "name": "stdout",
     "output_type": "stream",
     "text": [
      "time: 532 ms (started: 2023-12-03 20:56:57 +03:00)\n"
     ]
    },
    {
     "data": {
      "application/javascript": [
       "\n",
       "            setTimeout(function() {\n",
       "                var nbb_cell_id = 78;\n",
       "                var nbb_unformatted_code = \"df.ts.dt.hour.value_counts().sort_index().plot(title=\\\"NTransactions by hour\\\")\";\n",
       "                var nbb_formatted_code = \"df.ts.dt.hour.value_counts().sort_index().plot(title=\\\"NTransactions by hour\\\")\";\n",
       "                var nbb_cells = Jupyter.notebook.get_cells();\n",
       "                for (var i = 0; i < nbb_cells.length; ++i) {\n",
       "                    if (nbb_cells[i].input_prompt_number == nbb_cell_id) {\n",
       "                        if (nbb_cells[i].get_text() == nbb_unformatted_code) {\n",
       "                             nbb_cells[i].set_text(nbb_formatted_code);\n",
       "                        }\n",
       "                        break;\n",
       "                    }\n",
       "                }\n",
       "            }, 500);\n",
       "            "
      ],
      "text/plain": [
       "<IPython.core.display.Javascript object>"
      ]
     },
     "metadata": {},
     "output_type": "display_data"
    }
   ],
   "source": [
    "df.ts.dt.hour.value_counts().sort_index().plot(title=\"NTransactions by hour\")"
   ]
  },
  {
   "cell_type": "code",
   "execution_count": 62,
   "id": "f63d80eb",
   "metadata": {
    "hidden": true
   },
   "outputs": [
    {
     "name": "stderr",
     "output_type": "stream",
     "text": [
      "S:\\recovered13\\Programming\\MyCurrentProjects\\StocksRanking\\stocksranking.py:70: DtypeWarning: Columns (1,3,4,5) have mixed types. Specify dtype option on import or set low_memory=False.\n",
      "  df = pd.read_csv(join(datapath, fname), encoding=\"GBK\", header=None, low_memory=True)\n"
     ]
    },
    {
     "data": {
      "application/vnd.jupyter.widget-view+json": {
       "model_id": "",
       "version_major": 2,
       "version_minor": 0
      },
      "text/plain": [
       "checking float2int:   0%|          | 0/2 [00:00<?, ?it/s]"
      ]
     },
     "metadata": {},
     "output_type": "display_data"
    },
    {
     "data": {
      "application/vnd.jupyter.widget-view+json": {
       "model_id": "",
       "version_major": 2,
       "version_minor": 0
      },
      "text/plain": [
       "size reduction:   0%|          | 0/3 [00:00<?, ?it/s]"
      ]
     },
     "metadata": {},
     "output_type": "display_data"
    },
    {
     "data": {
      "text/html": [
       "<div>\n",
       "<style scoped>\n",
       "    .dataframe tbody tr th:only-of-type {\n",
       "        vertical-align: middle;\n",
       "    }\n",
       "\n",
       "    .dataframe tbody tr th {\n",
       "        vertical-align: top;\n",
       "    }\n",
       "\n",
       "    .dataframe thead th {\n",
       "        text-align: right;\n",
       "    }\n",
       "</style>\n",
       "<table border=\"1\" class=\"dataframe\">\n",
       "  <thead>\n",
       "    <tr style=\"text-align: right;\">\n",
       "      <th></th>\n",
       "      <th>ticker</th>\n",
       "      <th>tradeid</th>\n",
       "      <th>side</th>\n",
       "      <th>volume</th>\n",
       "      <th>price</th>\n",
       "      <th>ts</th>\n",
       "    </tr>\n",
       "  </thead>\n",
       "  <tbody>\n",
       "    <tr>\n",
       "      <th>417425</th>\n",
       "      <td>STARL-USDT</td>\n",
       "      <td>26738651</td>\n",
       "      <td>1</td>\n",
       "      <td>187790.0</td>\n",
       "      <td>2.67300e-06</td>\n",
       "      <td>2022-12-23 16:00:07.156</td>\n",
       "    </tr>\n",
       "    <tr>\n",
       "      <th>888849</th>\n",
       "      <td>STARL-USDT</td>\n",
       "      <td>26738653</td>\n",
       "      <td>-1</td>\n",
       "      <td>678864.0</td>\n",
       "      <td>2.67300e-06</td>\n",
       "      <td>2022-12-23 16:00:30.157</td>\n",
       "    </tr>\n",
       "    <tr>\n",
       "      <th>888732</th>\n",
       "      <td>STARL-USDT</td>\n",
       "      <td>26738654</td>\n",
       "      <td>-1</td>\n",
       "      <td>300000.0</td>\n",
       "      <td>2.67200e-06</td>\n",
       "      <td>2022-12-23 16:03:02.561</td>\n",
       "    </tr>\n",
       "    <tr>\n",
       "      <th>888238</th>\n",
       "      <td>STARL-USDT</td>\n",
       "      <td>26738655</td>\n",
       "      <td>-1</td>\n",
       "      <td>2676577.0</td>\n",
       "      <td>2.67000e-06</td>\n",
       "      <td>2022-12-23 16:03:02.561</td>\n",
       "    </tr>\n",
       "    <tr>\n",
       "      <th>886655</th>\n",
       "      <td>STARL-USDT</td>\n",
       "      <td>26738656</td>\n",
       "      <td>-1</td>\n",
       "      <td>2330388.0</td>\n",
       "      <td>2.66500e-06</td>\n",
       "      <td>2022-12-23 16:03:02.561</td>\n",
       "    </tr>\n",
       "    <tr>\n",
       "      <th>...</th>\n",
       "      <td>...</td>\n",
       "      <td>...</td>\n",
       "      <td>...</td>\n",
       "      <td>...</td>\n",
       "      <td>...</td>\n",
       "      <td>...</td>\n",
       "    </tr>\n",
       "    <tr>\n",
       "      <th>414236</th>\n",
       "      <td>STARL-USDT</td>\n",
       "      <td>26749637</td>\n",
       "      <td>1</td>\n",
       "      <td>270389.0</td>\n",
       "      <td>2.61200e-06</td>\n",
       "      <td>2022-12-24 15:57:05.956</td>\n",
       "    </tr>\n",
       "    <tr>\n",
       "      <th>414263</th>\n",
       "      <td>STARL-USDT</td>\n",
       "      <td>26749639</td>\n",
       "      <td>1</td>\n",
       "      <td>1063455.0</td>\n",
       "      <td>2.61500e-06</td>\n",
       "      <td>2022-12-24 15:57:15.488</td>\n",
       "    </tr>\n",
       "    <tr>\n",
       "      <th>414275</th>\n",
       "      <td>STARL-USDT</td>\n",
       "      <td>26749640</td>\n",
       "      <td>1</td>\n",
       "      <td>83740.0</td>\n",
       "      <td>2.61600e-06</td>\n",
       "      <td>2022-12-24 15:57:15.488</td>\n",
       "    </tr>\n",
       "    <tr>\n",
       "      <th>414252</th>\n",
       "      <td>STARL-USDT</td>\n",
       "      <td>26749644</td>\n",
       "      <td>1</td>\n",
       "      <td>1449533.0</td>\n",
       "      <td>2.61400e-06</td>\n",
       "      <td>2022-12-24 15:57:19.062</td>\n",
       "    </tr>\n",
       "    <tr>\n",
       "      <th>414244</th>\n",
       "      <td>STARL-USDT</td>\n",
       "      <td>26749645</td>\n",
       "      <td>1</td>\n",
       "      <td>490986.0</td>\n",
       "      <td>2.61300e-06</td>\n",
       "      <td>2022-12-24 15:57:23.955</td>\n",
       "    </tr>\n",
       "  </tbody>\n",
       "</table>\n",
       "<p>6906 rows × 6 columns</p>\n",
       "</div>"
      ],
      "text/plain": [
       "            ticker   tradeid  side     volume        price  \\\n",
       "417425  STARL-USDT  26738651     1   187790.0  2.67300e-06   \n",
       "888849  STARL-USDT  26738653    -1   678864.0  2.67300e-06   \n",
       "888732  STARL-USDT  26738654    -1   300000.0  2.67200e-06   \n",
       "888238  STARL-USDT  26738655    -1  2676577.0  2.67000e-06   \n",
       "886655  STARL-USDT  26738656    -1  2330388.0  2.66500e-06   \n",
       "...            ...       ...   ...        ...          ...   \n",
       "414236  STARL-USDT  26749637     1   270389.0  2.61200e-06   \n",
       "414263  STARL-USDT  26749639     1  1063455.0  2.61500e-06   \n",
       "414275  STARL-USDT  26749640     1    83740.0  2.61600e-06   \n",
       "414252  STARL-USDT  26749644     1  1449533.0  2.61400e-06   \n",
       "414244  STARL-USDT  26749645     1   490986.0  2.61300e-06   \n",
       "\n",
       "                            ts  \n",
       "417425 2022-12-23 16:00:07.156  \n",
       "888849 2022-12-23 16:00:30.157  \n",
       "888732 2022-12-23 16:03:02.561  \n",
       "888238 2022-12-23 16:03:02.561  \n",
       "886655 2022-12-23 16:03:02.561  \n",
       "...                        ...  \n",
       "414236 2022-12-24 15:57:05.956  \n",
       "414263 2022-12-24 15:57:15.488  \n",
       "414275 2022-12-24 15:57:15.488  \n",
       "414252 2022-12-24 15:57:19.062  \n",
       "414244 2022-12-24 15:57:23.955  \n",
       "\n",
       "[6906 rows x 6 columns]"
      ]
     },
     "execution_count": 62,
     "metadata": {},
     "output_type": "execute_result"
    },
    {
     "name": "stdout",
     "output_type": "stream",
     "text": [
      "time: 15.3 s (started: 2023-12-11 12:04:36 +03:00)\n"
     ]
    },
    {
     "data": {
      "application/javascript": [
       "\n",
       "            setTimeout(function() {\n",
       "                var nbb_cell_id = 62;\n",
       "                var nbb_unformatted_code = \"read_okx_daily_trades(\\\"allspot-aggtrades-2022-12-24.zip\\\", clean=True).query(\\\"ticker=='STARL-USDT'\\\")\";\n",
       "                var nbb_formatted_code = \"read_okx_daily_trades(\\\"allspot-aggtrades-2022-12-24.zip\\\", clean=True).query(\\\"ticker=='STARL-USDT'\\\")\";\n",
       "                var nbb_cells = Jupyter.notebook.get_cells();\n",
       "                for (var i = 0; i < nbb_cells.length; ++i) {\n",
       "                    if (nbb_cells[i].input_prompt_number == nbb_cell_id) {\n",
       "                        if (nbb_cells[i].get_text() == nbb_unformatted_code) {\n",
       "                             nbb_cells[i].set_text(nbb_formatted_code);\n",
       "                        }\n",
       "                        break;\n",
       "                    }\n",
       "                }\n",
       "            }, 500);\n",
       "            "
      ],
      "text/plain": [
       "<IPython.core.display.Javascript object>"
      ]
     },
     "metadata": {},
     "output_type": "display_data"
    }
   ],
   "source": [
    "read_okx_daily_trades(\"allspot-aggtrades-2022-12-24.zip\", clean=True).query(\"ticker=='STARL-USDT'\")"
   ]
  },
  {
   "cell_type": "code",
   "execution_count": 63,
   "id": "9bb57c37",
   "metadata": {
    "hidden": true
   },
   "outputs": [
    {
     "name": "stderr",
     "output_type": "stream",
     "text": [
      "S:\\recovered13\\Programming\\MyCurrentProjects\\StocksRanking\\stocksranking.py:70: DtypeWarning: Columns (1,3,4,5) have mixed types. Specify dtype option on import or set low_memory=False.\n",
      "  df = pd.read_csv(join(datapath, fname), encoding=\"GBK\", header=None, low_memory=True)\n"
     ]
    },
    {
     "data": {
      "application/vnd.jupyter.widget-view+json": {
       "model_id": "",
       "version_major": 2,
       "version_minor": 0
      },
      "text/plain": [
       "checking float2int:   0%|          | 0/2 [00:00<?, ?it/s]"
      ]
     },
     "metadata": {},
     "output_type": "display_data"
    },
    {
     "data": {
      "application/vnd.jupyter.widget-view+json": {
       "model_id": "",
       "version_major": 2,
       "version_minor": 0
      },
      "text/plain": [
       "size reduction:   0%|          | 0/3 [00:00<?, ?it/s]"
      ]
     },
     "metadata": {},
     "output_type": "display_data"
    },
    {
     "data": {
      "text/html": [
       "<div>\n",
       "<style scoped>\n",
       "    .dataframe tbody tr th:only-of-type {\n",
       "        vertical-align: middle;\n",
       "    }\n",
       "\n",
       "    .dataframe tbody tr th {\n",
       "        vertical-align: top;\n",
       "    }\n",
       "\n",
       "    .dataframe thead th {\n",
       "        text-align: right;\n",
       "    }\n",
       "</style>\n",
       "<table border=\"1\" class=\"dataframe\">\n",
       "  <thead>\n",
       "    <tr style=\"text-align: right;\">\n",
       "      <th></th>\n",
       "      <th>ticker</th>\n",
       "      <th>tradeid</th>\n",
       "      <th>side</th>\n",
       "      <th>volume</th>\n",
       "      <th>price</th>\n",
       "      <th>ts</th>\n",
       "    </tr>\n",
       "  </thead>\n",
       "  <tbody>\n",
       "    <tr>\n",
       "      <th>1127934</th>\n",
       "      <td>STARL-USDT</td>\n",
       "      <td>26749665</td>\n",
       "      <td>1</td>\n",
       "      <td>652307.0</td>\n",
       "      <td>2.61100e-06</td>\n",
       "      <td>2022-12-24 16:00:00.756</td>\n",
       "    </tr>\n",
       "    <tr>\n",
       "      <th>1128094</th>\n",
       "      <td>STARL-USDT</td>\n",
       "      <td>26749673</td>\n",
       "      <td>1</td>\n",
       "      <td>869195.0</td>\n",
       "      <td>2.61400e-06</td>\n",
       "      <td>2022-12-24 16:00:58.056</td>\n",
       "    </tr>\n",
       "    <tr>\n",
       "      <th>1128119</th>\n",
       "      <td>STARL-USDT</td>\n",
       "      <td>26749675</td>\n",
       "      <td>1</td>\n",
       "      <td>390138.0</td>\n",
       "      <td>2.61500e-06</td>\n",
       "      <td>2022-12-24 16:01:04.023</td>\n",
       "    </tr>\n",
       "    <tr>\n",
       "      <th>1128157</th>\n",
       "      <td>STARL-USDT</td>\n",
       "      <td>26749677</td>\n",
       "      <td>1</td>\n",
       "      <td>16844086.0</td>\n",
       "      <td>2.61600e-06</td>\n",
       "      <td>2022-12-24 16:01:04.421</td>\n",
       "    </tr>\n",
       "    <tr>\n",
       "      <th>63804</th>\n",
       "      <td>STARL-USDT</td>\n",
       "      <td>26749668</td>\n",
       "      <td>-1</td>\n",
       "      <td>2116333.0</td>\n",
       "      <td>2.61300e-06</td>\n",
       "      <td>2022-12-24 16:01:17.824</td>\n",
       "    </tr>\n",
       "    <tr>\n",
       "      <th>...</th>\n",
       "      <td>...</td>\n",
       "      <td>...</td>\n",
       "      <td>...</td>\n",
       "      <td>...</td>\n",
       "      <td>...</td>\n",
       "      <td>...</td>\n",
       "    </tr>\n",
       "    <tr>\n",
       "      <th>63174</th>\n",
       "      <td>STARL-USDT</td>\n",
       "      <td>26759743</td>\n",
       "      <td>-1</td>\n",
       "      <td>433957.0</td>\n",
       "      <td>2.60200e-06</td>\n",
       "      <td>2022-12-25 15:58:43.200</td>\n",
       "    </tr>\n",
       "    <tr>\n",
       "      <th>63342</th>\n",
       "      <td>STARL-USDT</td>\n",
       "      <td>26759745</td>\n",
       "      <td>-1</td>\n",
       "      <td>712130.0</td>\n",
       "      <td>2.60400e-06</td>\n",
       "      <td>2022-12-25 15:58:43.200</td>\n",
       "    </tr>\n",
       "    <tr>\n",
       "      <th>63343</th>\n",
       "      <td>STARL-USDT</td>\n",
       "      <td>26759752</td>\n",
       "      <td>-1</td>\n",
       "      <td>931385.0</td>\n",
       "      <td>2.60400e-06</td>\n",
       "      <td>2022-12-25 15:58:43.200</td>\n",
       "    </tr>\n",
       "    <tr>\n",
       "      <th>1127380</th>\n",
       "      <td>STARL-USDT</td>\n",
       "      <td>26759749</td>\n",
       "      <td>1</td>\n",
       "      <td>594962.0</td>\n",
       "      <td>2.60200e-06</td>\n",
       "      <td>2022-12-25 15:59:11.256</td>\n",
       "    </tr>\n",
       "    <tr>\n",
       "      <th>1127458</th>\n",
       "      <td>STARL-USDT</td>\n",
       "      <td>26759750</td>\n",
       "      <td>1</td>\n",
       "      <td>538330.0</td>\n",
       "      <td>2.60300e-06</td>\n",
       "      <td>2022-12-25 15:59:23.256</td>\n",
       "    </tr>\n",
       "  </tbody>\n",
       "</table>\n",
       "<p>6315 rows × 6 columns</p>\n",
       "</div>"
      ],
      "text/plain": [
       "             ticker   tradeid  side      volume        price  \\\n",
       "1127934  STARL-USDT  26749665     1    652307.0  2.61100e-06   \n",
       "1128094  STARL-USDT  26749673     1    869195.0  2.61400e-06   \n",
       "1128119  STARL-USDT  26749675     1    390138.0  2.61500e-06   \n",
       "1128157  STARL-USDT  26749677     1  16844086.0  2.61600e-06   \n",
       "63804    STARL-USDT  26749668    -1   2116333.0  2.61300e-06   \n",
       "...             ...       ...   ...         ...          ...   \n",
       "63174    STARL-USDT  26759743    -1    433957.0  2.60200e-06   \n",
       "63342    STARL-USDT  26759745    -1    712130.0  2.60400e-06   \n",
       "63343    STARL-USDT  26759752    -1    931385.0  2.60400e-06   \n",
       "1127380  STARL-USDT  26759749     1    594962.0  2.60200e-06   \n",
       "1127458  STARL-USDT  26759750     1    538330.0  2.60300e-06   \n",
       "\n",
       "                             ts  \n",
       "1127934 2022-12-24 16:00:00.756  \n",
       "1128094 2022-12-24 16:00:58.056  \n",
       "1128119 2022-12-24 16:01:04.023  \n",
       "1128157 2022-12-24 16:01:04.421  \n",
       "63804   2022-12-24 16:01:17.824  \n",
       "...                         ...  \n",
       "63174   2022-12-25 15:58:43.200  \n",
       "63342   2022-12-25 15:58:43.200  \n",
       "63343   2022-12-25 15:58:43.200  \n",
       "1127380 2022-12-25 15:59:11.256  \n",
       "1127458 2022-12-25 15:59:23.256  \n",
       "\n",
       "[6315 rows x 6 columns]"
      ]
     },
     "execution_count": 63,
     "metadata": {},
     "output_type": "execute_result"
    },
    {
     "name": "stdout",
     "output_type": "stream",
     "text": [
      "time: 15.1 s (started: 2023-12-11 12:04:51 +03:00)\n"
     ]
    },
    {
     "data": {
      "application/javascript": [
       "\n",
       "            setTimeout(function() {\n",
       "                var nbb_cell_id = 63;\n",
       "                var nbb_unformatted_code = \"read_okx_daily_trades(\\\"allspot-aggtrades-2022-12-25.zip\\\", clean=True).query(\\\"ticker=='STARL-USDT'\\\")\";\n",
       "                var nbb_formatted_code = \"read_okx_daily_trades(\\\"allspot-aggtrades-2022-12-25.zip\\\", clean=True).query(\\\"ticker=='STARL-USDT'\\\")\";\n",
       "                var nbb_cells = Jupyter.notebook.get_cells();\n",
       "                for (var i = 0; i < nbb_cells.length; ++i) {\n",
       "                    if (nbb_cells[i].input_prompt_number == nbb_cell_id) {\n",
       "                        if (nbb_cells[i].get_text() == nbb_unformatted_code) {\n",
       "                             nbb_cells[i].set_text(nbb_formatted_code);\n",
       "                        }\n",
       "                        break;\n",
       "                    }\n",
       "                }\n",
       "            }, 500);\n",
       "            "
      ],
      "text/plain": [
       "<IPython.core.display.Javascript object>"
      ]
     },
     "metadata": {},
     "output_type": "display_data"
    }
   ],
   "source": [
    "read_okx_daily_trades(\"allspot-aggtrades-2022-12-25.zip\", clean=True).query(\"ticker=='STARL-USDT'\")"
   ]
  },
  {
   "cell_type": "markdown",
   "id": "dfd1f629",
   "metadata": {
    "hidden": true
   },
   "source": [
    "### Coins that survided 2 years"
   ]
  },
  {
   "cell_type": "code",
   "execution_count": 63,
   "id": "0debaf16",
   "metadata": {
    "hidden": true
   },
   "outputs": [
    {
     "name": "stderr",
     "output_type": "stream",
     "text": [
      "<ipython-input-57-db23aef41d46>:2: DtypeWarning: Columns (1,3,4,5) have mixed types. Specify dtype option on import or set low_memory=False.\n",
      "  df = pd.read_csv(join(datapath, fname), encoding=\"GBK\", header=None)\n"
     ]
    },
    {
     "data": {
      "text/plain": [
       "484"
      ]
     },
     "execution_count": 63,
     "metadata": {},
     "output_type": "execute_result"
    },
    {
     "name": "stdout",
     "output_type": "stream",
     "text": [
      "time: 4.34 s (started: 2023-12-03 20:31:53 +03:00)\n"
     ]
    },
    {
     "data": {
      "application/javascript": [
       "\n",
       "            setTimeout(function() {\n",
       "                var nbb_cell_id = 63;\n",
       "                var nbb_unformatted_code = \"new_coins =  set(read_okx_daily_trades(\\\"allspot-aggtrades-2023-11-07.zip\\\").ticker.unique())\\nlen(new_coins)\";\n",
       "                var nbb_formatted_code = \"new_coins = set(read_okx_daily_trades(\\\"allspot-aggtrades-2023-11-07.zip\\\").ticker.unique())\\nlen(new_coins)\";\n",
       "                var nbb_cells = Jupyter.notebook.get_cells();\n",
       "                for (var i = 0; i < nbb_cells.length; ++i) {\n",
       "                    if (nbb_cells[i].input_prompt_number == nbb_cell_id) {\n",
       "                        if (nbb_cells[i].get_text() == nbb_unformatted_code) {\n",
       "                             nbb_cells[i].set_text(nbb_formatted_code);\n",
       "                        }\n",
       "                        break;\n",
       "                    }\n",
       "                }\n",
       "            }, 500);\n",
       "            "
      ],
      "text/plain": [
       "<IPython.core.display.Javascript object>"
      ]
     },
     "metadata": {},
     "output_type": "display_data"
    }
   ],
   "source": [
    "new_coins = set(read_okx_daily_trades(\"allspot-aggtrades-2023-11-07.zip\").ticker.unique())\n",
    "len(new_coins)"
   ]
  },
  {
   "cell_type": "code",
   "execution_count": 51,
   "id": "c2b4b822",
   "metadata": {
    "hidden": true
   },
   "outputs": [
    {
     "data": {
      "text/html": [
       "<div>\n",
       "<style scoped>\n",
       "    .dataframe tbody tr th:only-of-type {\n",
       "        vertical-align: middle;\n",
       "    }\n",
       "\n",
       "    .dataframe tbody tr th {\n",
       "        vertical-align: top;\n",
       "    }\n",
       "\n",
       "    .dataframe thead th {\n",
       "        text-align: right;\n",
       "    }\n",
       "</style>\n",
       "<table border=\"1\" class=\"dataframe\">\n",
       "  <thead>\n",
       "    <tr style=\"text-align: right;\">\n",
       "      <th></th>\n",
       "      <th>0</th>\n",
       "      <th>1</th>\n",
       "      <th>2</th>\n",
       "      <th>3</th>\n",
       "      <th>4</th>\n",
       "      <th>5</th>\n",
       "    </tr>\n",
       "  </thead>\n",
       "  <tbody>\n",
       "    <tr>\n",
       "      <th>0</th>\n",
       "      <td>STARL-USDT</td>\n",
       "      <td>606990</td>\n",
       "      <td>SELL</td>\n",
       "      <td>153844.0</td>\n",
       "      <td>0.00004</td>\n",
       "      <td>1635699598106</td>\n",
       "    </tr>\n",
       "    <tr>\n",
       "      <th>1</th>\n",
       "      <td>STARL-USDT</td>\n",
       "      <td>607186</td>\n",
       "      <td>SELL</td>\n",
       "      <td>100679.0</td>\n",
       "      <td>0.00004</td>\n",
       "      <td>1635699701105</td>\n",
       "    </tr>\n",
       "    <tr>\n",
       "      <th>2</th>\n",
       "      <td>STARL-USDT</td>\n",
       "      <td>607307</td>\n",
       "      <td>SELL</td>\n",
       "      <td>100679.0</td>\n",
       "      <td>0.00004</td>\n",
       "      <td>1635699727124</td>\n",
       "    </tr>\n",
       "    <tr>\n",
       "      <th>3</th>\n",
       "      <td>STARL-USDT</td>\n",
       "      <td>606876</td>\n",
       "      <td>SELL</td>\n",
       "      <td>1101500.0</td>\n",
       "      <td>0.00004</td>\n",
       "      <td>1635699467265</td>\n",
       "    </tr>\n",
       "    <tr>\n",
       "      <th>4</th>\n",
       "      <td>STARL-USDT</td>\n",
       "      <td>606962</td>\n",
       "      <td>SELL</td>\n",
       "      <td>6782171.0</td>\n",
       "      <td>0.00004</td>\n",
       "      <td>1635699516873</td>\n",
       "    </tr>\n",
       "    <tr>\n",
       "      <th>...</th>\n",
       "      <td>...</td>\n",
       "      <td>...</td>\n",
       "      <td>...</td>\n",
       "      <td>...</td>\n",
       "      <td>...</td>\n",
       "      <td>...</td>\n",
       "    </tr>\n",
       "    <tr>\n",
       "      <th>6385061</th>\n",
       "      <td>STARL-USDT</td>\n",
       "      <td>607958</td>\n",
       "      <td>SELL</td>\n",
       "      <td>7504169.0</td>\n",
       "      <td>0.00004</td>\n",
       "      <td>1635700513570</td>\n",
       "    </tr>\n",
       "    <tr>\n",
       "      <th>6385062</th>\n",
       "      <td>STARL-USDT</td>\n",
       "      <td>602759</td>\n",
       "      <td>SELL</td>\n",
       "      <td>7025621.0</td>\n",
       "      <td>0.00004</td>\n",
       "      <td>1635696344823</td>\n",
       "    </tr>\n",
       "    <tr>\n",
       "      <th>6385063</th>\n",
       "      <td>STARL-USDT</td>\n",
       "      <td>604305</td>\n",
       "      <td>SELL</td>\n",
       "      <td>100679.0</td>\n",
       "      <td>0.00004</td>\n",
       "      <td>1635697469874</td>\n",
       "    </tr>\n",
       "    <tr>\n",
       "      <th>6385064</th>\n",
       "      <td>STARL-USDT</td>\n",
       "      <td>606002</td>\n",
       "      <td>SELL</td>\n",
       "      <td>3660614.0</td>\n",
       "      <td>0.00004</td>\n",
       "      <td>1635699047274</td>\n",
       "    </tr>\n",
       "    <tr>\n",
       "      <th>6385065</th>\n",
       "      <td>STARL-USDT</td>\n",
       "      <td>606869</td>\n",
       "      <td>SELL</td>\n",
       "      <td>100679.0</td>\n",
       "      <td>0.00004</td>\n",
       "      <td>1635699466377</td>\n",
       "    </tr>\n",
       "  </tbody>\n",
       "</table>\n",
       "<p>6385066 rows × 6 columns</p>\n",
       "</div>"
      ],
      "text/plain": [
       "                  0       1     2          3        4              5\n",
       "0        STARL-USDT  606990  SELL   153844.0  0.00004  1635699598106\n",
       "1        STARL-USDT  607186  SELL   100679.0  0.00004  1635699701105\n",
       "2        STARL-USDT  607307  SELL   100679.0  0.00004  1635699727124\n",
       "3        STARL-USDT  606876  SELL  1101500.0  0.00004  1635699467265\n",
       "4        STARL-USDT  606962  SELL  6782171.0  0.00004  1635699516873\n",
       "...             ...     ...   ...        ...      ...            ...\n",
       "6385061  STARL-USDT  607958  SELL  7504169.0  0.00004  1635700513570\n",
       "6385062  STARL-USDT  602759  SELL  7025621.0  0.00004  1635696344823\n",
       "6385063  STARL-USDT  604305  SELL   100679.0  0.00004  1635697469874\n",
       "6385064  STARL-USDT  606002  SELL  3660614.0  0.00004  1635699047274\n",
       "6385065  STARL-USDT  606869  SELL   100679.0  0.00004  1635699466377\n",
       "\n",
       "[6385066 rows x 6 columns]"
      ]
     },
     "execution_count": 51,
     "metadata": {},
     "output_type": "execute_result"
    },
    {
     "name": "stdout",
     "output_type": "stream",
     "text": [
      "time: 9.53 s (started: 2023-12-03 20:20:49 +03:00)\n"
     ]
    },
    {
     "data": {
      "application/javascript": [
       "\n",
       "            setTimeout(function() {\n",
       "                var nbb_cell_id = 51;\n",
       "                var nbb_unformatted_code = \"df = pd.read_csv(join(datapath, \\\"allspot-aggtrades-2021-11-01.zip\\\"), encoding=\\\"GBK\\\", header=None)\\ndf\";\n",
       "                var nbb_formatted_code = \"df = pd.read_csv(join(datapath, \\\"allspot-aggtrades-2021-11-01.zip\\\"), encoding=\\\"GBK\\\", header=None)\\ndf\";\n",
       "                var nbb_cells = Jupyter.notebook.get_cells();\n",
       "                for (var i = 0; i < nbb_cells.length; ++i) {\n",
       "                    if (nbb_cells[i].input_prompt_number == nbb_cell_id) {\n",
       "                        if (nbb_cells[i].get_text() == nbb_unformatted_code) {\n",
       "                             nbb_cells[i].set_text(nbb_formatted_code);\n",
       "                        }\n",
       "                        break;\n",
       "                    }\n",
       "                }\n",
       "            }, 500);\n",
       "            "
      ],
      "text/plain": [
       "<IPython.core.display.Javascript object>"
      ]
     },
     "metadata": {},
     "output_type": "display_data"
    }
   ],
   "source": [
    "df = pd.read_csv(join(datapath, \"allspot-aggtrades-2021-11-01.zip\"), encoding=\"GBK\", header=None)\n",
    "df"
   ]
  },
  {
   "cell_type": "code",
   "execution_count": 62,
   "id": "d9d85d23",
   "metadata": {
    "hidden": true
   },
   "outputs": [
    {
     "data": {
      "text/plain": [
       "500"
      ]
     },
     "execution_count": 62,
     "metadata": {},
     "output_type": "execute_result"
    },
    {
     "name": "stdout",
     "output_type": "stream",
     "text": [
      "time: 7.02 s (started: 2023-12-03 20:31:40 +03:00)\n"
     ]
    },
    {
     "data": {
      "application/javascript": [
       "\n",
       "            setTimeout(function() {\n",
       "                var nbb_cell_id = 62;\n",
       "                var nbb_unformatted_code = \"old_coins = set(read_okx_daily_trades(\\\"allspot-aggtrades-2021-10-01.zip\\\").ticker.unique())\\nlen(old_coins)\";\n",
       "                var nbb_formatted_code = \"old_coins = set(read_okx_daily_trades(\\\"allspot-aggtrades-2021-10-01.zip\\\").ticker.unique())\\nlen(old_coins)\";\n",
       "                var nbb_cells = Jupyter.notebook.get_cells();\n",
       "                for (var i = 0; i < nbb_cells.length; ++i) {\n",
       "                    if (nbb_cells[i].input_prompt_number == nbb_cell_id) {\n",
       "                        if (nbb_cells[i].get_text() == nbb_unformatted_code) {\n",
       "                             nbb_cells[i].set_text(nbb_formatted_code);\n",
       "                        }\n",
       "                        break;\n",
       "                    }\n",
       "                }\n",
       "            }, 500);\n",
       "            "
      ],
      "text/plain": [
       "<IPython.core.display.Javascript object>"
      ]
     },
     "metadata": {},
     "output_type": "display_data"
    }
   ],
   "source": [
    "old_coins = set(read_okx_daily_trades(\"allspot-aggtrades-2021-10-01.zip\").ticker.unique())\n",
    "len(old_coins)"
   ]
  },
  {
   "cell_type": "code",
   "execution_count": 64,
   "id": "f564a7d1",
   "metadata": {
    "hidden": true
   },
   "outputs": [
    {
     "data": {
      "text/plain": [
       "242"
      ]
     },
     "execution_count": 64,
     "metadata": {},
     "output_type": "execute_result"
    },
    {
     "name": "stdout",
     "output_type": "stream",
     "text": [
      "time: 0 ns (started: 2023-12-03 20:31:59 +03:00)\n"
     ]
    },
    {
     "data": {
      "application/javascript": [
       "\n",
       "            setTimeout(function() {\n",
       "                var nbb_cell_id = 64;\n",
       "                var nbb_unformatted_code = \"len(old_coins - new_coins)\";\n",
       "                var nbb_formatted_code = \"len(old_coins - new_coins)\";\n",
       "                var nbb_cells = Jupyter.notebook.get_cells();\n",
       "                for (var i = 0; i < nbb_cells.length; ++i) {\n",
       "                    if (nbb_cells[i].input_prompt_number == nbb_cell_id) {\n",
       "                        if (nbb_cells[i].get_text() == nbb_unformatted_code) {\n",
       "                             nbb_cells[i].set_text(nbb_formatted_code);\n",
       "                        }\n",
       "                        break;\n",
       "                    }\n",
       "                }\n",
       "            }, 500);\n",
       "            "
      ],
      "text/plain": [
       "<IPython.core.display.Javascript object>"
      ]
     },
     "metadata": {},
     "output_type": "display_data"
    }
   ],
   "source": [
    "len(old_coins - new_coins)"
   ]
  },
  {
   "cell_type": "code",
   "execution_count": 65,
   "id": "a6997b92",
   "metadata": {
    "hidden": true
   },
   "outputs": [
    {
     "data": {
      "text/plain": [
       "226"
      ]
     },
     "execution_count": 65,
     "metadata": {},
     "output_type": "execute_result"
    },
    {
     "name": "stdout",
     "output_type": "stream",
     "text": [
      "time: 0 ns (started: 2023-12-03 20:32:21 +03:00)\n"
     ]
    },
    {
     "data": {
      "application/javascript": [
       "\n",
       "            setTimeout(function() {\n",
       "                var nbb_cell_id = 65;\n",
       "                var nbb_unformatted_code = \"len(new_coins-old_coins )\";\n",
       "                var nbb_formatted_code = \"len(new_coins - old_coins)\";\n",
       "                var nbb_cells = Jupyter.notebook.get_cells();\n",
       "                for (var i = 0; i < nbb_cells.length; ++i) {\n",
       "                    if (nbb_cells[i].input_prompt_number == nbb_cell_id) {\n",
       "                        if (nbb_cells[i].get_text() == nbb_unformatted_code) {\n",
       "                             nbb_cells[i].set_text(nbb_formatted_code);\n",
       "                        }\n",
       "                        break;\n",
       "                    }\n",
       "                }\n",
       "            }, 500);\n",
       "            "
      ],
      "text/plain": [
       "<IPython.core.display.Javascript object>"
      ]
     },
     "metadata": {},
     "output_type": "display_data"
    }
   ],
   "source": [
    "len(new_coins - old_coins)"
   ]
  },
  {
   "cell_type": "code",
   "execution_count": 66,
   "id": "fe9974de",
   "metadata": {
    "hidden": true
   },
   "outputs": [
    {
     "data": {
      "text/plain": [
       "258"
      ]
     },
     "execution_count": 66,
     "metadata": {},
     "output_type": "execute_result"
    },
    {
     "name": "stdout",
     "output_type": "stream",
     "text": [
      "time: 0 ns (started: 2023-12-03 20:33:40 +03:00)\n"
     ]
    },
    {
     "data": {
      "application/javascript": [
       "\n",
       "            setTimeout(function() {\n",
       "                var nbb_cell_id = 66;\n",
       "                var nbb_unformatted_code = \"len(old_coins.intersection(new_coins))\";\n",
       "                var nbb_formatted_code = \"len(old_coins.intersection(new_coins))\";\n",
       "                var nbb_cells = Jupyter.notebook.get_cells();\n",
       "                for (var i = 0; i < nbb_cells.length; ++i) {\n",
       "                    if (nbb_cells[i].input_prompt_number == nbb_cell_id) {\n",
       "                        if (nbb_cells[i].get_text() == nbb_unformatted_code) {\n",
       "                             nbb_cells[i].set_text(nbb_formatted_code);\n",
       "                        }\n",
       "                        break;\n",
       "                    }\n",
       "                }\n",
       "            }, 500);\n",
       "            "
      ],
      "text/plain": [
       "<IPython.core.display.Javascript object>"
      ]
     },
     "metadata": {},
     "output_type": "display_data"
    }
   ],
   "source": [
    "len(old_coins.intersection(new_coins))"
   ]
  },
  {
   "cell_type": "markdown",
   "id": "48311cd9",
   "metadata": {},
   "source": [
    "# Features"
   ]
  },
  {
   "cell_type": "markdown",
   "id": "1b4b3402",
   "metadata": {
    "heading_collapsed": true
   },
   "source": [
    "## daily simple stats as features."
   ]
  },
  {
   "cell_type": "code",
   "execution_count": 199,
   "id": "ed09a282",
   "metadata": {
    "hidden": true
   },
   "outputs": [
    {
     "name": "stdout",
     "output_type": "stream",
     "text": [
      "time: 437 ms (started: 2023-12-04 13:24:31 +03:00)\n"
     ]
    },
    {
     "data": {
      "application/javascript": [
       "\n",
       "            setTimeout(function() {\n",
       "                var nbb_cell_id = 199;\n",
       "                var nbb_unformatted_code = \"vol_conversion_rates = get_conversion_rates(df)\\ndf[\\\"unified_volume\\\"] = df[\\\"ticker\\\"].map(vol_conversion_rates) * df[\\\"volume\\\"]\";\n",
       "                var nbb_formatted_code = \"vol_conversion_rates = get_conversion_rates(df)\\ndf[\\\"unified_volume\\\"] = df[\\\"ticker\\\"].map(vol_conversion_rates) * df[\\\"volume\\\"]\";\n",
       "                var nbb_cells = Jupyter.notebook.get_cells();\n",
       "                for (var i = 0; i < nbb_cells.length; ++i) {\n",
       "                    if (nbb_cells[i].input_prompt_number == nbb_cell_id) {\n",
       "                        if (nbb_cells[i].get_text() == nbb_unformatted_code) {\n",
       "                             nbb_cells[i].set_text(nbb_formatted_code);\n",
       "                        }\n",
       "                        break;\n",
       "                    }\n",
       "                }\n",
       "            }, 500);\n",
       "            "
      ],
      "text/plain": [
       "<IPython.core.display.Javascript object>"
      ]
     },
     "metadata": {},
     "output_type": "display_data"
    }
   ],
   "source": [
    "vol_conversion_rates = get_conversion_rates(df)\n",
    "df[\"unified_volume\"] = df[\"ticker\"].map(vol_conversion_rates) * df[\"volume\"]"
   ]
  },
  {
   "cell_type": "code",
   "execution_count": 200,
   "id": "b2a39407",
   "metadata": {
    "hidden": true
   },
   "outputs": [
    {
     "data": {
      "text/plain": [
       "ticker                              ETH-USDT\n",
       "tradeid                            318647062\n",
       "side                                       1\n",
       "volume                            1448.93408\n",
       "price                                 1872.0\n",
       "ts                2023-11-07 10:09:16.800000\n",
       "unified_volume                      78.52165\n",
       "Name: 832392, dtype: object"
      ]
     },
     "execution_count": 200,
     "metadata": {},
     "output_type": "execute_result"
    },
    {
     "name": "stdout",
     "output_type": "stream",
     "text": [
      "time: 16 ms (started: 2023-12-04 13:24:34 +03:00)\n"
     ]
    },
    {
     "data": {
      "application/javascript": [
       "\n",
       "            setTimeout(function() {\n",
       "                var nbb_cell_id = 200;\n",
       "                var nbb_unformatted_code = \"df.iloc[df.unified_volume.argmax()]\";\n",
       "                var nbb_formatted_code = \"df.iloc[df.unified_volume.argmax()]\";\n",
       "                var nbb_cells = Jupyter.notebook.get_cells();\n",
       "                for (var i = 0; i < nbb_cells.length; ++i) {\n",
       "                    if (nbb_cells[i].input_prompt_number == nbb_cell_id) {\n",
       "                        if (nbb_cells[i].get_text() == nbb_unformatted_code) {\n",
       "                             nbb_cells[i].set_text(nbb_formatted_code);\n",
       "                        }\n",
       "                        break;\n",
       "                    }\n",
       "                }\n",
       "            }, 500);\n",
       "            "
      ],
      "text/plain": [
       "<IPython.core.display.Javascript object>"
      ]
     },
     "metadata": {},
     "output_type": "display_data"
    }
   ],
   "source": [
    "df.iloc[df.unified_volume.argmax()]"
   ]
  },
  {
   "cell_type": "code",
   "execution_count": 251,
   "id": "b674ccf3",
   "metadata": {
    "hidden": true
   },
   "outputs": [
    {
     "name": "stdout",
     "output_type": "stream",
     "text": [
      "time: 0 ns (started: 2023-12-04 18:29:50 +03:00)\n"
     ]
    },
    {
     "data": {
      "application/javascript": [
       "\n",
       "            setTimeout(function() {\n",
       "                var nbb_cell_id = 251;\n",
       "                var nbb_unformatted_code = \"groups = []\\nfeature_names = (\\n    \\\"ticker close_to_open mean_trade_direction ntrades market_volume_share market_mean_trade_direction\\\".split()\\n    + [\\\"vol_\\\" + el for el in get_simple_stats_names()]\\n    + [\\\"price_\\\" + el for el in get_simple_stats_names()]\\n)\";\n",
       "                var nbb_formatted_code = \"groups = []\\nfeature_names = (\\n    \\\"ticker close_to_open mean_trade_direction ntrades market_volume_share market_mean_trade_direction\\\".split()\\n    + [\\\"vol_\\\" + el for el in get_simple_stats_names()]\\n    + [\\\"price_\\\" + el for el in get_simple_stats_names()]\\n)\";\n",
       "                var nbb_cells = Jupyter.notebook.get_cells();\n",
       "                for (var i = 0; i < nbb_cells.length; ++i) {\n",
       "                    if (nbb_cells[i].input_prompt_number == nbb_cell_id) {\n",
       "                        if (nbb_cells[i].get_text() == nbb_unformatted_code) {\n",
       "                             nbb_cells[i].set_text(nbb_formatted_code);\n",
       "                        }\n",
       "                        break;\n",
       "                    }\n",
       "                }\n",
       "            }, 500);\n",
       "            "
      ],
      "text/plain": [
       "<IPython.core.display.Javascript object>"
      ]
     },
     "metadata": {},
     "output_type": "display_data"
    }
   ],
   "source": [
    "groups = []"
   ]
  },
  {
   "cell_type": "code",
   "execution_count": 250,
   "id": "5a414306",
   "metadata": {
    "hidden": true
   },
   "outputs": [
    {
     "data": {
      "application/vnd.jupyter.widget-view+json": {
       "model_id": "59bff3a9ddaa4d3cb82e879d821c12a6",
       "version_major": 2,
       "version_minor": 0
      },
      "text/plain": [
       "  0%|          | 0/484 [00:00<?, ?it/s]"
      ]
     },
     "metadata": {},
     "output_type": "display_data"
    },
    {
     "name": "stderr",
     "output_type": "stream",
     "text": [
      "<ipython-input-249-91f99dfa2590>:34: RuntimeWarning: divide by zero encountered in log\n",
      "  std_val = np.log(std_val / first_price)\n"
     ]
    },
    {
     "data": {
      "text/html": [
       "<div>\n",
       "<style scoped>\n",
       "    .dataframe tbody tr th:only-of-type {\n",
       "        vertical-align: middle;\n",
       "    }\n",
       "\n",
       "    .dataframe tbody tr th {\n",
       "        vertical-align: top;\n",
       "    }\n",
       "\n",
       "    .dataframe thead th {\n",
       "        text-align: right;\n",
       "    }\n",
       "</style>\n",
       "<table border=\"1\" class=\"dataframe\">\n",
       "  <thead>\n",
       "    <tr style=\"text-align: right;\">\n",
       "      <th></th>\n",
       "      <th>ticker</th>\n",
       "      <th>close_to_open</th>\n",
       "      <th>mean_trade_direction</th>\n",
       "      <th>ntrades</th>\n",
       "      <th>market_volume_share</th>\n",
       "      <th>vol_min</th>\n",
       "      <th>vol_max</th>\n",
       "      <th>vol_argmin</th>\n",
       "      <th>vol_argmax</th>\n",
       "      <th>vol_mean</th>\n",
       "      <th>vol_std</th>\n",
       "      <th>price_min</th>\n",
       "      <th>price_max</th>\n",
       "      <th>price_argmin</th>\n",
       "      <th>price_argmax</th>\n",
       "      <th>price_mean</th>\n",
       "      <th>price_std</th>\n",
       "      <th>close_to_open_rank</th>\n",
       "      <th>max_to_open_rank</th>\n",
       "      <th>market_volume_share_rank</th>\n",
       "      <th>mean_trade_direction_rank</th>\n",
       "    </tr>\n",
       "  </thead>\n",
       "  <tbody>\n",
       "    <tr>\n",
       "      <th>474</th>\n",
       "      <td>SKEB-USDT</td>\n",
       "      <td>-0.00480</td>\n",
       "      <td>0.08333</td>\n",
       "      <td>24</td>\n",
       "      <td>1.78425e-06</td>\n",
       "      <td>2.40552e-05</td>\n",
       "      <td>2.77891e-02</td>\n",
       "      <td>0.25000</td>\n",
       "      <td>0.91667</td>\n",
       "      <td>3.58443e-03</td>\n",
       "      <td>8.33214e-03</td>\n",
       "      <td>-0.01386</td>\n",
       "      <td>0.00358</td>\n",
       "      <td>0.91667</td>\n",
       "      <td>0.20833</td>\n",
       "      <td>-0.00550</td>\n",
       "      <td>-5.31224</td>\n",
       "      <td>0.76299</td>\n",
       "      <td>0.09979</td>\n",
       "      <td>0.02703</td>\n",
       "      <td>0.91476</td>\n",
       "    </tr>\n",
       "    <tr>\n",
       "      <th>455</th>\n",
       "      <td>GMX-USDC</td>\n",
       "      <td>-0.02972</td>\n",
       "      <td>-0.22581</td>\n",
       "      <td>31</td>\n",
       "      <td>1.77936e-06</td>\n",
       "      <td>1.40850e-04</td>\n",
       "      <td>2.28024e-02</td>\n",
       "      <td>0.90323</td>\n",
       "      <td>0.41935</td>\n",
       "      <td>2.76744e-03</td>\n",
       "      <td>4.42996e-03</td>\n",
       "      <td>-0.02972</td>\n",
       "      <td>0.01639</td>\n",
       "      <td>0.96774</td>\n",
       "      <td>0.22581</td>\n",
       "      <td>-0.00455</td>\n",
       "      <td>-4.53290</td>\n",
       "      <td>0.39501</td>\n",
       "      <td>0.33056</td>\n",
       "      <td>0.02495</td>\n",
       "      <td>0.04574</td>\n",
       "    </tr>\n",
       "    <tr>\n",
       "      <th>170</th>\n",
       "      <td>BTC-DAI</td>\n",
       "      <td>-0.01035</td>\n",
       "      <td>0.06250</td>\n",
       "      <td>32</td>\n",
       "      <td>9.08465e-05</td>\n",
       "      <td>3.00000e-08</td>\n",
       "      <td>6.38139e-01</td>\n",
       "      <td>0.28125</td>\n",
       "      <td>0.06250</td>\n",
       "      <td>1.36878e-01</td>\n",
       "      <td>1.47819e-01</td>\n",
       "      <td>-0.01501</td>\n",
       "      <td>0.00052</td>\n",
       "      <td>0.81250</td>\n",
       "      <td>0.15625</td>\n",
       "      <td>-0.00624</td>\n",
       "      <td>-5.35381</td>\n",
       "      <td>0.70062</td>\n",
       "      <td>0.03742</td>\n",
       "      <td>0.45738</td>\n",
       "      <td>0.89605</td>\n",
       "    </tr>\n",
       "    <tr>\n",
       "      <th>476</th>\n",
       "      <td>BSB-RVN</td>\n",
       "      <td>0.00000</td>\n",
       "      <td>-0.05882</td>\n",
       "      <td>34</td>\n",
       "      <td>1.09757e-09</td>\n",
       "      <td>5.58301e-07</td>\n",
       "      <td>5.63861e-06</td>\n",
       "      <td>0.82353</td>\n",
       "      <td>0.50000</td>\n",
       "      <td>1.55644e-06</td>\n",
       "      <td>8.73584e-07</td>\n",
       "      <td>0.00000</td>\n",
       "      <td>0.04879</td>\n",
       "      <td>0.00000</td>\n",
       "      <td>0.05882</td>\n",
       "      <td>0.02326</td>\n",
       "      <td>-3.69061</td>\n",
       "      <td>0.80249</td>\n",
       "      <td>0.74220</td>\n",
       "      <td>0.00208</td>\n",
       "      <td>0.32536</td>\n",
       "    </tr>\n",
       "    <tr>\n",
       "      <th>477</th>\n",
       "      <td>WBTC-BTC</td>\n",
       "      <td>0.00010</td>\n",
       "      <td>0.47368</td>\n",
       "      <td>38</td>\n",
       "      <td>5.68799e-05</td>\n",
       "      <td>9.99900e-05</td>\n",
       "      <td>2.19728e+00</td>\n",
       "      <td>0.73684</td>\n",
       "      <td>0.10526</td>\n",
       "      <td>7.21691e-02</td>\n",
       "      <td>3.49990e-01</td>\n",
       "      <td>-0.00070</td>\n",
       "      <td>0.00010</td>\n",
       "      <td>0.57895</td>\n",
       "      <td>0.13158</td>\n",
       "      <td>-0.00011</td>\n",
       "      <td>-8.37102</td>\n",
       "      <td>0.80873</td>\n",
       "      <td>0.03119</td>\n",
       "      <td>0.37630</td>\n",
       "      <td>0.99376</td>\n",
       "    </tr>\n",
       "    <tr>\n",
       "      <th>...</th>\n",
       "      <td>...</td>\n",
       "      <td>...</td>\n",
       "      <td>...</td>\n",
       "      <td>...</td>\n",
       "      <td>...</td>\n",
       "      <td>...</td>\n",
       "      <td>...</td>\n",
       "      <td>...</td>\n",
       "      <td>...</td>\n",
       "      <td>...</td>\n",
       "      <td>...</td>\n",
       "      <td>...</td>\n",
       "      <td>...</td>\n",
       "      <td>...</td>\n",
       "      <td>...</td>\n",
       "      <td>...</td>\n",
       "      <td>...</td>\n",
       "      <td>...</td>\n",
       "      <td>...</td>\n",
       "      <td>...</td>\n",
       "      <td>...</td>\n",
       "    </tr>\n",
       "    <tr>\n",
       "      <th>132</th>\n",
       "      <td>SOL-USDT</td>\n",
       "      <td>0.02380</td>\n",
       "      <td>-0.04249</td>\n",
       "      <td>84344</td>\n",
       "      <td>3.88136e-02</td>\n",
       "      <td>1.14692e-09</td>\n",
       "      <td>5.66480e+01</td>\n",
       "      <td>0.11041</td>\n",
       "      <td>0.02375</td>\n",
       "      <td>2.21874e-02</td>\n",
       "      <td>2.40041e-01</td>\n",
       "      <td>-0.00874</td>\n",
       "      <td>0.04970</td>\n",
       "      <td>0.01573</td>\n",
       "      <td>0.29291</td>\n",
       "      <td>0.02376</td>\n",
       "      <td>-4.25602</td>\n",
       "      <td>0.91268</td>\n",
       "      <td>0.75052</td>\n",
       "      <td>0.99168</td>\n",
       "      <td>0.43659</td>\n",
       "    </tr>\n",
       "    <tr>\n",
       "      <th>73</th>\n",
       "      <td>ETH-USDT</td>\n",
       "      <td>-0.01994</td>\n",
       "      <td>-0.07597</td>\n",
       "      <td>86521</td>\n",
       "      <td>1.42650e-01</td>\n",
       "      <td>5.41927e-08</td>\n",
       "      <td>7.85217e+01</td>\n",
       "      <td>0.26941</td>\n",
       "      <td>0.65939</td>\n",
       "      <td>7.94926e-02</td>\n",
       "      <td>5.39366e-01</td>\n",
       "      <td>-0.02292</td>\n",
       "      <td>0.00339</td>\n",
       "      <td>0.96562</td>\n",
       "      <td>0.22454</td>\n",
       "      <td>-0.00848</td>\n",
       "      <td>-5.15710</td>\n",
       "      <td>0.56965</td>\n",
       "      <td>0.09771</td>\n",
       "      <td>0.99792</td>\n",
       "      <td>0.26819</td>\n",
       "    </tr>\n",
       "    <tr>\n",
       "      <th>94</th>\n",
       "      <td>BTC-USDT</td>\n",
       "      <td>-0.01021</td>\n",
       "      <td>-0.08365</td>\n",
       "      <td>89730</td>\n",
       "      <td>1.53029e-01</td>\n",
       "      <td>2.60000e-07</td>\n",
       "      <td>7.07573e+01</td>\n",
       "      <td>0.96124</td>\n",
       "      <td>0.52033</td>\n",
       "      <td>8.22268e-02</td>\n",
       "      <td>4.59713e-01</td>\n",
       "      <td>-0.01606</td>\n",
       "      <td>0.00198</td>\n",
       "      <td>0.77087</td>\n",
       "      <td>0.19170</td>\n",
       "      <td>-0.00695</td>\n",
       "      <td>-5.54642</td>\n",
       "      <td>0.70478</td>\n",
       "      <td>0.07277</td>\n",
       "      <td>1.00000</td>\n",
       "      <td>0.23493</td>\n",
       "    </tr>\n",
       "    <tr>\n",
       "      <th>123</th>\n",
       "      <td>ORDI-USDT</td>\n",
       "      <td>0.33420</td>\n",
       "      <td>-0.00712</td>\n",
       "      <td>107538</td>\n",
       "      <td>5.31468e-02</td>\n",
       "      <td>2.06670e-08</td>\n",
       "      <td>1.52723e+01</td>\n",
       "      <td>0.03442</td>\n",
       "      <td>0.19647</td>\n",
       "      <td>2.38282e-02</td>\n",
       "      <td>1.18427e-01</td>\n",
       "      <td>-0.03509</td>\n",
       "      <td>0.50307</td>\n",
       "      <td>0.02505</td>\n",
       "      <td>0.37059</td>\n",
       "      <td>0.33144</td>\n",
       "      <td>-1.72571</td>\n",
       "      <td>0.99792</td>\n",
       "      <td>1.00000</td>\n",
       "      <td>0.99376</td>\n",
       "      <td>0.67568</td>\n",
       "    </tr>\n",
       "    <tr>\n",
       "      <th>14</th>\n",
       "      <td>XRP-USDT</td>\n",
       "      <td>-0.06555</td>\n",
       "      <td>-0.08412</td>\n",
       "      <td>143643</td>\n",
       "      <td>9.40184e-02</td>\n",
       "      <td>2.04456e-11</td>\n",
       "      <td>1.15811e+01</td>\n",
       "      <td>0.67011</td>\n",
       "      <td>0.40274</td>\n",
       "      <td>3.15576e-02</td>\n",
       "      <td>9.31248e-02</td>\n",
       "      <td>-0.10140</td>\n",
       "      <td>0.01026</td>\n",
       "      <td>0.29539</td>\n",
       "      <td>0.18373</td>\n",
       "      <td>-0.03644</td>\n",
       "      <td>-3.88822</td>\n",
       "      <td>0.06237</td>\n",
       "      <td>0.19958</td>\n",
       "      <td>0.99584</td>\n",
       "      <td>0.23077</td>\n",
       "    </tr>\n",
       "  </tbody>\n",
       "</table>\n",
       "<p>481 rows × 21 columns</p>\n",
       "</div>"
      ],
      "text/plain": [
       "        ticker  close_to_open  mean_trade_direction  ntrades  \\\n",
       "474  SKEB-USDT       -0.00480               0.08333       24   \n",
       "455   GMX-USDC       -0.02972              -0.22581       31   \n",
       "170    BTC-DAI       -0.01035               0.06250       32   \n",
       "476    BSB-RVN        0.00000              -0.05882       34   \n",
       "477   WBTC-BTC        0.00010               0.47368       38   \n",
       "..         ...            ...                   ...      ...   \n",
       "132   SOL-USDT        0.02380              -0.04249    84344   \n",
       "73    ETH-USDT       -0.01994              -0.07597    86521   \n",
       "94    BTC-USDT       -0.01021              -0.08365    89730   \n",
       "123  ORDI-USDT        0.33420              -0.00712   107538   \n",
       "14    XRP-USDT       -0.06555              -0.08412   143643   \n",
       "\n",
       "     market_volume_share      vol_min      vol_max  vol_argmin  vol_argmax  \\\n",
       "474          1.78425e-06  2.40552e-05  2.77891e-02     0.25000     0.91667   \n",
       "455          1.77936e-06  1.40850e-04  2.28024e-02     0.90323     0.41935   \n",
       "170          9.08465e-05  3.00000e-08  6.38139e-01     0.28125     0.06250   \n",
       "476          1.09757e-09  5.58301e-07  5.63861e-06     0.82353     0.50000   \n",
       "477          5.68799e-05  9.99900e-05  2.19728e+00     0.73684     0.10526   \n",
       "..                   ...          ...          ...         ...         ...   \n",
       "132          3.88136e-02  1.14692e-09  5.66480e+01     0.11041     0.02375   \n",
       "73           1.42650e-01  5.41927e-08  7.85217e+01     0.26941     0.65939   \n",
       "94           1.53029e-01  2.60000e-07  7.07573e+01     0.96124     0.52033   \n",
       "123          5.31468e-02  2.06670e-08  1.52723e+01     0.03442     0.19647   \n",
       "14           9.40184e-02  2.04456e-11  1.15811e+01     0.67011     0.40274   \n",
       "\n",
       "        vol_mean      vol_std  price_min  price_max  price_argmin  \\\n",
       "474  3.58443e-03  8.33214e-03   -0.01386    0.00358       0.91667   \n",
       "455  2.76744e-03  4.42996e-03   -0.02972    0.01639       0.96774   \n",
       "170  1.36878e-01  1.47819e-01   -0.01501    0.00052       0.81250   \n",
       "476  1.55644e-06  8.73584e-07    0.00000    0.04879       0.00000   \n",
       "477  7.21691e-02  3.49990e-01   -0.00070    0.00010       0.57895   \n",
       "..           ...          ...        ...        ...           ...   \n",
       "132  2.21874e-02  2.40041e-01   -0.00874    0.04970       0.01573   \n",
       "73   7.94926e-02  5.39366e-01   -0.02292    0.00339       0.96562   \n",
       "94   8.22268e-02  4.59713e-01   -0.01606    0.00198       0.77087   \n",
       "123  2.38282e-02  1.18427e-01   -0.03509    0.50307       0.02505   \n",
       "14   3.15576e-02  9.31248e-02   -0.10140    0.01026       0.29539   \n",
       "\n",
       "     price_argmax  price_mean  price_std  close_to_open_rank  \\\n",
       "474       0.20833    -0.00550   -5.31224             0.76299   \n",
       "455       0.22581    -0.00455   -4.53290             0.39501   \n",
       "170       0.15625    -0.00624   -5.35381             0.70062   \n",
       "476       0.05882     0.02326   -3.69061             0.80249   \n",
       "477       0.13158    -0.00011   -8.37102             0.80873   \n",
       "..            ...         ...        ...                 ...   \n",
       "132       0.29291     0.02376   -4.25602             0.91268   \n",
       "73        0.22454    -0.00848   -5.15710             0.56965   \n",
       "94        0.19170    -0.00695   -5.54642             0.70478   \n",
       "123       0.37059     0.33144   -1.72571             0.99792   \n",
       "14        0.18373    -0.03644   -3.88822             0.06237   \n",
       "\n",
       "     max_to_open_rank  market_volume_share_rank  mean_trade_direction_rank  \n",
       "474           0.09979                   0.02703                    0.91476  \n",
       "455           0.33056                   0.02495                    0.04574  \n",
       "170           0.03742                   0.45738                    0.89605  \n",
       "476           0.74220                   0.00208                    0.32536  \n",
       "477           0.03119                   0.37630                    0.99376  \n",
       "..                ...                       ...                        ...  \n",
       "132           0.75052                   0.99168                    0.43659  \n",
       "73            0.09771                   0.99792                    0.26819  \n",
       "94            0.07277                   1.00000                    0.23493  \n",
       "123           1.00000                   0.99376                    0.67568  \n",
       "14            0.19958                   0.99584                    0.23077  \n",
       "\n",
       "[481 rows x 21 columns]"
      ]
     },
     "execution_count": 250,
     "metadata": {},
     "output_type": "execute_result"
    },
    {
     "name": "stdout",
     "output_type": "stream",
     "text": [
      "time: 1min 28s (started: 2023-12-04 18:26:05 +03:00)\n"
     ]
    },
    {
     "data": {
      "application/javascript": [
       "\n",
       "            setTimeout(function() {\n",
       "                var nbb_cell_id = 250;\n",
       "                var nbb_unformatted_code = \"interval_features=create_interval_features(df)\\ninterval_features.sort_values(\\\"ntrades\\\")        \";\n",
       "                var nbb_formatted_code = \"interval_features = create_interval_features(df)\\ninterval_features.sort_values(\\\"ntrades\\\")\";\n",
       "                var nbb_cells = Jupyter.notebook.get_cells();\n",
       "                for (var i = 0; i < nbb_cells.length; ++i) {\n",
       "                    if (nbb_cells[i].input_prompt_number == nbb_cell_id) {\n",
       "                        if (nbb_cells[i].get_text() == nbb_unformatted_code) {\n",
       "                             nbb_cells[i].set_text(nbb_formatted_code);\n",
       "                        }\n",
       "                        break;\n",
       "                    }\n",
       "                }\n",
       "            }, 500);\n",
       "            "
      ],
      "text/plain": [
       "<IPython.core.display.Javascript object>"
      ]
     },
     "metadata": {},
     "output_type": "display_data"
    }
   ],
   "source": [
    "interval_features = create_interval_features(df)\n",
    "interval_features.sort_values(\"ntrades\")"
   ]
  },
  {
   "cell_type": "code",
   "execution_count": 246,
   "id": "ee92d269",
   "metadata": {
    "hidden": true,
    "scrolled": true
   },
   "outputs": [
    {
     "data": {
      "text/plain": [
       "ticker                       KAN-USDT\n",
       "close_to_open                -0.01372\n",
       "mean_trade_direction         -0.85911\n",
       "ntrades                          1306\n",
       "market_volume_share           0.00003\n",
       "vol_min                           0.0\n",
       "vol_max                       0.01775\n",
       "vol_argmin                    0.40812\n",
       "vol_argmax                    0.89893\n",
       "vol_mean                      0.00113\n",
       "vol_std                       0.00083\n",
       "price_min                    -0.03231\n",
       "price_max                         0.0\n",
       "price_argmin                  0.70597\n",
       "price_argmax                      0.0\n",
       "price_mean                   -0.00947\n",
       "price_std                    -5.85273\n",
       "close_to_open_rank            0.65489\n",
       "max_to_open_rank              0.01455\n",
       "market_volume_share_rank      0.24324\n",
       "mean_trade_direction_rank     0.00208\n",
       "Name: 167, dtype: object"
      ]
     },
     "execution_count": 246,
     "metadata": {},
     "output_type": "execute_result"
    },
    {
     "name": "stdout",
     "output_type": "stream",
     "text": [
      "time: 16 ms (started: 2023-12-04 17:53:27 +03:00)\n"
     ]
    },
    {
     "data": {
      "application/javascript": [
       "\n",
       "            setTimeout(function() {\n",
       "                var nbb_cell_id = 246;\n",
       "                var nbb_unformatted_code = \"interval_features.iloc[interval_features.mean_trade_direction.idxmin()]\";\n",
       "                var nbb_formatted_code = \"interval_features.iloc[interval_features.mean_trade_direction.idxmin()]\";\n",
       "                var nbb_cells = Jupyter.notebook.get_cells();\n",
       "                for (var i = 0; i < nbb_cells.length; ++i) {\n",
       "                    if (nbb_cells[i].input_prompt_number == nbb_cell_id) {\n",
       "                        if (nbb_cells[i].get_text() == nbb_unformatted_code) {\n",
       "                             nbb_cells[i].set_text(nbb_formatted_code);\n",
       "                        }\n",
       "                        break;\n",
       "                    }\n",
       "                }\n",
       "            }, 500);\n",
       "            "
      ],
      "text/plain": [
       "<IPython.core.display.Javascript object>"
      ]
     },
     "metadata": {},
     "output_type": "display_data"
    }
   ],
   "source": [
    "interval_features.iloc[interval_features.mean_trade_direction.idxmin()]"
   ]
  },
  {
   "cell_type": "markdown",
   "id": "4496bbc6",
   "metadata": {},
   "source": [
    "## Batch training"
   ]
  },
  {
   "cell_type": "code",
   "execution_count": 4,
   "id": "97a73ab5",
   "metadata": {},
   "outputs": [
    {
     "name": "stderr",
     "output_type": "stream",
     "text": [
      "100%|██████████████████████████████████████████████████████████████████████████████| 805/805 [00:00<00:00, 8473.41it/s]\n"
     ]
    },
    {
     "name": "stdout",
     "output_type": "stream",
     "text": [
      "time: 3.16 s (started: 2023-12-12 09:05:57 +03:00)\n"
     ]
    },
    {
     "data": {
      "application/javascript": [
       "\n",
       "            setTimeout(function() {\n",
       "                var nbb_cell_id = 4;\n",
       "                var nbb_unformatted_code = \"featurized_files = read_feature_files(asset_class=\\\"spot\\\")\";\n",
       "                var nbb_formatted_code = \"featurized_files = read_feature_files(asset_class=\\\"spot\\\")\";\n",
       "                var nbb_cells = Jupyter.notebook.get_cells();\n",
       "                for (var i = 0; i < nbb_cells.length; ++i) {\n",
       "                    if (nbb_cells[i].input_prompt_number == nbb_cell_id) {\n",
       "                        if (nbb_cells[i].get_text() == nbb_unformatted_code) {\n",
       "                             nbb_cells[i].set_text(nbb_formatted_code);\n",
       "                        }\n",
       "                        break;\n",
       "                    }\n",
       "                }\n",
       "            }, 500);\n",
       "            "
      ],
      "text/plain": [
       "<IPython.core.display.Javascript object>"
      ]
     },
     "metadata": {},
     "output_type": "display_data"
    }
   ],
   "source": [
    "featurized_files = read_feature_files(asset_class=\"spot\")"
   ]
  },
  {
   "cell_type": "code",
   "execution_count": null,
   "id": "1aecb76b",
   "metadata": {},
   "outputs": [],
   "source": []
  },
  {
   "cell_type": "code",
   "execution_count": 5,
   "id": "ffc05f2e",
   "metadata": {},
   "outputs": [
    {
     "data": {
      "text/plain": [
       "count    498.00000\n",
       "mean      -0.00036\n",
       "std        0.04143\n",
       "min       -0.30519\n",
       "25%       -0.02326\n",
       "50%       -0.00413\n",
       "75%        0.01428\n",
       "max        0.22661\n",
       "Name: close_to_open, dtype: float64"
      ]
     },
     "execution_count": 5,
     "metadata": {},
     "output_type": "execute_result"
    },
    {
     "name": "stdout",
     "output_type": "stream",
     "text": [
      "time: 16 ms (started: 2023-12-12 09:06:00 +03:00)\n"
     ]
    },
    {
     "data": {
      "application/javascript": [
       "\n",
       "            setTimeout(function() {\n",
       "                var nbb_cell_id = 5;\n",
       "                var nbb_unformatted_code = \"featurized_files[0].close_to_open.describe()\";\n",
       "                var nbb_formatted_code = \"featurized_files[0].close_to_open.describe()\";\n",
       "                var nbb_cells = Jupyter.notebook.get_cells();\n",
       "                for (var i = 0; i < nbb_cells.length; ++i) {\n",
       "                    if (nbb_cells[i].input_prompt_number == nbb_cell_id) {\n",
       "                        if (nbb_cells[i].get_text() == nbb_unformatted_code) {\n",
       "                             nbb_cells[i].set_text(nbb_formatted_code);\n",
       "                        }\n",
       "                        break;\n",
       "                    }\n",
       "                }\n",
       "            }, 500);\n",
       "            "
      ],
      "text/plain": [
       "<IPython.core.display.Javascript object>"
      ]
     },
     "metadata": {},
     "output_type": "display_data"
    }
   ],
   "source": [
    "featurized_files[0].close_to_open.describe()"
   ]
  },
  {
   "cell_type": "code",
   "execution_count": 6,
   "id": "27cc5509",
   "metadata": {},
   "outputs": [
    {
     "data": {
      "text/plain": [
       "796"
      ]
     },
     "execution_count": 6,
     "metadata": {},
     "output_type": "execute_result"
    },
    {
     "name": "stdout",
     "output_type": "stream",
     "text": [
      "time: 0 ns (started: 2023-12-12 09:06:01 +03:00)\n"
     ]
    },
    {
     "data": {
      "application/javascript": [
       "\n",
       "            setTimeout(function() {\n",
       "                var nbb_cell_id = 6;\n",
       "                var nbb_unformatted_code = \"len(featurized_files)\";\n",
       "                var nbb_formatted_code = \"len(featurized_files)\";\n",
       "                var nbb_cells = Jupyter.notebook.get_cells();\n",
       "                for (var i = 0; i < nbb_cells.length; ++i) {\n",
       "                    if (nbb_cells[i].input_prompt_number == nbb_cell_id) {\n",
       "                        if (nbb_cells[i].get_text() == nbb_unformatted_code) {\n",
       "                             nbb_cells[i].set_text(nbb_formatted_code);\n",
       "                        }\n",
       "                        break;\n",
       "                    }\n",
       "                }\n",
       "            }, 500);\n",
       "            "
      ],
      "text/plain": [
       "<IPython.core.display.Javascript object>"
      ]
     },
     "metadata": {},
     "output_type": "display_data"
    }
   ],
   "source": [
    "len(featurized_files)"
   ]
  },
  {
   "cell_type": "code",
   "execution_count": null,
   "id": "c1807282",
   "metadata": {},
   "outputs": [],
   "source": []
  },
  {
   "cell_type": "code",
   "execution_count": 7,
   "id": "57679a83",
   "metadata": {
    "scrolled": false
   },
   "outputs": [
    {
     "name": "stderr",
     "output_type": "stream",
     "text": [
      "model: 0it [00:00, ?it/s]\n",
      "  0%|                                                                                          | 0/796 [00:00<?, ?it/s]\u001b[A\n",
      "  3%|██▋                                                                             | 27/796 [00:00<00:02, 270.00it/s]\u001b[A\n",
      "  7%|█████▍                                                                          | 54/796 [00:00<00:05, 139.93it/s]\u001b[A\n",
      " 10%|███████▉                                                                        | 79/796 [00:00<00:04, 172.28it/s]\u001b[A\n",
      " 13%|██████████▎                                                                    | 104/796 [00:00<00:03, 193.93it/s]\u001b[A\n",
      " 16%|████████████▋                                                                  | 128/796 [00:00<00:03, 205.85it/s]\u001b[A\n",
      " 19%|███████████████▏                                                               | 153/796 [00:00<00:02, 218.33it/s]\u001b[A\n",
      " 22%|█████████████████▊                                                             | 179/796 [00:00<00:02, 228.68it/s]\u001b[A\n",
      " 26%|████████████████████▏                                                          | 204/796 [00:00<00:02, 233.62it/s]\u001b[A\n",
      " 29%|██████████████████████▊                                                        | 230/796 [00:01<00:02, 239.31it/s]\u001b[A\n",
      " 32%|█████████████████████████▌                                                     | 257/796 [00:01<00:02, 245.47it/s]\u001b[A\n",
      " 35%|███████████████████████████▉                                                   | 282/796 [00:01<00:02, 241.82it/s]\u001b[A\n",
      " 39%|██████████████████████████████▍                                                | 307/796 [00:01<00:02, 239.32it/s]\u001b[A\n",
      " 42%|████████████████████████████████▉                                              | 332/796 [00:01<00:01, 236.91it/s]\u001b[A\n",
      " 45%|███████████████████████████████████▎                                           | 356/796 [00:01<00:01, 235.76it/s]\u001b[A\n",
      " 48%|█████████████████████████████████████▋                                         | 380/796 [00:01<00:01, 232.94it/s]\u001b[A\n",
      " 51%|████████████████████████████████████████                                       | 404/796 [00:01<00:01, 232.96it/s]\u001b[A\n",
      " 54%|██████████████████████████████████████████▍                                    | 428/796 [00:01<00:01, 231.64it/s]\u001b[A\n",
      " 57%|████████████████████████████████████████████▊                                  | 452/796 [00:02<00:01, 229.40it/s]\u001b[A\n",
      " 60%|███████████████████████████████████████████████▏                               | 476/796 [00:02<00:01, 231.13it/s]\u001b[A\n",
      " 63%|█████████████████████████████████████████████████▌                             | 500/796 [00:02<00:01, 229.04it/s]\u001b[A\n",
      " 66%|███████████████████████████████████████████████████▉                           | 523/796 [00:02<00:01, 228.65it/s]\u001b[A\n",
      " 69%|██████████████████████████████████████████████████████▏                        | 546/796 [00:02<00:01, 228.38it/s]\u001b[A\n",
      " 72%|████████████████████████████████████████████████████████▌                      | 570/796 [00:02<00:00, 231.11it/s]\u001b[A\n",
      " 75%|██████████████████████████████████████████████████████████▉                    | 594/796 [00:02<00:00, 233.73it/s]\u001b[A\n",
      " 78%|█████████████████████████████████████████████████████████████▎                 | 618/796 [00:02<00:00, 235.59it/s]\u001b[A\n",
      " 81%|███████████████████████████████████████████████████████████████▊               | 643/796 [00:02<00:00, 238.46it/s]\u001b[A\n",
      " 84%|██████████████████████████████████████████████████████████████████▏            | 667/796 [00:02<00:00, 238.91it/s]\u001b[A\n",
      " 87%|████████████████████████████████████████████████████████████████████▌          | 691/796 [00:03<00:00, 239.23it/s]\u001b[A\n",
      " 90%|███████████████████████████████████████████████████████████████████████▏       | 717/796 [00:03<00:00, 243.98it/s]\u001b[A\n",
      " 93%|█████████████████████████████████████████████████████████████████████████▊     | 744/796 [00:03<00:00, 250.23it/s]\u001b[A\n",
      "100%|███████████████████████████████████████████████████████████████████████████████| 796/796 [00:03<00:00, 231.52it/s]\u001b[A\n"
     ]
    },
    {
     "data": {
      "application/vnd.jupyter.widget-view+json": {
       "model_id": "2a55fae43dec4a8fb4c167e6fcba17f9",
       "version_major": 2,
       "version_minor": 0
      },
      "text/plain": [
       "MetricVisualizer(layout=Layout(align_self='stretch', height='500px'))"
      ]
     },
     "metadata": {},
     "output_type": "display_data"
    },
    {
     "name": "stderr",
     "output_type": "stream",
     "text": [
      "Default metric period is 5 because AUC is/are not implemented for GPU\n",
      "model: 1it [01:05, 65.66s/it]\n",
      "  0%|                                                                                          | 0/796 [00:00<?, ?it/s]\u001b[A\n",
      "  4%|███▎                                                                            | 33/796 [00:00<00:02, 326.72it/s]\u001b[A\n",
      "  8%|██████▋                                                                         | 66/796 [00:00<00:02, 310.45it/s]\u001b[A\n",
      " 12%|█████████▊                                                                      | 98/796 [00:00<00:02, 301.36it/s]\u001b[A\n",
      " 16%|████████████▊                                                                  | 129/796 [00:00<00:02, 294.62it/s]\u001b[A\n",
      " 20%|███████████████▊                                                               | 159/796 [00:00<00:02, 296.46it/s]\u001b[A\n",
      " 24%|██████████████████▊                                                            | 189/796 [00:00<00:02, 293.76it/s]\u001b[A\n",
      " 28%|█████████████████████▋                                                         | 219/796 [00:00<00:01, 293.87it/s]\u001b[A\n",
      " 31%|████████████████████████▋                                                      | 249/796 [00:00<00:01, 294.86it/s]\u001b[A\n",
      " 35%|███████████████████████████▋                                                   | 279/796 [00:00<00:01, 288.48it/s]\u001b[A\n",
      " 39%|██████████████████████████████▌                                                | 308/796 [00:01<00:01, 281.37it/s]\u001b[A\n",
      " 42%|█████████████████████████████████▍                                             | 337/796 [00:01<00:01, 278.18it/s]\u001b[A\n",
      " 46%|████████████████████████████████████▏                                          | 365/796 [00:01<00:01, 273.93it/s]\u001b[A\n",
      " 49%|███████████████████████████████████████                                        | 393/796 [00:01<00:01, 269.44it/s]\u001b[A\n",
      " 53%|█████████████████████████████████████████▋                                     | 420/796 [00:01<00:01, 267.28it/s]\u001b[A\n",
      " 56%|████████████████████████████████████████████▎                                  | 447/796 [00:01<00:01, 265.75it/s]\u001b[A\n",
      " 60%|███████████████████████████████████████████████                                | 474/796 [00:01<00:01, 265.44it/s]\u001b[A\n",
      " 63%|█████████████████████████████████████████████████▋                             | 501/796 [00:01<00:01, 260.67it/s]\u001b[A\n",
      " 66%|████████████████████████████████████████████████████▍                          | 528/796 [00:01<00:01, 261.86it/s]\u001b[A\n",
      " 70%|███████████████████████████████████████████████████████                        | 555/796 [00:01<00:00, 261.18it/s]\u001b[A\n",
      " 73%|█████████████████████████████████████████████████████████▊                     | 583/796 [00:02<00:00, 265.12it/s]\u001b[A\n",
      " 77%|████████████████████████████████████████████████████████████▋                  | 611/796 [00:02<00:00, 267.91it/s]\u001b[A\n",
      " 80%|███████████████████████████████████████████████████████████████▍               | 639/796 [00:02<00:00, 269.09it/s]\u001b[A\n",
      " 84%|██████████████████████████████████████████████████████████████████▎            | 668/796 [00:02<00:00, 274.42it/s]\u001b[A\n",
      " 87%|█████████████████████████████████████████████████████████████████████          | 696/796 [00:02<00:00, 276.02it/s]\u001b[A\n",
      " 91%|████████████████████████████████████████████████████████████████████████       | 726/796 [00:02<00:00, 281.46it/s]\u001b[A\n",
      " 95%|███████████████████████████████████████████████████████████████████████████▏   | 757/796 [00:02<00:00, 289.91it/s]\u001b[A\n",
      "100%|███████████████████████████████████████████████████████████████████████████████| 796/796 [00:02<00:00, 280.86it/s]\u001b[A\n"
     ]
    },
    {
     "data": {
      "application/vnd.jupyter.widget-view+json": {
       "model_id": "2aace4720e6d48938d9917db5da354fd",
       "version_major": 2,
       "version_minor": 0
      },
      "text/plain": [
       "MetricVisualizer(layout=Layout(align_self='stretch', height='500px'))"
      ]
     },
     "metadata": {},
     "output_type": "display_data"
    },
    {
     "name": "stderr",
     "output_type": "stream",
     "text": [
      "model: 2it [01:30, 45.36s/it]\n"
     ]
    },
    {
     "data": {
      "text/html": [
       "<div>\n",
       "<style scoped>\n",
       "    .dataframe tbody tr th:only-of-type {\n",
       "        vertical-align: middle;\n",
       "    }\n",
       "\n",
       "    .dataframe tbody tr th {\n",
       "        vertical-align: top;\n",
       "    }\n",
       "\n",
       "    .dataframe thead th {\n",
       "        text-align: right;\n",
       "    }\n",
       "</style>\n",
       "<table border=\"1\" class=\"dataframe\">\n",
       "  <thead>\n",
       "    <tr style=\"text-align: right;\">\n",
       "      <th></th>\n",
       "      <th>target</th>\n",
       "      <th>model</th>\n",
       "      <th>fold</th>\n",
       "      <th>metric</th>\n",
       "    </tr>\n",
       "  </thead>\n",
       "  <tbody>\n",
       "    <tr>\n",
       "      <th>0</th>\n",
       "      <td>close_to_open_rank</td>\n",
       "      <td>CatBoostClassifier</td>\n",
       "      <td>val</td>\n",
       "      <td>0.68818</td>\n",
       "    </tr>\n",
       "    <tr>\n",
       "      <th>1</th>\n",
       "      <td>close_to_open_rank</td>\n",
       "      <td>DummyClassifier_prior</td>\n",
       "      <td>val</td>\n",
       "      <td>0.50000</td>\n",
       "    </tr>\n",
       "    <tr>\n",
       "      <th>2</th>\n",
       "      <td>close_to_open_rank</td>\n",
       "      <td>DummyClassifier_most_frequent</td>\n",
       "      <td>val</td>\n",
       "      <td>0.50000</td>\n",
       "    </tr>\n",
       "    <tr>\n",
       "      <th>3</th>\n",
       "      <td>close_to_open_rank</td>\n",
       "      <td>DummyClassifier_stratified</td>\n",
       "      <td>val</td>\n",
       "      <td>0.49622</td>\n",
       "    </tr>\n",
       "    <tr>\n",
       "      <th>4</th>\n",
       "      <td>close_to_open_rank</td>\n",
       "      <td>DummyClassifier_uniform</td>\n",
       "      <td>val</td>\n",
       "      <td>0.50000</td>\n",
       "    </tr>\n",
       "    <tr>\n",
       "      <th>5</th>\n",
       "      <td>close_to_open_rank</td>\n",
       "      <td>CatBoostClassifier</td>\n",
       "      <td>test</td>\n",
       "      <td>0.57875</td>\n",
       "    </tr>\n",
       "    <tr>\n",
       "      <th>6</th>\n",
       "      <td>close_to_open_rank</td>\n",
       "      <td>DummyClassifier_prior</td>\n",
       "      <td>test</td>\n",
       "      <td>0.50000</td>\n",
       "    </tr>\n",
       "    <tr>\n",
       "      <th>7</th>\n",
       "      <td>close_to_open_rank</td>\n",
       "      <td>DummyClassifier_most_frequent</td>\n",
       "      <td>test</td>\n",
       "      <td>0.50000</td>\n",
       "    </tr>\n",
       "    <tr>\n",
       "      <th>8</th>\n",
       "      <td>close_to_open_rank</td>\n",
       "      <td>DummyClassifier_stratified</td>\n",
       "      <td>test</td>\n",
       "      <td>0.49790</td>\n",
       "    </tr>\n",
       "    <tr>\n",
       "      <th>9</th>\n",
       "      <td>close_to_open_rank</td>\n",
       "      <td>DummyClassifier_uniform</td>\n",
       "      <td>test</td>\n",
       "      <td>0.50000</td>\n",
       "    </tr>\n",
       "    <tr>\n",
       "      <th>10</th>\n",
       "      <td>price_max</td>\n",
       "      <td>CatBoostRegressor</td>\n",
       "      <td>val</td>\n",
       "      <td>0.07039</td>\n",
       "    </tr>\n",
       "    <tr>\n",
       "      <th>11</th>\n",
       "      <td>price_max</td>\n",
       "      <td>DummyRegressor_mean</td>\n",
       "      <td>val</td>\n",
       "      <td>0.07406</td>\n",
       "    </tr>\n",
       "    <tr>\n",
       "      <th>12</th>\n",
       "      <td>price_max</td>\n",
       "      <td>DummyRegressor_median</td>\n",
       "      <td>val</td>\n",
       "      <td>0.08021</td>\n",
       "    </tr>\n",
       "    <tr>\n",
       "      <th>13</th>\n",
       "      <td>price_max</td>\n",
       "      <td>CatBoostRegressor</td>\n",
       "      <td>test</td>\n",
       "      <td>0.07017</td>\n",
       "    </tr>\n",
       "    <tr>\n",
       "      <th>14</th>\n",
       "      <td>price_max</td>\n",
       "      <td>DummyRegressor_mean</td>\n",
       "      <td>test</td>\n",
       "      <td>0.07055</td>\n",
       "    </tr>\n",
       "    <tr>\n",
       "      <th>15</th>\n",
       "      <td>price_max</td>\n",
       "      <td>DummyRegressor_median</td>\n",
       "      <td>test</td>\n",
       "      <td>0.07783</td>\n",
       "    </tr>\n",
       "  </tbody>\n",
       "</table>\n",
       "</div>"
      ],
      "text/plain": [
       "                target                          model  fold   metric\n",
       "0   close_to_open_rank             CatBoostClassifier   val  0.68818\n",
       "1   close_to_open_rank          DummyClassifier_prior   val  0.50000\n",
       "2   close_to_open_rank  DummyClassifier_most_frequent   val  0.50000\n",
       "3   close_to_open_rank     DummyClassifier_stratified   val  0.49622\n",
       "4   close_to_open_rank        DummyClassifier_uniform   val  0.50000\n",
       "5   close_to_open_rank             CatBoostClassifier  test  0.57875\n",
       "6   close_to_open_rank          DummyClassifier_prior  test  0.50000\n",
       "7   close_to_open_rank  DummyClassifier_most_frequent  test  0.50000\n",
       "8   close_to_open_rank     DummyClassifier_stratified  test  0.49790\n",
       "9   close_to_open_rank        DummyClassifier_uniform  test  0.50000\n",
       "10           price_max              CatBoostRegressor   val  0.07039\n",
       "11           price_max            DummyRegressor_mean   val  0.07406\n",
       "12           price_max          DummyRegressor_median   val  0.08021\n",
       "13           price_max              CatBoostRegressor  test  0.07017\n",
       "14           price_max            DummyRegressor_mean  test  0.07055\n",
       "15           price_max          DummyRegressor_median  test  0.07783"
      ]
     },
     "execution_count": 7,
     "metadata": {},
     "output_type": "execute_result"
    },
    {
     "name": "stdout",
     "output_type": "stream",
     "text": [
      "time: 1min 30s (started: 2023-12-12 09:06:03 +03:00)\n"
     ]
    },
    {
     "data": {
      "application/javascript": [
       "\n",
       "            setTimeout(function() {\n",
       "                var nbb_cell_id = 7;\n",
       "                var nbb_unformatted_code = \"perf = train_models(featurized_files)\\nperf\";\n",
       "                var nbb_formatted_code = \"perf = train_models(featurized_files)\\nperf\";\n",
       "                var nbb_cells = Jupyter.notebook.get_cells();\n",
       "                for (var i = 0; i < nbb_cells.length; ++i) {\n",
       "                    if (nbb_cells[i].input_prompt_number == nbb_cell_id) {\n",
       "                        if (nbb_cells[i].get_text() == nbb_unformatted_code) {\n",
       "                             nbb_cells[i].set_text(nbb_formatted_code);\n",
       "                        }\n",
       "                        break;\n",
       "                    }\n",
       "                }\n",
       "            }, 500);\n",
       "            "
      ],
      "text/plain": [
       "<IPython.core.display.Javascript object>"
      ]
     },
     "metadata": {},
     "output_type": "display_data"
    }
   ],
   "source": [
    "perf = train_models(featurized_files)\n",
    "perf"
   ]
  },
  {
   "cell_type": "code",
   "execution_count": 36,
   "id": "36f88dad",
   "metadata": {},
   "outputs": [
    {
     "data": {
      "text/plain": [
       "<matplotlib.legend.Legend at 0x255b381c070>"
      ]
     },
     "execution_count": 36,
     "metadata": {},
     "output_type": "execute_result"
    },
    {
     "data": {
      "image/png": "[encoded data removed]",
      "text/plain": [
       "<Figure size 1080x504 with 1 Axes>"
      ]
     },
     "metadata": {
      "needs_background": "light"
     },
     "output_type": "display_data"
    },
    {
     "name": "stdout",
     "output_type": "stream",
     "text": [
      "time: 313 ms (started: 2023-12-12 07:43:03 +03:00)\n"
     ]
    },
    {
     "data": {
      "application/javascript": [
       "\n",
       "            setTimeout(function() {\n",
       "                var nbb_cell_id = 36;\n",
       "                var nbb_unformatted_code = \"fig = plt.figure(figsize=(15, 7))\\nplt.plot(data_set.get_label(), label=\\\"True\\\")\\nplt.plot(preds, label=\\\"Predicted\\\")\\nplt.legend()\";\n",
       "                var nbb_formatted_code = \"fig = plt.figure(figsize=(15, 7))\\nplt.plot(data_set.get_label(), label=\\\"True\\\")\\nplt.plot(preds, label=\\\"Predicted\\\")\\nplt.legend()\";\n",
       "                var nbb_cells = Jupyter.notebook.get_cells();\n",
       "                for (var i = 0; i < nbb_cells.length; ++i) {\n",
       "                    if (nbb_cells[i].input_prompt_number == nbb_cell_id) {\n",
       "                        if (nbb_cells[i].get_text() == nbb_unformatted_code) {\n",
       "                             nbb_cells[i].set_text(nbb_formatted_code);\n",
       "                        }\n",
       "                        break;\n",
       "                    }\n",
       "                }\n",
       "            }, 500);\n",
       "            "
      ],
      "text/plain": [
       "<IPython.core.display.Javascript object>"
      ]
     },
     "metadata": {},
     "output_type": "display_data"
    }
   ],
   "source": [
    "fig = plt.figure(figsize=(15, 7))\n",
    "plt.plot(data_set.get_label(), label=\"True\")\n",
    "plt.plot(preds, label=\"Predicted\")\n",
    "plt.legend()"
   ]
  },
  {
   "cell_type": "code",
   "execution_count": 10,
   "id": "960b2711",
   "metadata": {},
   "outputs": [
    {
     "data": {
      "text/plain": [
       "(774, 8, 1)"
      ]
     },
     "execution_count": 10,
     "metadata": {},
     "output_type": "execute_result"
    },
    {
     "name": "stdout",
     "output_type": "stream",
     "text": [
      "time: 0 ns (started: 2023-12-09 18:54:40 +03:00)\n"
     ]
    },
    {
     "data": {
      "application/javascript": [
       "\n",
       "            setTimeout(function() {\n",
       "                var nbb_cell_id = 10;\n",
       "                var nbb_unformatted_code = \"len(X_train),len(X_val),len(X_test)\";\n",
       "                var nbb_formatted_code = \"len(X_train), len(X_val), len(X_test)\";\n",
       "                var nbb_cells = Jupyter.notebook.get_cells();\n",
       "                for (var i = 0; i < nbb_cells.length; ++i) {\n",
       "                    if (nbb_cells[i].input_prompt_number == nbb_cell_id) {\n",
       "                        if (nbb_cells[i].get_text() == nbb_unformatted_code) {\n",
       "                             nbb_cells[i].set_text(nbb_formatted_code);\n",
       "                        }\n",
       "                        break;\n",
       "                    }\n",
       "                }\n",
       "            }, 500);\n",
       "            "
      ],
      "text/plain": [
       "<IPython.core.display.Javascript object>"
      ]
     },
     "metadata": {},
     "output_type": "display_data"
    }
   ],
   "source": [
    "len(X_train),len(X_val),len(X_test)"
   ]
  },
  {
   "cell_type": "markdown",
   "id": "3b85979c",
   "metadata": {
    "heading_collapsed": true
   },
   "source": [
    "## Regression"
   ]
  },
  {
   "cell_type": "code",
   "execution_count": 55,
   "id": "183eb99d",
   "metadata": {
    "hidden": true
   },
   "outputs": [
    {
     "data": {
      "application/vnd.jupyter.widget-view+json": {
       "model_id": "e15ab92aaee54e4aaa52c3aca4cc3f86",
       "version_major": 2,
       "version_minor": 0
      },
      "text/plain": [
       "MetricVisualizer(layout=Layout(align_self='stretch', height='500px'))"
      ]
     },
     "metadata": {},
     "output_type": "display_data"
    },
    {
     "data": {
      "text/plain": [
       "<catboost.core.CatBoostRegressor at 0x1ffd6882640>"
      ]
     },
     "execution_count": 55,
     "metadata": {},
     "output_type": "execute_result"
    },
    {
     "name": "stdout",
     "output_type": "stream",
     "text": [
      "time: 50.5 s (started: 2023-12-11 01:08:04 +03:00)\n"
     ]
    },
    {
     "data": {
      "application/javascript": [
       "\n",
       "            setTimeout(function() {\n",
       "                var nbb_cell_id = 55;\n",
       "                var nbb_unformatted_code = \"model = CatBoostRegressor(iterations=10_000, task_type=\\\"GPU\\\", early_stopping_rounds=1000)\\nmodel.fit(\\n    pd.concat(X_train, ignore_index=True),\\n    pd.concat(Y_train, ignore_index=True),\\n    eval_set=(pd.concat(X_val, ignore_index=True), pd.concat(Y_val, ignore_index=True)),\\n    plot=True,\\n    verbose=False,\\n)\";\n",
       "                var nbb_formatted_code = \"model = CatBoostRegressor(iterations=10_000, task_type=\\\"GPU\\\", early_stopping_rounds=1000)\\nmodel.fit(\\n    pd.concat(X_train, ignore_index=True),\\n    pd.concat(Y_train, ignore_index=True),\\n    eval_set=(pd.concat(X_val, ignore_index=True), pd.concat(Y_val, ignore_index=True)),\\n    plot=True,\\n    verbose=False,\\n)\";\n",
       "                var nbb_cells = Jupyter.notebook.get_cells();\n",
       "                for (var i = 0; i < nbb_cells.length; ++i) {\n",
       "                    if (nbb_cells[i].input_prompt_number == nbb_cell_id) {\n",
       "                        if (nbb_cells[i].get_text() == nbb_unformatted_code) {\n",
       "                             nbb_cells[i].set_text(nbb_formatted_code);\n",
       "                        }\n",
       "                        break;\n",
       "                    }\n",
       "                }\n",
       "            }, 500);\n",
       "            "
      ],
      "text/plain": [
       "<IPython.core.display.Javascript object>"
      ]
     },
     "metadata": {},
     "output_type": "display_data"
    }
   ],
   "source": [
    "model = CatBoostRegressor(iterations=10_000, task_type=\"GPU\", early_stopping_rounds=1000)\n",
    "model.fit(\n",
    "    pd.concat(X_train, ignore_index=True),\n",
    "    pd.concat(Y_train, ignore_index=True),\n",
    "    eval_set=(pd.concat(X_val, ignore_index=True), pd.concat(Y_val, ignore_index=True)),\n",
    "    plot=True,\n",
    "    verbose=False,\n",
    ")"
   ]
  },
  {
   "cell_type": "code",
   "execution_count": 56,
   "id": "99fe4745",
   "metadata": {
    "hidden": true
   },
   "outputs": [
    {
     "data": {
      "image/png": "[encoded data removed]",
      "text/plain": [
       "<Figure size 864x432 with 1 Axes>"
      ]
     },
     "metadata": {
      "needs_background": "light"
     },
     "output_type": "display_data"
    },
    {
     "name": "stdout",
     "output_type": "stream",
     "text": [
      "time: 469 ms (started: 2023-12-11 01:30:06 +03:00)\n"
     ]
    },
    {
     "data": {
      "application/javascript": [
       "\n",
       "            setTimeout(function() {\n",
       "                var nbb_cell_id = 56;\n",
       "                var nbb_unformatted_code = \"show_fi(model, drop_columns=[], max_nfeatures=20, X_test=X_val[0])\";\n",
       "                var nbb_formatted_code = \"show_fi(model, drop_columns=[], max_nfeatures=20, X_test=X_val[0])\";\n",
       "                var nbb_cells = Jupyter.notebook.get_cells();\n",
       "                for (var i = 0; i < nbb_cells.length; ++i) {\n",
       "                    if (nbb_cells[i].input_prompt_number == nbb_cell_id) {\n",
       "                        if (nbb_cells[i].get_text() == nbb_unformatted_code) {\n",
       "                             nbb_cells[i].set_text(nbb_formatted_code);\n",
       "                        }\n",
       "                        break;\n",
       "                    }\n",
       "                }\n",
       "            }, 500);\n",
       "            "
      ],
      "text/plain": [
       "<IPython.core.display.Javascript object>"
      ]
     },
     "metadata": {},
     "output_type": "display_data"
    }
   ],
   "source": [
    "show_fi(model, drop_columns=[], max_nfeatures=20, X_test=X_val[0])"
   ]
  },
  {
   "cell_type": "code",
   "execution_count": null,
   "id": "5b5c7767",
   "metadata": {
    "hidden": true
   },
   "outputs": [],
   "source": []
  },
  {
   "cell_type": "code",
   "execution_count": 45,
   "id": "8ec44eac",
   "metadata": {
    "hidden": true
   },
   "outputs": [
    {
     "data": {
      "application/vnd.jupyter.widget-view+json": {
       "model_id": "f3f62f2c27d4490891c42fdfd4fe2ff5",
       "version_major": 2,
       "version_minor": 0
      },
      "text/plain": [
       "MetricVisualizer(layout=Layout(align_self='stretch', height='500px'))"
      ]
     },
     "metadata": {},
     "output_type": "display_data"
    },
    {
     "name": "stderr",
     "output_type": "stream",
     "text": [
      "Default metric period is 5 because AUC is/are not implemented for GPU\n"
     ]
    },
    {
     "data": {
      "text/plain": [
       "<catboost.core.CatBoostClassifier at 0x1ffe2dbe580>"
      ]
     },
     "execution_count": 45,
     "metadata": {},
     "output_type": "execute_result"
    },
    {
     "name": "stdout",
     "output_type": "stream",
     "text": [
      "time: 1min 49s (started: 2023-12-10 00:05:58 +03:00)\n"
     ]
    },
    {
     "data": {
      "application/javascript": [
       "\n",
       "            setTimeout(function() {\n",
       "                var nbb_cell_id = 45;\n",
       "                var nbb_unformatted_code = \"model = CatBoostClassifier(iterations=10_000, task_type=\\\"GPU\\\", eval_metric=\\\"AUC\\\", early_stopping_rounds=1000)\\nmodel.fit(\\n    pd.concat(X_train, ignore_index=True),\\n    pd.concat(Y_train, ignore_index=True) > 0.90,\\n    eval_set=(pd.concat(X_val, ignore_index=True), pd.concat(Y_val, ignore_index=True) > 0.90),\\n    plot=True,\\n    verbose=False,\\n)\";\n",
       "                var nbb_formatted_code = \"model = CatBoostClassifier(iterations=10_000, task_type=\\\"GPU\\\", eval_metric=\\\"AUC\\\", early_stopping_rounds=1000)\\nmodel.fit(\\n    pd.concat(X_train, ignore_index=True),\\n    pd.concat(Y_train, ignore_index=True) > 0.90,\\n    eval_set=(pd.concat(X_val, ignore_index=True), pd.concat(Y_val, ignore_index=True) > 0.90),\\n    plot=True,\\n    verbose=False,\\n)\";\n",
       "                var nbb_cells = Jupyter.notebook.get_cells();\n",
       "                for (var i = 0; i < nbb_cells.length; ++i) {\n",
       "                    if (nbb_cells[i].input_prompt_number == nbb_cell_id) {\n",
       "                        if (nbb_cells[i].get_text() == nbb_unformatted_code) {\n",
       "                             nbb_cells[i].set_text(nbb_formatted_code);\n",
       "                        }\n",
       "                        break;\n",
       "                    }\n",
       "                }\n",
       "            }, 500);\n",
       "            "
      ],
      "text/plain": [
       "<IPython.core.display.Javascript object>"
      ]
     },
     "metadata": {},
     "output_type": "display_data"
    }
   ],
   "source": [
    "model = CatBoostClassifier(iterations=10_000, task_type=\"GPU\", eval_metric=\"AUC\", early_stopping_rounds=1000)\n",
    "model.fit(\n",
    "    pd.concat(X_train, ignore_index=True),\n",
    "    pd.concat(Y_train, ignore_index=True) > 0.90,\n",
    "    eval_set=(pd.concat(X_val, ignore_index=True), pd.concat(Y_val, ignore_index=True) > 0.90),\n",
    "    plot=True,\n",
    "    verbose=False,\n",
    ")"
   ]
  },
  {
   "cell_type": "code",
   "execution_count": 46,
   "id": "88a7ab52",
   "metadata": {
    "hidden": true
   },
   "outputs": [
    {
     "data": {
      "image/png": "[encoded data removed]",
      "text/plain": [
       "<Figure size 864x432 with 1 Axes>"
      ]
     },
     "metadata": {
      "needs_background": "light"
     },
     "output_type": "display_data"
    },
    {
     "name": "stdout",
     "output_type": "stream",
     "text": [
      "time: 453 ms (started: 2023-12-10 02:24:12 +03:00)\n"
     ]
    },
    {
     "data": {
      "application/javascript": [
       "\n",
       "            setTimeout(function() {\n",
       "                var nbb_cell_id = 46;\n",
       "                var nbb_unformatted_code = \"def show_fi(model, X_test: pd.DataFrame, drop_columns: list = [], max_nfeatures: int = 30, title: str = None, figsize=(12, 6)):\\n    try:\\n        feature_importance = model.feature_importances_\\n    except:\\n        pass\\n    else:\\n        sorted_idx = np.argsort(feature_importance)\\n        fig = plt.figure(figsize=figsize)\\n        if max_nfeatures:\\n            sorted_idx = sorted_idx[:max_nfeatures]\\n        plt.barh(range(len(sorted_idx)), feature_importance[sorted_idx], align=\\\"center\\\")\\n        plt.yticks(range(len(sorted_idx)), np.array(X_test.columns if not drop_columns else X_test.head().drop(columns=drop_columns).columns)[sorted_idx])\\n        if title:\\n            title = \\\"Feature Importance of \\\" + title\\n        else:\\n            title = \\\"Feature Importance\\\"\\n        plt.title(title)\\n        plt.tight_layout()\\n        plt.show()\\n\\n\\nshow_fi(model, drop_columns=[], max_nfeatures=20, X_test=X_val[0])\";\n",
       "                var nbb_formatted_code = \"def show_fi(model, X_test: pd.DataFrame, drop_columns: list = [], max_nfeatures: int = 30, title: str = None, figsize=(12, 6)):\\n    try:\\n        feature_importance = model.feature_importances_\\n    except:\\n        pass\\n    else:\\n        sorted_idx = np.argsort(feature_importance)\\n        fig = plt.figure(figsize=figsize)\\n        if max_nfeatures:\\n            sorted_idx = sorted_idx[:max_nfeatures]\\n        plt.barh(range(len(sorted_idx)), feature_importance[sorted_idx], align=\\\"center\\\")\\n        plt.yticks(range(len(sorted_idx)), np.array(X_test.columns if not drop_columns else X_test.head().drop(columns=drop_columns).columns)[sorted_idx])\\n        if title:\\n            title = \\\"Feature Importance of \\\" + title\\n        else:\\n            title = \\\"Feature Importance\\\"\\n        plt.title(title)\\n        plt.tight_layout()\\n        plt.show()\\n\\n\\nshow_fi(model, drop_columns=[], max_nfeatures=20, X_test=X_val[0])\";\n",
       "                var nbb_cells = Jupyter.notebook.get_cells();\n",
       "                for (var i = 0; i < nbb_cells.length; ++i) {\n",
       "                    if (nbb_cells[i].input_prompt_number == nbb_cell_id) {\n",
       "                        if (nbb_cells[i].get_text() == nbb_unformatted_code) {\n",
       "                             nbb_cells[i].set_text(nbb_formatted_code);\n",
       "                        }\n",
       "                        break;\n",
       "                    }\n",
       "                }\n",
       "            }, 500);\n",
       "            "
      ],
      "text/plain": [
       "<IPython.core.display.Javascript object>"
      ]
     },
     "metadata": {},
     "output_type": "display_data"
    }
   ],
   "source": [
    "show_fi(model, drop_columns=[], max_nfeatures=20, X_test=X_val[0])"
   ]
  },
  {
   "cell_type": "code",
   "execution_count": 47,
   "id": "4f8e38c5",
   "metadata": {
    "hidden": true,
    "scrolled": true
   },
   "outputs": [
    {
     "data": {
      "text/plain": [
       "array([0.00283266, 0.00518385, 0.00619176, 0.00620302, 0.00662661,\n",
       "       0.00667597, 0.00763021, 0.00822373, 0.0093872 , 0.01039331,\n",
       "       0.01233031, 0.01266387, 0.01313569, 0.01354471, 0.01394491,\n",
       "       0.01450583, 0.01452706, 0.01455648, 0.01476071, 0.01555254,\n",
       "       0.01574139, 0.01632769, 0.01639499, 0.01683338, 0.01686499,\n",
       "       0.01791736, 0.01802298, 0.01820514, 0.01834676, 0.01856835,\n",
       "       0.01876448, 0.01897931, 0.01966241, 0.01983838, 0.02015157,\n",
       "       0.02068085, 0.02121467, 0.02155569, 0.02177972, 0.02184632,\n",
       "       0.02192136, 0.02226611, 0.02233522, 0.02235705, 0.02263342,\n",
       "       0.02274943, 0.02278168, 0.02348648, 0.02375421, 0.02393009,\n",
       "       0.02437245, 0.02500842, 0.0254948 , 0.02621614, 0.02682026,\n",
       "       0.02682371, 0.0269245 , 0.02693534, 0.02748273, 0.02826125,\n",
       "       0.02827323, 0.02841814, 0.02853998, 0.02869622, 0.02880885,\n",
       "       0.02890421, 0.02930671, 0.02950646, 0.02965897, 0.0303238 ,\n",
       "       0.0303444 , 0.03040266, 0.03106832, 0.03107423, 0.031078  ,\n",
       "       0.03170628, 0.03199217, 0.03211568, 0.03258222, 0.03272015,\n",
       "       0.03289238, 0.03323424, 0.03339927, 0.03350886, 0.03361661,\n",
       "       0.03392827, 0.03403018, 0.03423997, 0.0344456 , 0.03465687,\n",
       "       0.03519606, 0.03536563, 0.03549361, 0.03558248, 0.03572053,\n",
       "       0.03600135, 0.03606741, 0.03624839, 0.03641417, 0.03641746,\n",
       "       0.03665765, 0.03696681, 0.03729916, 0.03738926, 0.03802163,\n",
       "       0.03852434, 0.03853054, 0.03901849, 0.03908352, 0.03909068,\n",
       "       0.03920969, 0.03939018, 0.0394556 , 0.03969701, 0.03973154,\n",
       "       0.04003111, 0.04007217, 0.04020917, 0.04026337, 0.04034613,\n",
       "       0.04103344, 0.04144266, 0.04164261, 0.04180957, 0.04192996,\n",
       "       0.04242915, 0.04247046, 0.04337549, 0.0435083 , 0.0443475 ,\n",
       "       0.0443733 , 0.04478192, 0.04489162, 0.04512868, 0.04526568,\n",
       "       0.04588965, 0.0459021 , 0.04647577, 0.04702708, 0.04759277,\n",
       "       0.04762163, 0.04784381, 0.04789377, 0.04791849, 0.04813929,\n",
       "       0.04832752, 0.04835597, 0.04854804, 0.04860065, 0.04904619,\n",
       "       0.04950948, 0.04979691, 0.05033863, 0.05039227, 0.05070409,\n",
       "       0.05086212, 0.05099094, 0.05102499, 0.05125498, 0.05134362,\n",
       "       0.05137823, 0.05153951, 0.05169833, 0.05217813, 0.05232327,\n",
       "       0.05243263, 0.05259466, 0.05276416, 0.05279475, 0.05337158,\n",
       "       0.05339076, 0.05442365, 0.05454201, 0.05475901, 0.0547591 ,\n",
       "       0.0548274 , 0.05505093, 0.05514835, 0.05537968, 0.05566656,\n",
       "       0.05576163, 0.05605092, 0.05605393, 0.05758601, 0.05768134,\n",
       "       0.05781167, 0.0580078 , 0.05814058, 0.05829488, 0.05835076,\n",
       "       0.05945613, 0.06007911, 0.06033614, 0.06043818, 0.06058082,\n",
       "       0.06066093, 0.06077121, 0.06136853, 0.06150033, 0.0615071 ,\n",
       "       0.06160645, 0.06160744, 0.06163092, 0.06209531, 0.06228252,\n",
       "       0.06228675, 0.06268811, 0.06270894, 0.0630131 , 0.06315397,\n",
       "       0.06318226, 0.06320699, 0.06321144, 0.0633684 , 0.06337989,\n",
       "       0.06374568, 0.06384756, 0.06416021, 0.0644845 , 0.0645197 ,\n",
       "       0.06452939, 0.0645965 , 0.0647158 , 0.06493906, 0.06498317,\n",
       "       0.06533799, 0.06534853, 0.06546628, 0.06649206, 0.06664045,\n",
       "       0.06695172, 0.06703369, 0.06733993, 0.06744391, 0.06749642,\n",
       "       0.06806162, 0.06856817, 0.06863557, 0.06912847, 0.06975031,\n",
       "       0.06983272, 0.07037585, 0.07058414, 0.0711038 , 0.07133387,\n",
       "       0.07143544, 0.07145882, 0.07149637, 0.0717859 , 0.07201748,\n",
       "       0.07208475, 0.07224398, 0.07237537, 0.07241551, 0.07278335,\n",
       "       0.07287933, 0.07344171, 0.07390225, 0.0740514 , 0.07430615,\n",
       "       0.07446283, 0.07454819, 0.0746215 , 0.07531597, 0.07586463,\n",
       "       0.07693147, 0.07702288, 0.07755691, 0.07806641, 0.07846683,\n",
       "       0.07881227, 0.07896683, 0.0793663 , 0.08028816, 0.08077559,\n",
       "       0.08115211, 0.08165921, 0.08349646, 0.0839271 , 0.08406504,\n",
       "       0.08502081, 0.08521425, 0.08588167, 0.08683329, 0.08733787,\n",
       "       0.08779199, 0.08858506, 0.0889831 , 0.08910471, 0.0892191 ,\n",
       "       0.08924496, 0.08937458, 0.09007156, 0.09080162, 0.09087433,\n",
       "       0.0910084 , 0.09117269, 0.09147194, 0.0930006 , 0.09351395,\n",
       "       0.09381126, 0.09461369, 0.09495233, 0.09531673, 0.0955079 ,\n",
       "       0.09573396, 0.09765264, 0.09777464, 0.09781309, 0.09840665,\n",
       "       0.09849389, 0.09865762, 0.09884823, 0.0997354 , 0.09981978,\n",
       "       0.10113563, 0.10197073, 0.10216559, 0.10351707, 0.10432882,\n",
       "       0.10497627, 0.1053599 , 0.1054031 , 0.10556813, 0.10600261,\n",
       "       0.10605209, 0.10633975, 0.10664503, 0.10679574, 0.10728695,\n",
       "       0.10935006, 0.1100332 , 0.11152521, 0.11218848, 0.11314351,\n",
       "       0.11589367, 0.11699335, 0.11734235, 0.11805897, 0.11852188,\n",
       "       0.11857067, 0.11859872, 0.1191533 , 0.12053324, 0.12546327,\n",
       "       0.12687866, 0.12745765, 0.13094285, 0.13123547, 0.13253216,\n",
       "       0.13255449, 0.13323819, 0.13334211, 0.13633743, 0.13712957,\n",
       "       0.13874977, 0.13877408, 0.13912068, 0.13964446, 0.14368801,\n",
       "       0.14726207, 0.1486047 , 0.14913922, 0.14926698, 0.14954538,\n",
       "       0.15117603, 0.15127032, 0.15156721, 0.1519171 , 0.1534547 ,\n",
       "       0.1543607 , 0.15507032, 0.15731115, 0.15891541, 0.16065298,\n",
       "       0.16152639, 0.16178404, 0.16317426, 0.16580319, 0.16645577,\n",
       "       0.16695621, 0.16733558, 0.16822975, 0.1685279 , 0.17126434,\n",
       "       0.17310878, 0.17504015, 0.17805115, 0.17912988, 0.17952424,\n",
       "       0.18026257, 0.18147123, 0.18236689, 0.18319493, 0.18474198,\n",
       "       0.18639496, 0.18697226, 0.18777562, 0.18862982, 0.18962688,\n",
       "       0.18982577, 0.18990064, 0.19244313, 0.19281893, 0.19620044,\n",
       "       0.19649482, 0.19657698, 0.19783099, 0.19896561, 0.20033641,\n",
       "       0.2020016 , 0.20310109, 0.20531049, 0.20663604, 0.20809805,\n",
       "       0.20991506, 0.21125821, 0.2132264 , 0.21406022, 0.2157069 ,\n",
       "       0.22063875, 0.22237592, 0.22416693, 0.22452275, 0.22460404,\n",
       "       0.22624283, 0.22648655, 0.22715672, 0.22718197, 0.22930986,\n",
       "       0.2297863 , 0.23051034, 0.23298903, 0.23559127, 0.24307855,\n",
       "       0.24430361, 0.24748764, 0.24970911, 0.24972488, 0.25000881,\n",
       "       0.258044  , 0.25820275, 0.25942847, 0.25996274, 0.26077287,\n",
       "       0.26594509, 0.26769746, 0.28424779, 0.29651351, 0.30335737,\n",
       "       0.32120345, 0.3316312 , 0.35226899, 0.36259549, 0.38835963,\n",
       "       0.39367308, 0.44176058])"
      ]
     },
     "execution_count": 47,
     "metadata": {},
     "output_type": "execute_result"
    },
    {
     "name": "stdout",
     "output_type": "stream",
     "text": [
      "time: 15 ms (started: 2023-12-10 02:24:31 +03:00)\n"
     ]
    },
    {
     "data": {
      "application/javascript": [
       "\n",
       "            setTimeout(function() {\n",
       "                var nbb_cell_id = 47;\n",
       "                var nbb_unformatted_code = \"predictions = model.predict_proba(X_test[0])[:, 1]\\npredictions[np.argsort(predictions)]\";\n",
       "                var nbb_formatted_code = \"predictions = model.predict_proba(X_test[0])[:, 1]\\npredictions[np.argsort(predictions)]\";\n",
       "                var nbb_cells = Jupyter.notebook.get_cells();\n",
       "                for (var i = 0; i < nbb_cells.length; ++i) {\n",
       "                    if (nbb_cells[i].input_prompt_number == nbb_cell_id) {\n",
       "                        if (nbb_cells[i].get_text() == nbb_unformatted_code) {\n",
       "                             nbb_cells[i].set_text(nbb_formatted_code);\n",
       "                        }\n",
       "                        break;\n",
       "                    }\n",
       "                }\n",
       "            }, 500);\n",
       "            "
      ],
      "text/plain": [
       "<IPython.core.display.Javascript object>"
      ]
     },
     "metadata": {},
     "output_type": "display_data"
    }
   ],
   "source": [
    "predictions = model.predict_proba(X_test[0])[:, 1]\n",
    "predictions[np.argsort(predictions)]"
   ]
  },
  {
   "cell_type": "code",
   "execution_count": 48,
   "id": "6127512b",
   "metadata": {
    "hidden": true
   },
   "outputs": [
    {
     "data": {
      "text/plain": [
       "array(['AIDOGE-USDT', 'KINE-USDT', 'FITFI-USDT', 'THG-USDT', 'WIFI-USDT',\n",
       "       'LOOKS-USDT', 'XETA-USDT', 'KONO-USDT', 'BLOK-USDT', 'MDT-USDT',\n",
       "       'IOTA-USDT', 'DOME-USDT', 'AUCTION-USDT', 'STC-USDT', 'REVV-USDT',\n",
       "       'MYRIA-USDT', 'DEP-USDT', 'CTXC-USDT', 'ZKS-USDT', 'USTC-USDT'],\n",
       "      dtype='<U14')"
      ]
     },
     "execution_count": 48,
     "metadata": {},
     "output_type": "execute_result"
    },
    {
     "name": "stdout",
     "output_type": "stream",
     "text": [
      "time: 0 ns (started: 2023-12-10 02:24:36 +03:00)\n"
     ]
    },
    {
     "data": {
      "application/javascript": [
       "\n",
       "            setTimeout(function() {\n",
       "                var nbb_cell_id = 48;\n",
       "                var nbb_unformatted_code = \"(np.array(common_tickers)[np.argsort(predictions)])[-20:]\";\n",
       "                var nbb_formatted_code = \"(np.array(common_tickers)[np.argsort(predictions)])[-20:]\";\n",
       "                var nbb_cells = Jupyter.notebook.get_cells();\n",
       "                for (var i = 0; i < nbb_cells.length; ++i) {\n",
       "                    if (nbb_cells[i].input_prompt_number == nbb_cell_id) {\n",
       "                        if (nbb_cells[i].get_text() == nbb_unformatted_code) {\n",
       "                             nbb_cells[i].set_text(nbb_formatted_code);\n",
       "                        }\n",
       "                        break;\n",
       "                    }\n",
       "                }\n",
       "            }, 500);\n",
       "            "
      ],
      "text/plain": [
       "<IPython.core.display.Javascript object>"
      ]
     },
     "metadata": {},
     "output_type": "display_data"
    }
   ],
   "source": [
    "(np.array(common_tickers)[np.argsort(predictions)])[-20:]"
   ]
  },
  {
   "cell_type": "code",
   "execution_count": 49,
   "id": "1ba45190",
   "metadata": {
    "hidden": true
   },
   "outputs": [
    {
     "data": {
      "text/plain": [
       "'max_to_open_rank'"
      ]
     },
     "execution_count": 49,
     "metadata": {},
     "output_type": "execute_result"
    },
    {
     "name": "stdout",
     "output_type": "stream",
     "text": [
      "time: 0 ns (started: 2023-12-10 02:24:38 +03:00)\n"
     ]
    },
    {
     "data": {
      "application/javascript": [
       "\n",
       "            setTimeout(function() {\n",
       "                var nbb_cell_id = 49;\n",
       "                var nbb_unformatted_code = \"target_column\";\n",
       "                var nbb_formatted_code = \"target_column\";\n",
       "                var nbb_cells = Jupyter.notebook.get_cells();\n",
       "                for (var i = 0; i < nbb_cells.length; ++i) {\n",
       "                    if (nbb_cells[i].input_prompt_number == nbb_cell_id) {\n",
       "                        if (nbb_cells[i].get_text() == nbb_unformatted_code) {\n",
       "                             nbb_cells[i].set_text(nbb_formatted_code);\n",
       "                        }\n",
       "                        break;\n",
       "                    }\n",
       "                }\n",
       "            }, 500);\n",
       "            "
      ],
      "text/plain": [
       "<IPython.core.display.Javascript object>"
      ]
     },
     "metadata": {},
     "output_type": "display_data"
    }
   ],
   "source": [
    "target_column"
   ]
  },
  {
   "cell_type": "code",
   "execution_count": 50,
   "id": "0a071af6",
   "metadata": {
    "hidden": true
   },
   "outputs": [
    {
     "data": {
      "text/plain": [
       "array(['TURBO-USDT', 'LUNA-USDC', 'ETHW-USDC', 'LUNA-USDT', 'ETHW-USDT',\n",
       "       'CTXC-USDT', 'WSM-USDT', 'MYRIA-USDT', 'DORA-USDT', 'LUNC-USDC',\n",
       "       'LUNC-USDT', 'ORB-USDT', 'LITH-USDT', 'ERN-USDT', 'DEP-USDT',\n",
       "       'GHST-USDT', 'MILO-USDT', 'PSTAKE-USDT', 'OM-USDT', 'USTC-USDT'],\n",
       "      dtype=object)"
      ]
     },
     "execution_count": 50,
     "metadata": {},
     "output_type": "execute_result"
    },
    {
     "name": "stdout",
     "output_type": "stream",
     "text": [
      "time: 15 ms (started: 2023-12-10 02:24:40 +03:00)\n"
     ]
    },
    {
     "data": {
      "application/javascript": [
       "\n",
       "            setTimeout(function() {\n",
       "                var nbb_cell_id = 50;\n",
       "                var nbb_unformatted_code = \"df.sort_values(target_column).tail(20).ticker.values\";\n",
       "                var nbb_formatted_code = \"df.sort_values(target_column).tail(20).ticker.values\";\n",
       "                var nbb_cells = Jupyter.notebook.get_cells();\n",
       "                for (var i = 0; i < nbb_cells.length; ++i) {\n",
       "                    if (nbb_cells[i].input_prompt_number == nbb_cell_id) {\n",
       "                        if (nbb_cells[i].get_text() == nbb_unformatted_code) {\n",
       "                             nbb_cells[i].set_text(nbb_formatted_code);\n",
       "                        }\n",
       "                        break;\n",
       "                    }\n",
       "                }\n",
       "            }, 500);\n",
       "            "
      ],
      "text/plain": [
       "<IPython.core.display.Javascript object>"
      ]
     },
     "metadata": {},
     "output_type": "display_data"
    }
   ],
   "source": [
    "df.sort_values(target_column).tail(20).ticker.values"
   ]
  },
  {
   "cell_type": "code",
   "execution_count": 52,
   "id": "e7cf3991",
   "metadata": {
    "hidden": true
   },
   "outputs": [
    {
     "data": {
      "text/plain": [
       "{'AUCTION-USDT',\n",
       " 'BLOK-USDT',\n",
       " 'CTC-USDT',\n",
       " 'CTXC-USDT',\n",
       " 'DEP-USDT',\n",
       " 'DORA-USDT',\n",
       " 'LITH-USDT',\n",
       " 'LOOKS-USDC',\n",
       " 'LOOKS-USDT',\n",
       " 'LUNC-USDT',\n",
       " 'MDT-USDT',\n",
       " 'MYRIA-USDT',\n",
       " 'PSTAKE-USDT',\n",
       " 'USTC-USDT'}"
      ]
     },
     "execution_count": 52,
     "metadata": {},
     "output_type": "execute_result"
    },
    {
     "name": "stdout",
     "output_type": "stream",
     "text": [
      "time: 0 ns (started: 2023-12-10 02:25:12 +03:00)\n"
     ]
    },
    {
     "data": {
      "application/javascript": [
       "\n",
       "            setTimeout(function() {\n",
       "                var nbb_cell_id = 52;\n",
       "                var nbb_unformatted_code = \"set((np.array(common_tickers)[np.argsort(predictions)])[-50:]).intersection(set(df.sort_values(target_column).tail(50).ticker.values))\";\n",
       "                var nbb_formatted_code = \"set((np.array(common_tickers)[np.argsort(predictions)])[-50:]).intersection(set(df.sort_values(target_column).tail(50).ticker.values))\";\n",
       "                var nbb_cells = Jupyter.notebook.get_cells();\n",
       "                for (var i = 0; i < nbb_cells.length; ++i) {\n",
       "                    if (nbb_cells[i].input_prompt_number == nbb_cell_id) {\n",
       "                        if (nbb_cells[i].get_text() == nbb_unformatted_code) {\n",
       "                             nbb_cells[i].set_text(nbb_formatted_code);\n",
       "                        }\n",
       "                        break;\n",
       "                    }\n",
       "                }\n",
       "            }, 500);\n",
       "            "
      ],
      "text/plain": [
       "<IPython.core.display.Javascript object>"
      ]
     },
     "metadata": {},
     "output_type": "display_data"
    }
   ],
   "source": [
    "set((np.array(common_tickers)[np.argsort(predictions)])[-50:]).intersection(set(df.sort_values(target_column).tail(50).ticker.values))"
   ]
  },
  {
   "cell_type": "code",
   "execution_count": 43,
   "id": "00dc502f",
   "metadata": {
    "hidden": true
   },
   "outputs": [
    {
     "data": {
      "text/plain": [
       "457"
      ]
     },
     "execution_count": 43,
     "metadata": {},
     "output_type": "execute_result"
    },
    {
     "name": "stdout",
     "output_type": "stream",
     "text": [
      "time: 15 ms (started: 2023-12-09 23:08:29 +03:00)\n"
     ]
    },
    {
     "data": {
      "application/javascript": [
       "\n",
       "            setTimeout(function() {\n",
       "                var nbb_cell_id = 43;\n",
       "                var nbb_unformatted_code = \"len(common_tickers)\";\n",
       "                var nbb_formatted_code = \"len(common_tickers)\";\n",
       "                var nbb_cells = Jupyter.notebook.get_cells();\n",
       "                for (var i = 0; i < nbb_cells.length; ++i) {\n",
       "                    if (nbb_cells[i].input_prompt_number == nbb_cell_id) {\n",
       "                        if (nbb_cells[i].get_text() == nbb_unformatted_code) {\n",
       "                             nbb_cells[i].set_text(nbb_formatted_code);\n",
       "                        }\n",
       "                        break;\n",
       "                    }\n",
       "                }\n",
       "            }, 500);\n",
       "            "
      ],
      "text/plain": [
       "<IPython.core.display.Javascript object>"
      ]
     },
     "metadata": {},
     "output_type": "display_data"
    }
   ],
   "source": [
    "len(common_tickers)"
   ]
  },
  {
   "cell_type": "markdown",
   "id": "b40460bb",
   "metadata": {
    "heading_collapsed": true
   },
   "source": [
    "## LtR"
   ]
  },
  {
   "cell_type": "code",
   "execution_count": 89,
   "id": "89c8d7ee",
   "metadata": {
    "hidden": true
   },
   "outputs": [
    {
     "name": "stdout",
     "output_type": "stream",
     "text": [
      "1\n",
      "time: 390 ms (started: 2023-12-05 10:06:21 +03:00)\n"
     ]
    },
    {
     "data": {
      "application/javascript": [
       "\n",
       "            setTimeout(function() {\n",
       "                var nbb_cell_id = 89;\n",
       "                var nbb_unformatted_code = \"print(len(X_test))\\n\\ntrain_pool = Pool(data=pd.concat(X_train, ignore_index=True), label=pd.concat(Y_train, ignore_index=True), group_id=groups_train)\\n\\neval_pool = Pool(data=pd.concat(X_val, ignore_index=True), label=pd.concat(Y_val, ignore_index=True), group_id=groups_val)\\n\\ntest_pool = Pool(data=pd.concat(X_test, ignore_index=True), label=pd.concat(Y_test, ignore_index=True), group_id=groups_test)\";\n",
       "                var nbb_formatted_code = \"print(len(X_test))\\n\\ntrain_pool = Pool(data=pd.concat(X_train, ignore_index=True), label=pd.concat(Y_train, ignore_index=True), group_id=groups_train)\\n\\neval_pool = Pool(data=pd.concat(X_val, ignore_index=True), label=pd.concat(Y_val, ignore_index=True), group_id=groups_val)\\n\\ntest_pool = Pool(data=pd.concat(X_test, ignore_index=True), label=pd.concat(Y_test, ignore_index=True), group_id=groups_test)\";\n",
       "                var nbb_cells = Jupyter.notebook.get_cells();\n",
       "                for (var i = 0; i < nbb_cells.length; ++i) {\n",
       "                    if (nbb_cells[i].input_prompt_number == nbb_cell_id) {\n",
       "                        if (nbb_cells[i].get_text() == nbb_unformatted_code) {\n",
       "                             nbb_cells[i].set_text(nbb_formatted_code);\n",
       "                        }\n",
       "                        break;\n",
       "                    }\n",
       "                }\n",
       "            }, 500);\n",
       "            "
      ],
      "text/plain": [
       "<IPython.core.display.Javascript object>"
      ]
     },
     "metadata": {},
     "output_type": "display_data"
    }
   ],
   "source": [
    "print(len(X_test))\n",
    "\n"
   ]
  },
  {
   "cell_type": "code",
   "execution_count": 90,
   "id": "07d36373",
   "metadata": {
    "hidden": true
   },
   "outputs": [
    {
     "name": "stdout",
     "output_type": "stream",
     "text": [
      "time: 0 ns (started: 2023-12-05 10:06:22 +03:00)\n"
     ]
    },
    {
     "data": {
      "application/javascript": [
       "\n",
       "            setTimeout(function() {\n",
       "                var nbb_cell_id = 90;\n",
       "                var nbb_unformatted_code = \"from copy import deepcopy\\n\\niterations = 200\\nearly_stopping_rounds = min(100, iterations // 2)\\n\\ndefault_parameters = {\\n    \\\"iterations\\\": iterations,\\n    \\\"eval_metric\\\": \\\"PrecisionAt:top=20\\\",\\n    \\\"custom_metric\\\": [\\\"PrecisionAt:top=10\\\", \\\"PrecisionAt:top=20\\\", \\\"PrecisionAt:top=50\\\"],\\n    \\\"verbose\\\": False,\\n    \\\"random_seed\\\": 0,\\n    \\\"task_type\\\": \\\"GPU\\\",\\n}\\n\\n\\ndef fit_model(loss_function, train_pool, eval_pool=None, additional_params=None):\\n    parameters = deepcopy(default_parameters)\\n    parameters[\\\"loss_function\\\"] = loss_function\\n    parameters[\\\"train_dir\\\"] = loss_function\\n\\n    if additional_params is not None:\\n        parameters.update(additional_params)\\n\\n    model = CatBoostRanker(**parameters)\\n    model.fit(train_pool, eval_set=eval_pool, plot=True, use_best_model=True, early_stopping_rounds=early_stopping_rounds)\\n\\n    return model\";\n",
       "                var nbb_formatted_code = \"from copy import deepcopy\\n\\niterations = 200\\nearly_stopping_rounds = min(100, iterations // 2)\\n\\ndefault_parameters = {\\n    \\\"iterations\\\": iterations,\\n    \\\"eval_metric\\\": \\\"PrecisionAt:top=20\\\",\\n    \\\"custom_metric\\\": [\\\"PrecisionAt:top=10\\\", \\\"PrecisionAt:top=20\\\", \\\"PrecisionAt:top=50\\\"],\\n    \\\"verbose\\\": False,\\n    \\\"random_seed\\\": 0,\\n    \\\"task_type\\\": \\\"GPU\\\",\\n}\\n\\n\\ndef fit_model(loss_function, train_pool, eval_pool=None, additional_params=None):\\n    parameters = deepcopy(default_parameters)\\n    parameters[\\\"loss_function\\\"] = loss_function\\n    parameters[\\\"train_dir\\\"] = loss_function\\n\\n    if additional_params is not None:\\n        parameters.update(additional_params)\\n\\n    model = CatBoostRanker(**parameters)\\n    model.fit(train_pool, eval_set=eval_pool, plot=True, use_best_model=True, early_stopping_rounds=early_stopping_rounds)\\n\\n    return model\";\n",
       "                var nbb_cells = Jupyter.notebook.get_cells();\n",
       "                for (var i = 0; i < nbb_cells.length; ++i) {\n",
       "                    if (nbb_cells[i].input_prompt_number == nbb_cell_id) {\n",
       "                        if (nbb_cells[i].get_text() == nbb_unformatted_code) {\n",
       "                             nbb_cells[i].set_text(nbb_formatted_code);\n",
       "                        }\n",
       "                        break;\n",
       "                    }\n",
       "                }\n",
       "            }, 500);\n",
       "            "
      ],
      "text/plain": [
       "<IPython.core.display.Javascript object>"
      ]
     },
     "metadata": {},
     "output_type": "display_data"
    }
   ],
   "source": [
    "from copy import deepcopy\n",
    "\n",
    "iterations = 200\n",
    "early_stopping_rounds = min(100, iterations // 2)\n",
    "\n",
    "default_parameters = {\n",
    "    \"iterations\": iterations,\n",
    "    \"eval_metric\": \"PrecisionAt:top=20\",\n",
    "    \"custom_metric\": [\"PrecisionAt:top=10\", \"PrecisionAt:top=20\", \"PrecisionAt:top=50\"],\n",
    "    \"verbose\": False,\n",
    "    \"random_seed\": 0,\n",
    "    \"task_type\": \"GPU\",\n",
    "}\n",
    "\n",
    "\n",
    "def fit_model(loss_function, train_pool, eval_pool=None, additional_params=None):\n",
    "    parameters = deepcopy(default_parameters)\n",
    "    parameters[\"loss_function\"] = loss_function\n",
    "    parameters[\"train_dir\"] = loss_function\n",
    "\n",
    "    if additional_params is not None:\n",
    "        parameters.update(additional_params)\n",
    "\n",
    "    model = CatBoostRanker(**parameters)\n",
    "    model.fit(train_pool, eval_set=eval_pool, plot=True, use_best_model=True, early_stopping_rounds=early_stopping_rounds)\n",
    "\n",
    "    return model"
   ]
  },
  {
   "cell_type": "code",
   "execution_count": 91,
   "id": "884459d4",
   "metadata": {
    "hidden": true
   },
   "outputs": [
    {
     "data": {
      "application/vnd.jupyter.widget-view+json": {
       "model_id": "a6638ba75f614044bf9765e85ea5b776",
       "version_major": 2,
       "version_minor": 0
      },
      "text/plain": [
       "MetricVisualizer(layout=Layout(align_self='stretch', height='500px'))"
      ]
     },
     "metadata": {},
     "output_type": "display_data"
    },
    {
     "name": "stderr",
     "output_type": "stream",
     "text": [
      "Default metric period is 5 because PFound, PrecisionAt is/are not implemented for GPU\n",
      "Metric PFound is not implemented on GPU. Will use CPU for metric computation, this could significantly affect learning time\n",
      "Metric PrecisionAt:top=20 is not implemented on GPU. Will use CPU for metric computation, this could significantly affect learning time\n",
      "Metric PrecisionAt:top=10 is not implemented on GPU. Will use CPU for metric computation, this could significantly affect learning time\n",
      "Metric PrecisionAt:top=20 is not implemented on GPU. Will use CPU for metric computation, this could significantly affect learning time\n",
      "Metric PrecisionAt:top=50 is not implemented on GPU. Will use CPU for metric computation, this could significantly affect learning time\n"
     ]
    },
    {
     "name": "stdout",
     "output_type": "stream",
     "text": [
      "time: 5.72 s (started: 2023-12-05 10:06:23 +03:00)\n"
     ]
    },
    {
     "data": {
      "application/javascript": [
       "\n",
       "            setTimeout(function() {\n",
       "                var nbb_cell_id = 91;\n",
       "                var nbb_unformatted_code = \"model = fit_model(\\\"YetiRankPairwise\\\", train_pool=train_pool, eval_pool=eval_pool)  # PairLogitPairwise\";\n",
       "                var nbb_formatted_code = \"model = fit_model(\\\"YetiRankPairwise\\\", train_pool=train_pool, eval_pool=eval_pool)  # PairLogitPairwise\";\n",
       "                var nbb_cells = Jupyter.notebook.get_cells();\n",
       "                for (var i = 0; i < nbb_cells.length; ++i) {\n",
       "                    if (nbb_cells[i].input_prompt_number == nbb_cell_id) {\n",
       "                        if (nbb_cells[i].get_text() == nbb_unformatted_code) {\n",
       "                             nbb_cells[i].set_text(nbb_formatted_code);\n",
       "                        }\n",
       "                        break;\n",
       "                    }\n",
       "                }\n",
       "            }, 500);\n",
       "            "
      ],
      "text/plain": [
       "<IPython.core.display.Javascript object>"
      ]
     },
     "metadata": {},
     "output_type": "display_data"
    }
   ],
   "source": [
    "model = fit_model(\"YetiRankPairwise\", train_pool=train_pool, eval_pool=eval_pool)  # PairLogitPairwise"
   ]
  },
  {
   "cell_type": "code",
   "execution_count": 85,
   "id": "97399c97",
   "metadata": {
    "hidden": true
   },
   "outputs": [
    {
     "data": {
      "text/plain": [
       "array([ 1.57194665e-02, -3.51728900e-02,  3.24206147e-02,  2.27201206e-02,\n",
       "        2.49453259e-02,  5.76105978e-02,  4.96987343e-02,  3.40008063e-02,\n",
       "       -3.15920328e-02,  5.18520852e-02,  4.56290242e-02,  1.44883851e-02,\n",
       "        3.14429044e-02,  3.52220597e-02, -9.11086966e-03,  4.42350435e-02,\n",
       "       -5.21319588e-02,  5.01861944e-02,  5.28409230e-02,  1.58030859e-02,\n",
       "        3.19837911e-02,  2.70687862e-03, -5.58471789e-02, -3.67526615e-02,\n",
       "        2.76285335e-02, -5.88165444e-02,  2.79958398e-02,  5.23279518e-02,\n",
       "       -4.07468173e-02,  1.92966136e-02,  5.26550073e-02,  4.58610543e-02,\n",
       "        8.80298109e-03,  2.26634351e-02, -3.11169389e-02,  4.67963836e-02,\n",
       "        3.03421820e-02,  4.83510367e-02, -5.07304263e-02,  1.61535775e-03,\n",
       "        4.95744604e-02,  9.47468516e-03,  1.70667093e-02,  1.34114953e-02,\n",
       "        3.94112818e-02, -3.75932961e-02, -2.57559810e-02,  3.31992664e-02,\n",
       "        1.44921394e-02,  1.52358476e-02,  4.90544598e-02,  9.05146626e-03,\n",
       "        5.56469843e-02,  5.87918569e-02,  1.18233894e-02,  2.33088283e-02,\n",
       "        3.07415452e-02,  2.67329684e-02,  1.55306044e-02,  3.49012928e-02,\n",
       "        6.12993841e-02, -5.72777959e-02, -3.27671038e-02, -2.03289634e-02,\n",
       "        5.13498342e-02, -6.51165915e-02,  5.22006936e-02,  1.36093775e-02,\n",
       "        3.22128739e-02,  1.67298524e-02,  4.49190018e-02,  1.20115915e-02,\n",
       "        5.24374296e-02,  4.14510360e-02,  1.02990469e-02,  6.06222198e-02,\n",
       "        5.33299602e-04,  5.52586910e-02,  4.66773371e-02,  3.33470081e-02,\n",
       "       -6.38122787e-02,  6.15016973e-02,  5.40998960e-02,  2.79756346e-03,\n",
       "        1.43351594e-02,  2.16534178e-02,  4.47740409e-02,  3.44998453e-02,\n",
       "        5.06604972e-02,  3.88279290e-02,  4.78036803e-02, -3.23088578e-02,\n",
       "       -6.05041097e-03,  1.92561059e-02, -3.27687993e-02, -3.60471247e-03,\n",
       "        6.15424341e-02,  7.32335449e-02,  1.57889959e-02,  2.14701950e-02,\n",
       "        2.87249320e-03, -5.47195632e-02, -1.00712400e-02,  5.16083736e-02,\n",
       "        3.40962933e-02, -5.01112290e-02,  2.08921270e-02,  3.81647195e-02,\n",
       "       -1.65812000e-02,  7.75319934e-03,  1.15577022e-02,  5.55077946e-02,\n",
       "        2.56175059e-02,  3.40055217e-02,  4.83463106e-02,  4.09407677e-02,\n",
       "        2.07725311e-02,  2.00955096e-02,  1.51719369e-02,  7.41812064e-03,\n",
       "        5.34766585e-02,  4.35571856e-02,  4.52218010e-02,  6.13577026e-02,\n",
       "        7.18621177e-03,  2.07078859e-02, -5.75298917e-02,  1.78543327e-02,\n",
       "        1.49171977e-02,  4.55588829e-02,  4.04120290e-02, -4.70868453e-02,\n",
       "        4.19203176e-03,  3.42323060e-02,  4.49785123e-02,  3.55029929e-02,\n",
       "        4.25850927e-02, -2.62713567e-02,  2.37964394e-02,  6.30399044e-02,\n",
       "        4.03618767e-02,  6.35424523e-02, -3.38726853e-02,  4.97359849e-02,\n",
       "       -2.55330469e-02, -2.57468114e-02, -3.77930246e-02,  3.30360938e-02,\n",
       "        1.68804523e-02,  5.38486405e-02,  2.10641621e-02,  1.22910115e-02,\n",
       "        7.26933610e-03,  1.78919935e-02, -2.35567165e-02,  6.32615191e-02,\n",
       "       -1.62749206e-02,  2.01309564e-02, -3.70221276e-02,  2.99945285e-02,\n",
       "       -4.44905238e-02,  4.45246260e-02,  3.34167077e-02,  5.69812889e-02,\n",
       "        2.94796024e-02, -2.66211750e-02,  2.25112047e-02,  3.25017058e-02,\n",
       "        3.94485620e-02,  1.05737544e-02,  5.40059913e-02,  4.17067510e-02,\n",
       "       -1.78493796e-02,  1.49074980e-02,  4.20994365e-02,  1.34867734e-02,\n",
       "        3.15048787e-02,  2.91928042e-02,  3.27368250e-02,  5.25914130e-02,\n",
       "       -3.08759455e-02,  4.80137087e-02,  4.54192624e-02, -2.26767913e-02,\n",
       "       -5.00594071e-02,  2.98806002e-02, -6.04882464e-02,  1.02437703e-02,\n",
       "        5.23314047e-02,  9.51214127e-03, -3.72012831e-02,  2.49131069e-02,\n",
       "        3.37889594e-02, -9.80072718e-03,  1.51218316e-02,  5.82693955e-02,\n",
       "        2.14795859e-02,  7.53505557e-03,  5.22985761e-03,  2.62153148e-02,\n",
       "        6.36879687e-03, -5.24017373e-02,  1.23995116e-02,  4.96613063e-02,\n",
       "       -1.09758568e-02,  5.92725712e-02,  9.10685120e-03,  2.60430093e-02,\n",
       "        1.28809307e-02,  6.94183245e-03,  4.64210019e-02,  1.77964299e-02,\n",
       "        1.90920418e-03,  3.44125391e-02,  3.75424195e-02,  6.65629690e-02,\n",
       "       -2.71743752e-03,  3.71580843e-02,  2.59934248e-02,  4.97122578e-05,\n",
       "        3.60904074e-02,  3.95537319e-03,  2.38782811e-02,  4.09082012e-02,\n",
       "        5.70025482e-02,  4.93285256e-02, -3.69133904e-02,  4.08508171e-02,\n",
       "       -2.36775230e-02,  8.47288542e-03,  8.49398354e-03,  6.76510457e-02,\n",
       "        5.35294795e-02,  3.34588432e-02,  4.84389796e-02,  4.03056023e-02,\n",
       "        5.72762694e-03,  3.95538635e-02, -4.01860771e-02,  4.71763633e-03,\n",
       "       -4.58201710e-02,  2.94549138e-02,  1.95147645e-02,  4.76860526e-02,\n",
       "       -1.36683832e-05,  3.08412852e-02,  5.23948325e-02,  4.70337072e-03,\n",
       "        4.35210815e-02, -4.12200702e-02,  3.82209686e-02,  2.24681278e-02,\n",
       "        5.39558491e-02,  6.28017431e-02,  1.55525632e-02,  2.64323791e-02,\n",
       "        2.97797411e-02, -5.64072492e-02, -2.85946191e-02,  4.21679228e-03,\n",
       "        2.82603650e-02,  5.89457086e-02,  4.31431620e-02,  2.62344486e-02,\n",
       "        1.05110838e-02,  4.69739032e-03, -2.18396739e-02, -5.39001207e-02,\n",
       "       -4.73425007e-02,  2.93358750e-02, -5.93880382e-02,  3.58444198e-02,\n",
       "       -3.09004529e-02,  1.66872584e-02,  6.60383358e-03,  8.72315391e-03,\n",
       "        3.77129386e-02,  5.52345615e-02,  3.15267395e-02,  2.31486649e-02,\n",
       "        5.09549678e-02,  4.87079150e-02,  4.00565977e-02, -3.85646192e-03,\n",
       "        6.82605732e-02, -2.96016200e-03,  1.84437720e-02,  1.85094681e-02,\n",
       "        4.15954164e-02,  2.76332337e-02,  3.24729275e-02,  3.37262998e-02,\n",
       "        3.95706833e-03,  4.08138798e-02,  2.17954230e-05,  3.02596877e-02,\n",
       "        1.68496750e-02,  1.86785346e-02,  5.29447904e-02, -7.28093170e-02,\n",
       "        4.33328883e-02,  2.33176208e-02,  4.69702230e-02,  8.97082187e-03,\n",
       "       -1.04975979e-02,  3.61336914e-02, -4.56595317e-02,  6.24007876e-03,\n",
       "        3.02555345e-02,  1.83972324e-02, -5.20706200e-02,  4.36764250e-02,\n",
       "        4.82253687e-02,  3.76407999e-02,  1.99909037e-02,  1.28578874e-02,\n",
       "        5.88911374e-02,  4.99100709e-02,  4.94223925e-03,  2.82162312e-02,\n",
       "        2.14150562e-02, -6.49668560e-03,  1.85487938e-03,  6.62621250e-03,\n",
       "        3.25233160e-02, -1.24516934e-03, -6.82611879e-02,  3.51769595e-02,\n",
       "        6.99238209e-03,  2.09215325e-02,  3.44380731e-03,  6.06868261e-03,\n",
       "        1.04733397e-02,  4.76507820e-02, -2.13801536e-02,  4.70110189e-02,\n",
       "        4.21331752e-02,  1.23526115e-02,  3.39473644e-02, -6.82909532e-02,\n",
       "        4.24763000e-02, -6.78763431e-02, -1.01215509e-02,  1.38456213e-02,\n",
       "        3.59470024e-02, -3.24887899e-02,  1.78813702e-02,  3.89045053e-02,\n",
       "        9.16674999e-03,  6.24045001e-02,  4.45441758e-02,  1.78593306e-02,\n",
       "        1.10048664e-02, -3.68424017e-02,  6.48659216e-02,  4.20957074e-02,\n",
       "        1.53996858e-02,  4.91259793e-02, -3.95344100e-02,  3.18447211e-02,\n",
       "        4.16752562e-02, -2.37958273e-02,  5.11846256e-02,  5.94976688e-02,\n",
       "        5.58330616e-02, -1.01771619e-02, -1.28592984e-02,  1.14224706e-03,\n",
       "        1.81317760e-02,  2.75061210e-03,  4.16126395e-02,  3.56344891e-02,\n",
       "        3.86704820e-02, -6.87005757e-02,  1.85176496e-02, -1.71024669e-02,\n",
       "        5.78288991e-02,  3.80348398e-02,  1.29934374e-02,  5.69999324e-02,\n",
       "        1.77750232e-02, -6.51580907e-02,  6.46093007e-02,  4.96472357e-02,\n",
       "       -2.99549435e-02, -1.00193365e-02,  3.63563424e-02,  1.66057039e-02,\n",
       "        2.91706681e-02,  2.50524517e-02,  6.49107132e-02,  6.35309415e-02,\n",
       "        2.58887353e-02,  4.72079787e-03,  3.19473464e-02, -1.13853174e-02,\n",
       "        2.49760584e-02,  7.32206431e-02,  4.86848014e-02,  5.75610053e-02,\n",
       "        5.52638657e-02,  1.09986108e-03,  6.79213149e-02,  2.94113923e-02,\n",
       "        1.90784412e-02,  5.40286805e-02,  4.10428384e-02,  2.43733881e-02,\n",
       "        7.66091810e-03,  3.55863444e-02,  1.70592198e-02,  1.75970952e-02,\n",
       "        6.49920525e-03,  1.44201335e-02,  3.46156527e-02,  5.40272498e-02,\n",
       "        2.00322687e-02,  1.43665699e-02,  3.29690977e-02,  6.42792179e-02,\n",
       "        2.86478483e-02,  4.76830700e-02,  2.59169504e-02,  4.30748608e-02,\n",
       "        1.38699461e-02, -5.34271588e-03,  2.20898727e-02,  6.46396932e-02,\n",
       "        2.95386237e-02,  5.78062887e-02, -5.81224446e-02,  3.63000281e-02,\n",
       "        5.13964599e-02,  1.93200771e-02,  6.76928938e-02,  8.82884393e-03,\n",
       "        2.56199291e-02,  2.21278726e-02,  2.98330606e-02, -2.70385188e-03,\n",
       "       -3.44943598e-02,  1.13357578e-02,  2.37839602e-03,  5.54640718e-02,\n",
       "        3.34524669e-02, -8.16514444e-02,  1.68296212e-02,  9.77575278e-03,\n",
       "        4.91245680e-02,  3.53092449e-02, -6.02466479e-02,  5.26892588e-02,\n",
       "        1.55908165e-02,  2.35130472e-02,  3.97162975e-02, -3.99549843e-02,\n",
       "       -1.91720176e-02,  2.21804318e-02,  1.00635073e-02, -2.05018190e-02,\n",
       "        6.17141892e-02,  2.65140661e-02,  7.55625690e-03,  6.05746439e-02,\n",
       "        5.88684983e-02,  2.85087773e-02,  2.62190153e-02,  3.58460610e-02,\n",
       "       -1.81644619e-02,  3.38275027e-02,  4.72127967e-02,  2.37206856e-02,\n",
       "        4.20723757e-02, -1.80284042e-02,  2.94668186e-02,  1.78860173e-02,\n",
       "        4.32851646e-02, -2.85179165e-02, -4.50059840e-03,  3.71775901e-02,\n",
       "        4.69786100e-02, -5.66286937e-02,  4.98588578e-02,  4.03152174e-03,\n",
       "        4.44188142e-02,  3.30375119e-02, -1.05364775e-02,  3.52293442e-02,\n",
       "        3.87313849e-02, -3.53839296e-02,  6.62153604e-03,  3.32334680e-02,\n",
       "        4.17391280e-02,  5.43380347e-02,  3.52539340e-02, -1.32921980e-02])"
      ]
     },
     "execution_count": 85,
     "metadata": {},
     "output_type": "execute_result"
    },
    {
     "name": "stdout",
     "output_type": "stream",
     "text": [
      "time: 0 ns (started: 2023-12-05 10:04:57 +03:00)\n"
     ]
    },
    {
     "data": {
      "application/javascript": [
       "\n",
       "            setTimeout(function() {\n",
       "                var nbb_cell_id = 85;\n",
       "                var nbb_unformatted_code = \"model.predict(X_train[0])\";\n",
       "                var nbb_formatted_code = \"model.predict(X_train[0])\";\n",
       "                var nbb_cells = Jupyter.notebook.get_cells();\n",
       "                for (var i = 0; i < nbb_cells.length; ++i) {\n",
       "                    if (nbb_cells[i].input_prompt_number == nbb_cell_id) {\n",
       "                        if (nbb_cells[i].get_text() == nbb_unformatted_code) {\n",
       "                             nbb_cells[i].set_text(nbb_formatted_code);\n",
       "                        }\n",
       "                        break;\n",
       "                    }\n",
       "                }\n",
       "            }, 500);\n",
       "            "
      ],
      "text/plain": [
       "<IPython.core.display.Javascript object>"
      ]
     },
     "metadata": {},
     "output_type": "display_data"
    }
   ],
   "source": [
    "model.predict(X_train[0])"
   ]
  },
  {
   "cell_type": "code",
   "execution_count": 86,
   "id": "eea108a3",
   "metadata": {
    "hidden": true
   },
   "outputs": [
    {
     "data": {
      "text/plain": [
       "119    0.68410\n",
       "284    0.84708\n",
       "375    0.02012\n",
       "355    0.05835\n",
       "98     0.78672\n",
       "        ...   \n",
       "362    0.27767\n",
       "489    0.17304\n",
       "53     0.36821\n",
       "479    0.85714\n",
       "439    0.94567\n",
       "Name: close_to_open_rank, Length: 496, dtype: float64"
      ]
     },
     "execution_count": 86,
     "metadata": {},
     "output_type": "execute_result"
    },
    {
     "name": "stdout",
     "output_type": "stream",
     "text": [
      "time: 0 ns (started: 2023-12-05 10:05:06 +03:00)\n"
     ]
    },
    {
     "data": {
      "application/javascript": [
       "\n",
       "            setTimeout(function() {\n",
       "                var nbb_cell_id = 86;\n",
       "                var nbb_unformatted_code = \"Y_train[0]\";\n",
       "                var nbb_formatted_code = \"Y_train[0]\";\n",
       "                var nbb_cells = Jupyter.notebook.get_cells();\n",
       "                for (var i = 0; i < nbb_cells.length; ++i) {\n",
       "                    if (nbb_cells[i].input_prompt_number == nbb_cell_id) {\n",
       "                        if (nbb_cells[i].get_text() == nbb_unformatted_code) {\n",
       "                             nbb_cells[i].set_text(nbb_formatted_code);\n",
       "                        }\n",
       "                        break;\n",
       "                    }\n",
       "                }\n",
       "            }, 500);\n",
       "            "
      ],
      "text/plain": [
       "<IPython.core.display.Javascript object>"
      ]
     },
     "metadata": {},
     "output_type": "display_data"
    }
   ],
   "source": [
    "Y_train[0]"
   ]
  },
  {
   "cell_type": "code",
   "execution_count": 93,
   "id": "e62af149",
   "metadata": {
    "hidden": true
   },
   "outputs": [
    {
     "data": {
      "text/plain": [
       "0"
      ]
     },
     "execution_count": 93,
     "metadata": {},
     "output_type": "execute_result"
    },
    {
     "name": "stdout",
     "output_type": "stream",
     "text": [
      "time: 16 ms (started: 2023-12-05 10:06:43 +03:00)\n"
     ]
    },
    {
     "data": {
      "application/javascript": [
       "\n",
       "            setTimeout(function() {\n",
       "                var nbb_cell_id = 93;\n",
       "                var nbb_unformatted_code = \"day_number = 145\\ncommon_tickers = list(set(featurized_files[day_number].ticker.values).intersection(set(featurized_files[day_number + 1].ticker.values)))\\nfeatures = featurized_files[day_number].iloc[get_indices(master=featurized_files[day_number].ticker.values, search=common_tickers)].drop(columns=drop_columns)\\npredictions = model.predict(features)\\n\\ntop = 20\\nbest_real = set(featurized_files[day_number + 1].sort_values([target_column])[f\\\"ticker close_to_open {target_column}\\\".split()].tail(top).ticker.values)\\nbest_predicted = set((np.array(common_tickers)[np.argsort(predictions)])[-top:])\\nlen(best_predicted.intersection(best_real))\";\n",
       "                var nbb_formatted_code = \"day_number = 145\\ncommon_tickers = list(set(featurized_files[day_number].ticker.values).intersection(set(featurized_files[day_number + 1].ticker.values)))\\nfeatures = featurized_files[day_number].iloc[get_indices(master=featurized_files[day_number].ticker.values, search=common_tickers)].drop(columns=drop_columns)\\npredictions = model.predict(features)\\n\\ntop = 20\\nbest_real = set(featurized_files[day_number + 1].sort_values([target_column])[f\\\"ticker close_to_open {target_column}\\\".split()].tail(top).ticker.values)\\nbest_predicted = set((np.array(common_tickers)[np.argsort(predictions)])[-top:])\\nlen(best_predicted.intersection(best_real))\";\n",
       "                var nbb_cells = Jupyter.notebook.get_cells();\n",
       "                for (var i = 0; i < nbb_cells.length; ++i) {\n",
       "                    if (nbb_cells[i].input_prompt_number == nbb_cell_id) {\n",
       "                        if (nbb_cells[i].get_text() == nbb_unformatted_code) {\n",
       "                             nbb_cells[i].set_text(nbb_formatted_code);\n",
       "                        }\n",
       "                        break;\n",
       "                    }\n",
       "                }\n",
       "            }, 500);\n",
       "            "
      ],
      "text/plain": [
       "<IPython.core.display.Javascript object>"
      ]
     },
     "metadata": {},
     "output_type": "display_data"
    }
   ],
   "source": [
    "day_number = 145\n",
    "common_tickers = list(set(featurized_files[day_number].ticker.values).intersection(set(featurized_files[day_number + 1].ticker.values)))\n",
    "features = featurized_files[day_number].iloc[get_indices(master=featurized_files[day_number].ticker.values, search=common_tickers)].drop(columns=drop_columns)\n",
    "predictions = model.predict(features)\n",
    "\n",
    "top = 20\n",
    "best_real = set(featurized_files[day_number + 1].sort_values([target_column])[f\"ticker close_to_open {target_column}\".split()].tail(top).ticker.values)\n",
    "best_predicted = set((np.array(common_tickers)[np.argsort(predictions)])[-top:])\n",
    "len(best_predicted.intersection(best_real))"
   ]
  },
  {
   "cell_type": "code",
   "execution_count": 56,
   "id": "6895e250",
   "metadata": {
    "hidden": true,
    "scrolled": true
   },
   "outputs": [
    {
     "data": {
      "text/plain": [
       "array([-1.04860909e-01, -7.97779647e-02, -7.89267157e-02, -7.71998864e-02,\n",
       "       -7.71312039e-02, -7.52087564e-02, -7.24459877e-02, -7.19493033e-02,\n",
       "       -7.12820261e-02, -6.79545843e-02, -6.74250116e-02, -6.73361169e-02,\n",
       "       -6.58768346e-02, -6.46547173e-02, -6.27999008e-02, -6.26814221e-02,\n",
       "       -6.24121513e-02, -6.17087361e-02, -6.06022679e-02, -5.90935392e-02,\n",
       "       -5.89992769e-02, -5.89489330e-02, -5.81780009e-02, -5.73743483e-02,\n",
       "       -5.69914183e-02, -5.51597137e-02, -5.51038727e-02, -5.41833171e-02,\n",
       "       -5.41562462e-02, -5.41347290e-02, -5.24351371e-02, -5.14635047e-02,\n",
       "       -5.06414382e-02, -4.89335793e-02, -4.75347539e-02, -4.71931736e-02,\n",
       "       -4.69676310e-02, -4.55502059e-02, -4.49974785e-02, -4.43571441e-02,\n",
       "       -4.37054705e-02, -4.30340488e-02, -4.17149949e-02, -4.13814871e-02,\n",
       "       -4.13497518e-02, -4.09014638e-02, -4.00632531e-02, -3.70155466e-02,\n",
       "       -3.68897924e-02, -3.66545234e-02, -3.63368527e-02, -3.53587839e-02,\n",
       "       -3.49332033e-02, -3.23853933e-02, -3.22074835e-02, -3.21665503e-02,\n",
       "       -3.09675594e-02, -2.99651362e-02, -2.97462004e-02, -2.75766282e-02,\n",
       "       -2.67802226e-02, -2.52873097e-02, -2.35323894e-02, -2.16280826e-02,\n",
       "       -2.11806511e-02, -2.04759630e-02, -1.90626427e-02, -1.83627959e-02,\n",
       "       -1.76548956e-02, -1.75895699e-02, -1.54960134e-02, -1.54386603e-02,\n",
       "       -1.52183986e-02, -1.43004487e-02, -1.38591970e-02, -1.28424596e-02,\n",
       "       -1.26707964e-02, -1.07122261e-02, -9.49918600e-03, -9.14537027e-03,\n",
       "       -9.14302402e-03, -8.71503850e-03, -6.42513761e-03, -5.91981308e-03,\n",
       "       -4.79429476e-03, -4.19890849e-03, -3.63859902e-03, -3.02712954e-03,\n",
       "       -2.71909156e-03, -2.54877835e-03, -2.52467890e-03, -2.26354458e-03,\n",
       "       -1.50309120e-03, -1.03931670e-03, -7.05708328e-04, -9.39414707e-05,\n",
       "        5.74018626e-04,  8.56286966e-04,  1.18664239e-03,  1.22757136e-03,\n",
       "        1.52715498e-03,  1.54519269e-03,  1.69816020e-03,  2.06887928e-03,\n",
       "        2.87658746e-03,  2.87835530e-03,  3.50867129e-03,  3.85873130e-03,\n",
       "        4.37599595e-03,  4.44050368e-03,  4.58076545e-03,  4.83640888e-03,\n",
       "        4.97094874e-03,  5.30174412e-03,  5.40870430e-03,  5.92756023e-03,\n",
       "        6.13908624e-03,  6.42158964e-03,  6.46250203e-03,  6.49579704e-03,\n",
       "        6.74659975e-03,  7.42917673e-03,  7.49527932e-03,  7.52614181e-03,\n",
       "        7.71938375e-03,  8.24149900e-03,  8.30597325e-03,  8.43087233e-03,\n",
       "        8.46086369e-03,  8.79529605e-03,  8.96935710e-03,  8.97458603e-03,\n",
       "        9.05448146e-03,  9.06914381e-03,  9.50137747e-03,  9.63311315e-03,\n",
       "        9.73019196e-03,  9.79046239e-03,  9.90074213e-03,  1.00749068e-02,\n",
       "        1.01091958e-02,  1.01485698e-02,  1.05122489e-02,  1.05285713e-02,\n",
       "        1.05636713e-02,  1.06040381e-02,  1.06941898e-02,  1.08324048e-02,\n",
       "        1.08845703e-02,  1.10826108e-02,  1.11120027e-02,  1.11197985e-02,\n",
       "        1.13967791e-02,  1.14227392e-02,  1.14236610e-02,  1.17910399e-02,\n",
       "        1.19505231e-02,  1.20862874e-02,  1.20915343e-02,  1.22421480e-02,\n",
       "        1.22507921e-02,  1.23529262e-02,  1.24047815e-02,  1.24832513e-02,\n",
       "        1.26388429e-02,  1.29512758e-02,  1.29668595e-02,  1.29887948e-02,\n",
       "        1.31772804e-02,  1.32391986e-02,  1.32822426e-02,  1.33425581e-02,\n",
       "        1.35699646e-02,  1.36960018e-02,  1.37219801e-02,  1.37790538e-02,\n",
       "        1.38183481e-02,  1.38807671e-02,  1.39165236e-02,  1.39192164e-02,\n",
       "        1.40217693e-02,  1.43241152e-02,  1.44891150e-02,  1.48012083e-02,\n",
       "        1.48106721e-02,  1.49588184e-02,  1.50861492e-02,  1.52276629e-02,\n",
       "        1.53081958e-02,  1.54075394e-02,  1.57201546e-02,  1.57813109e-02,\n",
       "        1.57845091e-02,  1.58888980e-02,  1.59734207e-02,  1.60030604e-02,\n",
       "        1.60982042e-02,  1.61162819e-02,  1.63714315e-02,  1.64207404e-02,\n",
       "        1.64637496e-02,  1.64799001e-02,  1.65694731e-02,  1.65827753e-02,\n",
       "        1.66812369e-02,  1.68187665e-02,  1.68282741e-02,  1.69641696e-02,\n",
       "        1.70737554e-02,  1.70985438e-02,  1.72737581e-02,  1.74297443e-02,\n",
       "        1.74475781e-02,  1.74498100e-02,  1.76341962e-02,  1.77004421e-02,\n",
       "        1.77198555e-02,  1.77227372e-02,  1.77444672e-02,  1.77868343e-02,\n",
       "        1.79031472e-02,  1.80207677e-02,  1.80682142e-02,  1.80937032e-02,\n",
       "        1.80958950e-02,  1.81115789e-02,  1.81435257e-02,  1.82542633e-02,\n",
       "        1.83228158e-02,  1.83268501e-02,  1.83323904e-02,  1.84621381e-02,\n",
       "        1.85665272e-02,  1.85685684e-02,  1.85969182e-02,  1.86179358e-02,\n",
       "        1.87112789e-02,  1.89638885e-02,  1.90174918e-02,  1.90699037e-02,\n",
       "        1.92921499e-02,  1.93720768e-02,  1.94591144e-02,  1.94722226e-02,\n",
       "        1.94954091e-02,  1.95955652e-02,  1.96576245e-02,  1.96701345e-02,\n",
       "        1.97051058e-02,  1.97248768e-02,  1.98532584e-02,  1.98600934e-02,\n",
       "        1.99490035e-02,  1.99616795e-02,  2.02685138e-02,  2.03652745e-02,\n",
       "        2.03862786e-02,  2.04359970e-02,  2.04745996e-02,  2.04975178e-02,\n",
       "        2.05225969e-02,  2.05400309e-02,  2.05546760e-02,  2.05789370e-02,\n",
       "        2.08968501e-02,  2.09179356e-02,  2.10244782e-02,  2.10338593e-02,\n",
       "        2.12537356e-02,  2.13307015e-02,  2.13553349e-02,  2.14331857e-02,\n",
       "        2.14365469e-02,  2.14591794e-02,  2.16068576e-02,  2.16952917e-02,\n",
       "        2.18537187e-02,  2.19704648e-02,  2.19761538e-02,  2.21450912e-02,\n",
       "        2.22349224e-02,  2.22653968e-02,  2.23430614e-02,  2.24405588e-02,\n",
       "        2.24437517e-02,  2.25656619e-02,  2.26253257e-02,  2.26502732e-02,\n",
       "        2.26551885e-02,  2.28684048e-02,  2.29127738e-02,  2.29554558e-02,\n",
       "        2.30086615e-02,  2.30107732e-02,  2.30275004e-02,  2.30600125e-02,\n",
       "        2.30787761e-02,  2.31492298e-02,  2.32134164e-02,  2.32489835e-02,\n",
       "        2.32544553e-02,  2.32560847e-02,  2.35984412e-02,  2.36268041e-02,\n",
       "        2.36296290e-02,  2.36509375e-02,  2.36664891e-02,  2.37602274e-02,\n",
       "        2.37707528e-02,  2.38713349e-02,  2.39010768e-02,  2.39016813e-02,\n",
       "        2.39373129e-02,  2.40202229e-02,  2.40415811e-02,  2.40551477e-02,\n",
       "        2.41971298e-02,  2.42602822e-02,  2.43553568e-02,  2.43819097e-02,\n",
       "        2.44854695e-02,  2.45123295e-02,  2.46081284e-02,  2.46211671e-02,\n",
       "        2.48066938e-02,  2.48232555e-02,  2.48782860e-02,  2.49338907e-02,\n",
       "        2.49545204e-02,  2.51782677e-02,  2.52002291e-02,  2.54578540e-02,\n",
       "        2.56146391e-02,  2.56805406e-02,  2.57398893e-02,  2.57653477e-02,\n",
       "        2.58429473e-02,  2.60374653e-02,  2.60551816e-02,  2.60654638e-02,\n",
       "        2.61034534e-02,  2.61563889e-02,  2.61608181e-02,  2.61626965e-02,\n",
       "        2.62620945e-02,  2.63731763e-02,  2.63739350e-02,  2.63838537e-02,\n",
       "        2.64126114e-02,  2.64518685e-02,  2.65717697e-02,  2.65795934e-02,\n",
       "        2.66044479e-02,  2.66622199e-02,  2.67061384e-02,  2.67102099e-02,\n",
       "        2.67981635e-02,  2.68007510e-02,  2.68061362e-02,  2.68378704e-02,\n",
       "        2.68431901e-02,  2.70249072e-02,  2.70422606e-02,  2.71012446e-02,\n",
       "        2.71185836e-02,  2.71579414e-02,  2.71719045e-02,  2.72908172e-02,\n",
       "        2.73374644e-02,  2.73944597e-02,  2.73963062e-02,  2.74325363e-02,\n",
       "        2.74501366e-02,  2.74706049e-02,  2.74766052e-02,  2.74950415e-02,\n",
       "        2.76326724e-02,  2.76977043e-02,  2.78039077e-02,  2.78053177e-02,\n",
       "        2.80853182e-02,  2.82430020e-02,  2.82515014e-02,  2.82567848e-02,\n",
       "        2.82614177e-02,  2.83114737e-02,  2.84553062e-02,  2.84648615e-02,\n",
       "        2.85591250e-02,  2.86271780e-02,  2.87061521e-02,  2.88080265e-02,\n",
       "        2.88431364e-02,  2.90196763e-02,  2.90318339e-02,  2.90692566e-02,\n",
       "        2.90874074e-02,  2.90987461e-02,  2.91057256e-02,  2.91119772e-02,\n",
       "        2.91863438e-02,  2.92279962e-02,  2.92598426e-02,  2.93332894e-02,\n",
       "        2.94618145e-02,  2.95101002e-02,  2.95343478e-02,  2.96325053e-02,\n",
       "        2.96877468e-02,  2.97208570e-02,  2.98864295e-02,  2.99041380e-02,\n",
       "        2.99639861e-02,  2.99821744e-02,  3.00294252e-02,  3.00894371e-02,\n",
       "        3.02242586e-02,  3.02308158e-02,  3.03730226e-02,  3.04244869e-02,\n",
       "        3.04387616e-02,  3.04630921e-02,  3.05104875e-02,  3.05636814e-02,\n",
       "        3.06731674e-02,  3.07733144e-02,  3.08280149e-02,  3.09439955e-02,\n",
       "        3.09787718e-02,  3.10764501e-02,  3.12631140e-02,  3.13355560e-02,\n",
       "        3.14455751e-02,  3.15461409e-02,  3.17161971e-02,  3.17225875e-02,\n",
       "        3.17384191e-02,  3.17542324e-02,  3.17729425e-02,  3.18348218e-02,\n",
       "        3.18770388e-02,  3.19275998e-02,  3.20061945e-02,  3.20232668e-02,\n",
       "        3.20316701e-02,  3.20667132e-02,  3.20712466e-02,  3.21042436e-02,\n",
       "        3.21054833e-02,  3.23462930e-02,  3.24380799e-02,  3.24857155e-02,\n",
       "        3.25459076e-02,  3.25519459e-02,  3.26758620e-02,  3.27071507e-02,\n",
       "        3.28266786e-02,  3.28692755e-02,  3.29764876e-02,  3.30223471e-02,\n",
       "        3.32049451e-02,  3.32713662e-02,  3.33782460e-02,  3.34953810e-02,\n",
       "        3.37254877e-02,  3.38239098e-02,  3.38315159e-02,  3.38434800e-02,\n",
       "        3.39020703e-02,  3.39672565e-02,  3.40310443e-02,  3.41265522e-02,\n",
       "        3.42690151e-02,  3.43236737e-02,  3.43398117e-02,  3.43898752e-02,\n",
       "        3.44413205e-02,  3.46634362e-02,  3.47573755e-02,  3.48390818e-02,\n",
       "        3.48823142e-02,  3.49372908e-02,  3.49550534e-02,  3.49818273e-02,\n",
       "        3.50694808e-02,  3.50924794e-02,  3.50961202e-02,  3.51173200e-02,\n",
       "        3.53425337e-02,  3.53731710e-02,  3.56759816e-02,  3.57080010e-02,\n",
       "        3.59033659e-02,  3.59091447e-02,  3.59204637e-02,  3.61179887e-02,\n",
       "        3.61708866e-02,  3.62280911e-02,  3.62985950e-02,  3.63143176e-02,\n",
       "        3.65720058e-02,  3.65939374e-02,  3.67603319e-02,  3.69582098e-02,\n",
       "        3.69638873e-02,  3.69660916e-02,  3.71472701e-02,  3.71796113e-02,\n",
       "        3.72179866e-02,  3.72232740e-02,  3.72319406e-02,  3.72426970e-02,\n",
       "        3.72641554e-02,  3.74739760e-02,  3.74840285e-02,  3.75605713e-02,\n",
       "        3.75828868e-02,  3.76701818e-02,  3.77454350e-02,  3.79781029e-02,\n",
       "        3.79898972e-02,  3.80069012e-02,  3.80275620e-02,  3.81887186e-02,\n",
       "        3.82361963e-02,  3.83631776e-02,  3.84687303e-02,  3.87172528e-02,\n",
       "        3.87810025e-02,  3.90483904e-02,  3.92707172e-02,  3.92968667e-02,\n",
       "        3.93344530e-02,  3.94255855e-02,  3.95733774e-02,  3.96652405e-02,\n",
       "        4.01355658e-02,  4.01394345e-02,  4.01906036e-02,  4.01948336e-02,\n",
       "        4.03041273e-02,  4.03799341e-02,  4.05924243e-02,  4.06000495e-02,\n",
       "        4.09858547e-02,  4.11137984e-02,  4.12989803e-02,  4.15528997e-02,\n",
       "        4.20333754e-02,  4.24093650e-02,  4.24320962e-02,  4.27609232e-02,\n",
       "        4.28108389e-02,  4.30304038e-02,  4.31140295e-02,  4.31566668e-02,\n",
       "        4.31710388e-02,  4.32257217e-02,  4.33047796e-02,  4.33502971e-02,\n",
       "        4.36117895e-02,  4.36581840e-02,  4.37990092e-02,  4.39854756e-02,\n",
       "        4.40520092e-02,  4.41671833e-02,  4.42139352e-02,  4.43791321e-02,\n",
       "        4.44766043e-02,  4.45342563e-02,  4.47032655e-02,  4.47258854e-02,\n",
       "        4.47412951e-02,  4.48937581e-02,  4.51559019e-02,  4.54408026e-02,\n",
       "        4.55242471e-02,  4.59006071e-02,  4.59085749e-02,  4.62678915e-02,\n",
       "        4.64994127e-02,  4.65356458e-02,  4.66833591e-02,  4.67600159e-02,\n",
       "        4.69292230e-02,  4.70309680e-02,  4.71930502e-02,  4.76287094e-02,\n",
       "        4.77503310e-02,  4.79355258e-02,  4.84145475e-02,  4.84339755e-02,\n",
       "        4.85066701e-02,  4.86326644e-02,  4.87262090e-02,  4.88534473e-02,\n",
       "        4.90111088e-02,  4.90574903e-02,  4.90728006e-02,  4.93896963e-02,\n",
       "        5.02139898e-02,  5.03856440e-02,  5.04350370e-02,  5.06598523e-02,\n",
       "        5.08979416e-02,  5.10328076e-02,  5.12746069e-02,  5.14252282e-02,\n",
       "        5.15393411e-02,  5.19185273e-02,  5.23242018e-02,  5.23565503e-02,\n",
       "        5.25261287e-02,  5.31747694e-02,  5.32128245e-02,  5.36369356e-02,\n",
       "        5.37818109e-02,  5.44552583e-02,  5.48341645e-02,  5.52760711e-02,\n",
       "        5.52844575e-02,  5.53010716e-02,  5.53893482e-02,  5.57615585e-02,\n",
       "        5.60147960e-02,  5.62978337e-02,  5.63210823e-02,  5.64491171e-02,\n",
       "        5.69111995e-02,  5.72910929e-02,  5.78588761e-02,  5.79724071e-02,\n",
       "        5.92574929e-02,  5.93934376e-02,  5.94942144e-02,  5.99342496e-02,\n",
       "        6.17957189e-02,  6.25819453e-02,  6.27495525e-02,  6.69211222e-02,\n",
       "        6.71679828e-02,  6.71892484e-02,  6.72063211e-02,  6.75740455e-02,\n",
       "        6.77258821e-02,  6.83843418e-02,  7.06085600e-02,  7.47698047e-02,\n",
       "        7.52978091e-02,  7.54279676e-02,  7.96937761e-02])"
      ]
     },
     "execution_count": 56,
     "metadata": {},
     "output_type": "execute_result"
    },
    {
     "name": "stdout",
     "output_type": "stream",
     "text": [
      "time: 16 ms (started: 2023-12-05 09:48:41 +03:00)\n"
     ]
    },
    {
     "data": {
      "application/javascript": [
       "\n",
       "            setTimeout(function() {\n",
       "                var nbb_cell_id = 56;\n",
       "                var nbb_unformatted_code = \"predictions[np.argsort(predictions)]\";\n",
       "                var nbb_formatted_code = \"predictions[np.argsort(predictions)]\";\n",
       "                var nbb_cells = Jupyter.notebook.get_cells();\n",
       "                for (var i = 0; i < nbb_cells.length; ++i) {\n",
       "                    if (nbb_cells[i].input_prompt_number == nbb_cell_id) {\n",
       "                        if (nbb_cells[i].get_text() == nbb_unformatted_code) {\n",
       "                             nbb_cells[i].set_text(nbb_formatted_code);\n",
       "                        }\n",
       "                        break;\n",
       "                    }\n",
       "                }\n",
       "            }, 500);\n",
       "            "
      ],
      "text/plain": [
       "<IPython.core.display.Javascript object>"
      ]
     },
     "metadata": {},
     "output_type": "display_data"
    }
   ],
   "source": [
    "predictions[np.argsort(predictions)]"
   ]
  },
  {
   "cell_type": "code",
   "execution_count": null,
   "id": "ceb0f481",
   "metadata": {
    "hidden": true
   },
   "outputs": [],
   "source": []
  },
  {
   "cell_type": "code",
   "execution_count": 100,
   "id": "d8909eb6",
   "metadata": {
    "hidden": true
   },
   "outputs": [
    {
     "data": {
      "text/plain": [
       "[<matplotlib.lines.Line2D at 0x12214f0e5b0>]"
      ]
     },
     "execution_count": 100,
     "metadata": {},
     "output_type": "execute_result"
    },
    {
     "data": {
      "image/png": "[encoded data removed]",
      "text/plain": [
       "<Figure size 432x288 with 1 Axes>"
      ]
     },
     "metadata": {
      "needs_background": "light"
     },
     "output_type": "display_data"
    },
    {
     "name": "stdout",
     "output_type": "stream",
     "text": [
      "time: 250 ms (started: 2023-12-04 22:32:10 +03:00)\n"
     ]
    },
    {
     "data": {
      "application/javascript": [
       "\n",
       "            setTimeout(function() {\n",
       "                var nbb_cell_id = 100;\n",
       "                var nbb_unformatted_code = \"plt.plot(predictions)\";\n",
       "                var nbb_formatted_code = \"plt.plot(predictions)\";\n",
       "                var nbb_cells = Jupyter.notebook.get_cells();\n",
       "                for (var i = 0; i < nbb_cells.length; ++i) {\n",
       "                    if (nbb_cells[i].input_prompt_number == nbb_cell_id) {\n",
       "                        if (nbb_cells[i].get_text() == nbb_unformatted_code) {\n",
       "                             nbb_cells[i].set_text(nbb_formatted_code);\n",
       "                        }\n",
       "                        break;\n",
       "                    }\n",
       "                }\n",
       "            }, 500);\n",
       "            "
      ],
      "text/plain": [
       "<IPython.core.display.Javascript object>"
      ]
     },
     "metadata": {},
     "output_type": "display_data"
    }
   ],
   "source": [
    "plt.plot(predictions)"
   ]
  },
  {
   "cell_type": "code",
   "execution_count": null,
   "id": "d50ac6cd",
   "metadata": {
    "hidden": true
   },
   "outputs": [],
   "source": []
  },
  {
   "cell_type": "code",
   "execution_count": 36,
   "id": "732bdf6a",
   "metadata": {
    "hidden": true
   },
   "outputs": [
    {
     "name": "stdout",
     "output_type": "stream",
     "text": [
      "time: 141 ms (started: 2023-12-05 09:40:53 +03:00)\n"
     ]
    },
    {
     "data": {
      "application/javascript": [
       "\n",
       "            setTimeout(function() {\n",
       "                var nbb_cell_id = 36;\n",
       "                var nbb_unformatted_code = \"from sklearn.datasets import make_classification\\nimport numpy as np\\n\\nimport xgboost as xgb\\n\\n# Make a synthetic ranking dataset for demonstration\\nseed = 1994\\nX, y = make_classification(random_state=seed)\\nrng = np.random.default_rng(seed)\\nn_query_groups = 3\\nqid = rng.integers(0, 3, size=X.shape[0])\\n\\n# Sort the inputs based on query index\\nsorted_idx = np.argsort(qid)\\nX = X[sorted_idx, :]\\ny = y[sorted_idx]\\nqid = qid[sorted_idx]\";\n",
       "                var nbb_formatted_code = \"from sklearn.datasets import make_classification\\nimport numpy as np\\n\\nimport xgboost as xgb\\n\\n# Make a synthetic ranking dataset for demonstration\\nseed = 1994\\nX, y = make_classification(random_state=seed)\\nrng = np.random.default_rng(seed)\\nn_query_groups = 3\\nqid = rng.integers(0, 3, size=X.shape[0])\\n\\n# Sort the inputs based on query index\\nsorted_idx = np.argsort(qid)\\nX = X[sorted_idx, :]\\ny = y[sorted_idx]\\nqid = qid[sorted_idx]\";\n",
       "                var nbb_cells = Jupyter.notebook.get_cells();\n",
       "                for (var i = 0; i < nbb_cells.length; ++i) {\n",
       "                    if (nbb_cells[i].input_prompt_number == nbb_cell_id) {\n",
       "                        if (nbb_cells[i].get_text() == nbb_unformatted_code) {\n",
       "                             nbb_cells[i].set_text(nbb_formatted_code);\n",
       "                        }\n",
       "                        break;\n",
       "                    }\n",
       "                }\n",
       "            }, 500);\n",
       "            "
      ],
      "text/plain": [
       "<IPython.core.display.Javascript object>"
      ]
     },
     "metadata": {},
     "output_type": "display_data"
    }
   ],
   "source": [
    "from sklearn.datasets import make_classification\n",
    "import numpy as np\n",
    "\n",
    "import xgboost as xgb\n",
    "\n",
    "# Make a synthetic ranking dataset for demonstration\n",
    "seed = 1994\n",
    "X, y = make_classification(random_state=seed)\n",
    "rng = np.random.default_rng(seed)\n",
    "n_query_groups = 3\n",
    "qid = rng.integers(0, 3, size=X.shape[0])\n",
    "\n",
    "# Sort the inputs based on query index\n",
    "sorted_idx = np.argsort(qid)\n",
    "X = X[sorted_idx, :]\n",
    "y = y[sorted_idx]\n",
    "qid = qid[sorted_idx]"
   ]
  },
  {
   "cell_type": "code",
   "execution_count": 67,
   "id": "5a922c75",
   "metadata": {
    "hidden": true
   },
   "outputs": [
    {
     "data": {
      "text/plain": [
       "(100, 20)"
      ]
     },
     "execution_count": 67,
     "metadata": {},
     "output_type": "execute_result"
    },
    {
     "name": "stdout",
     "output_type": "stream",
     "text": [
      "time: 0 ns (started: 2023-12-05 09:51:56 +03:00)\n"
     ]
    },
    {
     "data": {
      "application/javascript": [
       "\n",
       "            setTimeout(function() {\n",
       "                var nbb_cell_id = 67;\n",
       "                var nbb_unformatted_code = \"X.shape\";\n",
       "                var nbb_formatted_code = \"X.shape\";\n",
       "                var nbb_cells = Jupyter.notebook.get_cells();\n",
       "                for (var i = 0; i < nbb_cells.length; ++i) {\n",
       "                    if (nbb_cells[i].input_prompt_number == nbb_cell_id) {\n",
       "                        if (nbb_cells[i].get_text() == nbb_unformatted_code) {\n",
       "                             nbb_cells[i].set_text(nbb_formatted_code);\n",
       "                        }\n",
       "                        break;\n",
       "                    }\n",
       "                }\n",
       "            }, 500);\n",
       "            "
      ],
      "text/plain": [
       "<IPython.core.display.Javascript object>"
      ]
     },
     "metadata": {},
     "output_type": "display_data"
    }
   ],
   "source": [
    "X.shape"
   ]
  },
  {
   "cell_type": "code",
   "execution_count": 68,
   "id": "d84c8891",
   "metadata": {
    "hidden": true
   },
   "outputs": [
    {
     "data": {
      "text/plain": [
       "array([1, 0, 1, 1, 0, 1, 0, 1, 1, 0, 0, 1, 0, 1, 0, 0, 0, 0, 1, 1, 1, 0,\n",
       "       1, 0, 1, 0, 0, 0, 1, 1, 0, 0, 0, 0, 0, 1, 0, 0, 0, 0, 0, 0, 1, 0,\n",
       "       1, 0, 0, 1, 1, 0, 1, 1, 0, 1, 1, 0, 0, 0, 0, 1, 1, 1, 1, 1, 1, 1,\n",
       "       1, 0, 1, 1, 0, 0, 1, 0, 0, 1, 0, 1, 1, 1, 1, 0, 0, 1, 1, 1, 0, 1,\n",
       "       0, 1, 1, 0, 1, 0, 1, 1, 0, 0, 1, 0])"
      ]
     },
     "execution_count": 68,
     "metadata": {},
     "output_type": "execute_result"
    },
    {
     "name": "stdout",
     "output_type": "stream",
     "text": [
      "time: 16 ms (started: 2023-12-05 09:52:03 +03:00)\n"
     ]
    },
    {
     "data": {
      "application/javascript": [
       "\n",
       "            setTimeout(function() {\n",
       "                var nbb_cell_id = 68;\n",
       "                var nbb_unformatted_code = \"y\";\n",
       "                var nbb_formatted_code = \"y\";\n",
       "                var nbb_cells = Jupyter.notebook.get_cells();\n",
       "                for (var i = 0; i < nbb_cells.length; ++i) {\n",
       "                    if (nbb_cells[i].input_prompt_number == nbb_cell_id) {\n",
       "                        if (nbb_cells[i].get_text() == nbb_unformatted_code) {\n",
       "                             nbb_cells[i].set_text(nbb_formatted_code);\n",
       "                        }\n",
       "                        break;\n",
       "                    }\n",
       "                }\n",
       "            }, 500);\n",
       "            "
      ],
      "text/plain": [
       "<IPython.core.display.Javascript object>"
      ]
     },
     "metadata": {},
     "output_type": "display_data"
    }
   ],
   "source": [
    "y"
   ]
  },
  {
   "cell_type": "code",
   "execution_count": 43,
   "id": "bb919bec",
   "metadata": {
    "hidden": true
   },
   "outputs": [
    {
     "data": {
      "text/html": [
       "<style>#sk-container-id-4 {color: black;}#sk-container-id-4 pre{padding: 0;}#sk-container-id-4 div.sk-toggleable {background-color: white;}#sk-container-id-4 label.sk-toggleable__label {cursor: pointer;display: block;width: 100%;margin-bottom: 0;padding: 0.3em;box-sizing: border-box;text-align: center;}#sk-container-id-4 label.sk-toggleable__label-arrow:before {content: \"▸\";float: left;margin-right: 0.25em;color: #696969;}#sk-container-id-4 label.sk-toggleable__label-arrow:hover:before {color: black;}#sk-container-id-4 div.sk-estimator:hover label.sk-toggleable__label-arrow:before {color: black;}#sk-container-id-4 div.sk-toggleable__content {max-height: 0;max-width: 0;overflow: hidden;text-align: left;background-color: #f0f8ff;}#sk-container-id-4 div.sk-toggleable__content pre {margin: 0.2em;color: black;border-radius: 0.25em;background-color: #f0f8ff;}#sk-container-id-4 input.sk-toggleable__control:checked~div.sk-toggleable__content {max-height: 200px;max-width: 100%;overflow: auto;}#sk-container-id-4 input.sk-toggleable__control:checked~label.sk-toggleable__label-arrow:before {content: \"▾\";}#sk-container-id-4 div.sk-estimator input.sk-toggleable__control:checked~label.sk-toggleable__label {background-color: #d4ebff;}#sk-container-id-4 div.sk-label input.sk-toggleable__control:checked~label.sk-toggleable__label {background-color: #d4ebff;}#sk-container-id-4 input.sk-hidden--visually {border: 0;clip: rect(1px 1px 1px 1px);clip: rect(1px, 1px, 1px, 1px);height: 1px;margin: -1px;overflow: hidden;padding: 0;position: absolute;width: 1px;}#sk-container-id-4 div.sk-estimator {font-family: monospace;background-color: #f0f8ff;border: 1px dotted black;border-radius: 0.25em;box-sizing: border-box;margin-bottom: 0.5em;}#sk-container-id-4 div.sk-estimator:hover {background-color: #d4ebff;}#sk-container-id-4 div.sk-parallel-item::after {content: \"\";width: 100%;border-bottom: 1px solid gray;flex-grow: 1;}#sk-container-id-4 div.sk-label:hover label.sk-toggleable__label {background-color: #d4ebff;}#sk-container-id-4 div.sk-serial::before {content: \"\";position: absolute;border-left: 1px solid gray;box-sizing: border-box;top: 0;bottom: 0;left: 50%;z-index: 0;}#sk-container-id-4 div.sk-serial {display: flex;flex-direction: column;align-items: center;background-color: white;padding-right: 0.2em;padding-left: 0.2em;position: relative;}#sk-container-id-4 div.sk-item {position: relative;z-index: 1;}#sk-container-id-4 div.sk-parallel {display: flex;align-items: stretch;justify-content: center;background-color: white;position: relative;}#sk-container-id-4 div.sk-item::before, #sk-container-id-4 div.sk-parallel-item::before {content: \"\";position: absolute;border-left: 1px solid gray;box-sizing: border-box;top: 0;bottom: 0;left: 50%;z-index: -1;}#sk-container-id-4 div.sk-parallel-item {display: flex;flex-direction: column;z-index: 1;position: relative;background-color: white;}#sk-container-id-4 div.sk-parallel-item:first-child::after {align-self: flex-end;width: 50%;}#sk-container-id-4 div.sk-parallel-item:last-child::after {align-self: flex-start;width: 50%;}#sk-container-id-4 div.sk-parallel-item:only-child::after {width: 0;}#sk-container-id-4 div.sk-dashed-wrapped {border: 1px dashed gray;margin: 0 0.4em 0.5em 0.4em;box-sizing: border-box;padding-bottom: 0.4em;background-color: white;}#sk-container-id-4 div.sk-label label {font-family: monospace;font-weight: bold;display: inline-block;line-height: 1.2em;}#sk-container-id-4 div.sk-label-container {text-align: center;}#sk-container-id-4 div.sk-container {/* jupyter's `normalize.less` sets `[hidden] { display: none; }` but bootstrap.min.css set `[hidden] { display: none !important; }` so we also need the `!important` here to be able to override the default hidden behavior on the sphinx rendered scikit-learn.org. See: https://github.com/scikit-learn/scikit-learn/issues/21755 */display: inline-block !important;position: relative;}#sk-container-id-4 div.sk-text-repr-fallback {display: none;}</style><div id=\"sk-container-id-4\" class=\"sk-top-container\"><div class=\"sk-text-repr-fallback\"><pre>XGBRanker(base_score=None, booster=None, callbacks=None, colsample_bylevel=None,\n",
       "          colsample_bynode=None, colsample_bytree=None, device=None,\n",
       "          early_stopping_rounds=None, enable_categorical=False,\n",
       "          eval_metric=None, feature_types=None, gamma=None, grow_policy=None,\n",
       "          importance_type=None, interaction_constraints=None,\n",
       "          lambdarank_num_pair_per_sample=8, lambdarank_pair_method=&#x27;topk&#x27;,\n",
       "          learning_rate=None, max_bin=None, max_cat_threshold=None,\n",
       "          max_cat_to_onehot=None, max_delta_step=None, max_depth=None,\n",
       "          max_leaves=None, min_child_weight=None, missing=nan,\n",
       "          monotone_constraints=None, multi_strategy=None, n_estimators=None,\n",
       "          n_jobs=None, ...)</pre><b>In a Jupyter environment, please rerun this cell to show the HTML representation or trust the notebook. <br />On GitHub, the HTML representation is unable to render, please try loading this page with nbviewer.org.</b></div><div class=\"sk-container\" hidden><div class=\"sk-item\"><div class=\"sk-estimator sk-toggleable\"><input class=\"sk-toggleable__control sk-hidden--visually\" id=\"sk-estimator-id-4\" type=\"checkbox\" checked><label for=\"sk-estimator-id-4\" class=\"sk-toggleable__label sk-toggleable__label-arrow\">XGBRanker</label><div class=\"sk-toggleable__content\"><pre>XGBRanker(base_score=None, booster=None, callbacks=None, colsample_bylevel=None,\n",
       "          colsample_bynode=None, colsample_bytree=None, device=None,\n",
       "          early_stopping_rounds=None, enable_categorical=False,\n",
       "          eval_metric=None, feature_types=None, gamma=None, grow_policy=None,\n",
       "          importance_type=None, interaction_constraints=None,\n",
       "          lambdarank_num_pair_per_sample=8, lambdarank_pair_method=&#x27;topk&#x27;,\n",
       "          learning_rate=None, max_bin=None, max_cat_threshold=None,\n",
       "          max_cat_to_onehot=None, max_delta_step=None, max_depth=None,\n",
       "          max_leaves=None, min_child_weight=None, missing=nan,\n",
       "          monotone_constraints=None, multi_strategy=None, n_estimators=None,\n",
       "          n_jobs=None, ...)</pre></div></div></div></div></div>"
      ],
      "text/plain": [
       "XGBRanker(base_score=None, booster=None, callbacks=None, colsample_bylevel=None,\n",
       "          colsample_bynode=None, colsample_bytree=None, device=None,\n",
       "          early_stopping_rounds=None, enable_categorical=False,\n",
       "          eval_metric=None, feature_types=None, gamma=None, grow_policy=None,\n",
       "          importance_type=None, interaction_constraints=None,\n",
       "          lambdarank_num_pair_per_sample=8, lambdarank_pair_method='topk',\n",
       "          learning_rate=None, max_bin=None, max_cat_threshold=None,\n",
       "          max_cat_to_onehot=None, max_delta_step=None, max_depth=None,\n",
       "          max_leaves=None, min_child_weight=None, missing=nan,\n",
       "          monotone_constraints=None, multi_strategy=None, n_estimators=None,\n",
       "          n_jobs=None, ...)"
      ]
     },
     "execution_count": 43,
     "metadata": {},
     "output_type": "execute_result"
    },
    {
     "name": "stdout",
     "output_type": "stream",
     "text": [
      "time: 62 ms (started: 2023-12-05 09:44:25 +03:00)\n"
     ]
    },
    {
     "data": {
      "application/javascript": [
       "\n",
       "            setTimeout(function() {\n",
       "                var nbb_cell_id = 43;\n",
       "                var nbb_unformatted_code = \"ranker = xgb.XGBRanker(tree_method=\\\"hist\\\", lambdarank_num_pair_per_sample=8, objective=\\\"rank:ndcg\\\", lambdarank_pair_method=\\\"topk\\\")\\nranker.fit(X, y, qid=qid)\";\n",
       "                var nbb_formatted_code = \"ranker = xgb.XGBRanker(tree_method=\\\"hist\\\", lambdarank_num_pair_per_sample=8, objective=\\\"rank:ndcg\\\", lambdarank_pair_method=\\\"topk\\\")\\nranker.fit(X, y, qid=qid)\";\n",
       "                var nbb_cells = Jupyter.notebook.get_cells();\n",
       "                for (var i = 0; i < nbb_cells.length; ++i) {\n",
       "                    if (nbb_cells[i].input_prompt_number == nbb_cell_id) {\n",
       "                        if (nbb_cells[i].get_text() == nbb_unformatted_code) {\n",
       "                             nbb_cells[i].set_text(nbb_formatted_code);\n",
       "                        }\n",
       "                        break;\n",
       "                    }\n",
       "                }\n",
       "            }, 500);\n",
       "            "
      ],
      "text/plain": [
       "<IPython.core.display.Javascript object>"
      ]
     },
     "metadata": {},
     "output_type": "display_data"
    }
   ],
   "source": [
    "ranker = xgb.XGBRanker(tree_method=\"hist\", lambdarank_num_pair_per_sample=8, objective=\"rank:ndcg\", lambdarank_pair_method=\"topk\",)\n",
    "ranker.fit(X, y, qid=qid)"
   ]
  },
  {
   "cell_type": "code",
   "execution_count": 79,
   "id": "84c51688",
   "metadata": {
    "hidden": true
   },
   "outputs": [
    {
     "data": {
      "application/vnd.jupyter.widget-view+json": {
       "model_id": "8d4d5d5681c84a8db72d5214530060ac",
       "version_major": 2,
       "version_minor": 0
      },
      "text/plain": [
       "MetricVisualizer(layout=Layout(align_self='stretch', height='500px'))"
      ]
     },
     "metadata": {},
     "output_type": "display_data"
    },
    {
     "name": "stderr",
     "output_type": "stream",
     "text": [
      "You should provide test set for use best model. use_best_model parameter has been switched to false value.\n",
      "Default metric period is 5 because PFound, PrecisionAt is/are not implemented for GPU\n",
      "Metric PFound is not implemented on GPU. Will use CPU for metric computation, this could significantly affect learning time\n",
      "Metric PrecisionAt:top=20 is not implemented on GPU. Will use CPU for metric computation, this could significantly affect learning time\n",
      "Metric PrecisionAt:top=10 is not implemented on GPU. Will use CPU for metric computation, this could significantly affect learning time\n",
      "Metric PrecisionAt:top=20 is not implemented on GPU. Will use CPU for metric computation, this could significantly affect learning time\n",
      "Metric PrecisionAt:top=50 is not implemented on GPU. Will use CPU for metric computation, this could significantly affect learning time\n"
     ]
    },
    {
     "name": "stdout",
     "output_type": "stream",
     "text": [
      "time: 3.8 s (started: 2023-12-05 09:57:31 +03:00)\n"
     ]
    },
    {
     "data": {
      "application/javascript": [
       "\n",
       "            setTimeout(function() {\n",
       "                var nbb_cell_id = 79;\n",
       "                var nbb_unformatted_code = \"ranker = fit_model(\\\"YetiRankPairwise\\\", train_pool=Pool(data=X, label=y, group_id=qid), eval_pool=None)  # PairLogitPairwise\";\n",
       "                var nbb_formatted_code = \"ranker = fit_model(\\\"YetiRankPairwise\\\", train_pool=Pool(data=X, label=y, group_id=qid), eval_pool=None)  # PairLogitPairwise\";\n",
       "                var nbb_cells = Jupyter.notebook.get_cells();\n",
       "                for (var i = 0; i < nbb_cells.length; ++i) {\n",
       "                    if (nbb_cells[i].input_prompt_number == nbb_cell_id) {\n",
       "                        if (nbb_cells[i].get_text() == nbb_unformatted_code) {\n",
       "                             nbb_cells[i].set_text(nbb_formatted_code);\n",
       "                        }\n",
       "                        break;\n",
       "                    }\n",
       "                }\n",
       "            }, 500);\n",
       "            "
      ],
      "text/plain": [
       "<IPython.core.display.Javascript object>"
      ]
     },
     "metadata": {},
     "output_type": "display_data"
    }
   ],
   "source": [
    "ranker = fit_model(\"YetiRankPairwise\", train_pool=Pool(data=X, label=y, group_id=qid), eval_pool=None)  # PairLogitPairwise"
   ]
  },
  {
   "cell_type": "code",
   "execution_count": null,
   "id": "1d1e2932",
   "metadata": {
    "hidden": true
   },
   "outputs": [],
   "source": []
  },
  {
   "cell_type": "code",
   "execution_count": 74,
   "id": "fa6ea99a",
   "metadata": {
    "hidden": true
   },
   "outputs": [
    {
     "data": {
      "text/plain": [
       "array([1., 1., 1., 0., 0.])"
      ]
     },
     "execution_count": 74,
     "metadata": {},
     "output_type": "execute_result"
    },
    {
     "name": "stdout",
     "output_type": "stream",
     "text": [
      "time: 578 ms (started: 2023-12-05 09:53:35 +03:00)\n"
     ]
    },
    {
     "data": {
      "application/javascript": [
       "\n",
       "            setTimeout(function() {\n",
       "                var nbb_cell_id = 74;\n",
       "                var nbb_unformatted_code = \"df = pd.DataFrame(X, columns=[str(i) for i in range(X.shape[1])])\\ndf[\\\"qid\\\"] = qid\\nranker.fit(df, y)  # No need to pass qid as a separate argument\\n\\nfrom sklearn.model_selection import StratifiedGroupKFold, cross_val_score\\n\\n# Works with cv in scikit-learn, along with HPO utilities like GridSearchCV\\nkfold = StratifiedGroupKFold(shuffle=True)\\ncross_val_score(ranker, df, y, cv=kfold, groups=df.qid)\";\n",
       "                var nbb_formatted_code = \"df = pd.DataFrame(X, columns=[str(i) for i in range(X.shape[1])])\\ndf[\\\"qid\\\"] = qid\\nranker.fit(df, y)  # No need to pass qid as a separate argument\\n\\nfrom sklearn.model_selection import StratifiedGroupKFold, cross_val_score\\n\\n# Works with cv in scikit-learn, along with HPO utilities like GridSearchCV\\nkfold = StratifiedGroupKFold(shuffle=True)\\ncross_val_score(ranker, df, y, cv=kfold, groups=df.qid)\";\n",
       "                var nbb_cells = Jupyter.notebook.get_cells();\n",
       "                for (var i = 0; i < nbb_cells.length; ++i) {\n",
       "                    if (nbb_cells[i].input_prompt_number == nbb_cell_id) {\n",
       "                        if (nbb_cells[i].get_text() == nbb_unformatted_code) {\n",
       "                             nbb_cells[i].set_text(nbb_formatted_code);\n",
       "                        }\n",
       "                        break;\n",
       "                    }\n",
       "                }\n",
       "            }, 500);\n",
       "            "
      ],
      "text/plain": [
       "<IPython.core.display.Javascript object>"
      ]
     },
     "metadata": {},
     "output_type": "display_data"
    }
   ],
   "source": [
    "df = pd.DataFrame(X, columns=[str(i) for i in range(X.shape[1])])\n",
    "df[\"qid\"] = qid\n",
    "ranker.fit(df, y)  # No need to pass qid as a separate argument\n",
    "\n",
    "from sklearn.model_selection import StratifiedGroupKFold, cross_val_score\n",
    "\n",
    "# Works with cv in scikit-learn, along with HPO utilities like GridSearchCV\n",
    "kfold = StratifiedGroupKFold(shuffle=True)\n",
    "cross_val_score(ranker, df, y, cv=kfold, groups=df.qid)"
   ]
  },
  {
   "cell_type": "code",
   "execution_count": 80,
   "id": "34418b8c",
   "metadata": {
    "hidden": true
   },
   "outputs": [
    {
     "data": {
      "text/plain": [
       "array([ 0.39770333, -1.18150913,  0.31975908,  0.35083227, -1.18854539,\n",
       "        0.3422499 , -1.14887378,  0.32695029,  0.37119753, -1.14745688,\n",
       "       -1.18077663,  0.40968096, -1.17124135,  0.2675467 , -0.76810688,\n",
       "       -1.04638308, -0.24521384, -1.1246191 , -1.03444917,  0.51083159,\n",
       "        0.12940358, -0.10808301,  0.48982555, -1.17078631,  0.34812118,\n",
       "       -1.18076752, -1.18318964, -1.05128065,  0.4156473 ,  0.50569873,\n",
       "       -1.16996669, -1.16992401, -1.18459891, -1.16808432, -1.05900386,\n",
       "        0.51244997, -0.51855866, -1.05896263, -1.17597517, -0.79770509,\n",
       "       -1.18132853, -0.75617094,  0.4015236 , -1.1682777 , -0.89450351,\n",
       "       -0.24338448, -1.09841938,  0.38914852,  0.51234986, -0.85563158,\n",
       "       -0.40366628,  0.42269612, -0.55308911,  0.43941267,  0.23603164,\n",
       "       -1.01845262, -0.86863397, -1.17039412, -1.15051241,  0.21382532,\n",
       "       -0.16835144, -0.18981922,  0.47886491,  0.51441076,  0.39831372,\n",
       "        0.27148033,  0.50314334, -1.18039723,  0.40806532,  0.42064669,\n",
       "       -1.14759819, -1.05824316,  0.45682194, -1.16802554, -1.17130695,\n",
       "        0.39750567, -1.05045742,  0.32101752,  0.14423797,  0.50252672,\n",
       "        0.25692706, -1.04329885, -1.17894263,  0.39936147,  0.26224095,\n",
       "        0.26631027, -0.96221444,  0.40145912, -1.18294249,  0.13661915,\n",
       "        0.38259766, -0.95084186, -1.04619302, -1.02928181,  0.32116672,\n",
       "        0.1741909 ,  0.49753046, -0.79097073, -1.073355  , -1.11502081])"
      ]
     },
     "execution_count": 80,
     "metadata": {},
     "output_type": "execute_result"
    },
    {
     "name": "stdout",
     "output_type": "stream",
     "text": [
      "time: 0 ns (started: 2023-12-05 09:57:44 +03:00)\n"
     ]
    },
    {
     "data": {
      "application/javascript": [
       "\n",
       "            setTimeout(function() {\n",
       "                var nbb_cell_id = 80;\n",
       "                var nbb_unformatted_code = \"scores = ranker.predict(X)\\n\\nscores\";\n",
       "                var nbb_formatted_code = \"scores = ranker.predict(X)\\n\\nscores\";\n",
       "                var nbb_cells = Jupyter.notebook.get_cells();\n",
       "                for (var i = 0; i < nbb_cells.length; ++i) {\n",
       "                    if (nbb_cells[i].input_prompt_number == nbb_cell_id) {\n",
       "                        if (nbb_cells[i].get_text() == nbb_unformatted_code) {\n",
       "                             nbb_cells[i].set_text(nbb_formatted_code);\n",
       "                        }\n",
       "                        break;\n",
       "                    }\n",
       "                }\n",
       "            }, 500);\n",
       "            "
      ],
      "text/plain": [
       "<IPython.core.display.Javascript object>"
      ]
     },
     "metadata": {},
     "output_type": "display_data"
    }
   ],
   "source": [
    "scores = ranker.predict(X)\n",
    "\n",
    "scores"
   ]
  },
  {
   "cell_type": "code",
   "execution_count": null,
   "id": "53ffbada",
   "metadata": {
    "hidden": true
   },
   "outputs": [],
   "source": []
  },
  {
   "cell_type": "markdown",
   "id": "8b2030b1",
   "metadata": {},
   "source": [
    "# Making it operational"
   ]
  },
  {
   "cell_type": "code",
   "execution_count": 8,
   "id": "8b244f15",
   "metadata": {},
   "outputs": [
    {
     "name": "stderr",
     "output_type": "stream",
     "text": [
      "100%|███████████████████████████████████████████████████████████████████████████████| 805/805 [00:02<00:00, 317.71it/s]\n"
     ]
    },
    {
     "data": {
      "text/plain": [
       "0"
      ]
     },
     "execution_count": 8,
     "metadata": {},
     "output_type": "execute_result"
    },
    {
     "name": "stdout",
     "output_type": "stream",
     "text": [
      "time: 2.53 s (started: 2023-12-12 19:27:38 +03:00)\n"
     ]
    },
    {
     "data": {
      "application/javascript": [
       "\n",
       "            setTimeout(function() {\n",
       "                var nbb_cell_id = 8;\n",
       "                var nbb_unformatted_code = \"update_okx_hist_data()\";\n",
       "                var nbb_formatted_code = \"update_okx_hist_data()\";\n",
       "                var nbb_cells = Jupyter.notebook.get_cells();\n",
       "                for (var i = 0; i < nbb_cells.length; ++i) {\n",
       "                    if (nbb_cells[i].input_prompt_number == nbb_cell_id) {\n",
       "                        if (nbb_cells[i].get_text() == nbb_unformatted_code) {\n",
       "                             nbb_cells[i].set_text(nbb_formatted_code);\n",
       "                        }\n",
       "                        break;\n",
       "                    }\n",
       "                }\n",
       "            }, 500);\n",
       "            "
      ],
      "text/plain": [
       "<IPython.core.display.Javascript object>"
      ]
     },
     "metadata": {},
     "output_type": "display_data"
    }
   ],
   "source": [
    "update_okx_hist_data()"
   ]
  },
  {
   "cell_type": "code",
   "execution_count": 9,
   "id": "9b661c25",
   "metadata": {},
   "outputs": [
    {
     "name": "stderr",
     "output_type": "stream",
     "text": [
      "100%|██████████████████████████████████████████████████████████████████████████████| 805/805 [00:00<00:00, 4680.23it/s]\n"
     ]
    },
    {
     "name": "stdout",
     "output_type": "stream",
     "text": [
      "1\n"
     ]
    },
    {
     "data": {
      "text/plain": [
       "1"
      ]
     },
     "execution_count": 9,
     "metadata": {},
     "output_type": "execute_result"
    },
    {
     "name": "stdout",
     "output_type": "stream",
     "text": [
      "time: 2min 33s (started: 2023-12-12 19:27:44 +03:00)\n"
     ]
    },
    {
     "data": {
      "application/javascript": [
       "\n",
       "            setTimeout(function() {\n",
       "                var nbb_cell_id = 9;\n",
       "                var nbb_unformatted_code = \"create_bulk_features(asset_class=\\\"spot\\\")\";\n",
       "                var nbb_formatted_code = \"create_bulk_features(asset_class=\\\"spot\\\")\";\n",
       "                var nbb_cells = Jupyter.notebook.get_cells();\n",
       "                for (var i = 0; i < nbb_cells.length; ++i) {\n",
       "                    if (nbb_cells[i].input_prompt_number == nbb_cell_id) {\n",
       "                        if (nbb_cells[i].get_text() == nbb_unformatted_code) {\n",
       "                             nbb_cells[i].set_text(nbb_formatted_code);\n",
       "                        }\n",
       "                        break;\n",
       "                    }\n",
       "                }\n",
       "            }, 500);\n",
       "            "
      ],
      "text/plain": [
       "<IPython.core.display.Javascript object>"
      ]
     },
     "metadata": {},
     "output_type": "display_data"
    }
   ],
   "source": [
    "create_bulk_features(asset_class=\"spot\")"
   ]
  },
  {
   "cell_type": "code",
   "execution_count": 45,
   "id": "cd9d640f",
   "metadata": {
    "scrolled": true
   },
   "outputs": [
    {
     "name": "stdout",
     "output_type": "stream",
     "text": [
      "time: 0 ns (started: 2023-12-12 07:55:31 +03:00)\n"
     ]
    },
    {
     "data": {
      "application/javascript": [
       "\n",
       "            setTimeout(function() {\n",
       "                var nbb_cell_id = 45;\n",
       "                var nbb_unformatted_code = \"# df = read_okx_daily_trades(\\\"allspot-aggtrades-2022-07-23.zip\\\", clean=True)\";\n",
       "                var nbb_formatted_code = \"# df = read_okx_daily_trades(\\\"allspot-aggtrades-2022-07-23.zip\\\", clean=True)\";\n",
       "                var nbb_cells = Jupyter.notebook.get_cells();\n",
       "                for (var i = 0; i < nbb_cells.length; ++i) {\n",
       "                    if (nbb_cells[i].input_prompt_number == nbb_cell_id) {\n",
       "                        if (nbb_cells[i].get_text() == nbb_unformatted_code) {\n",
       "                             nbb_cells[i].set_text(nbb_formatted_code);\n",
       "                        }\n",
       "                        break;\n",
       "                    }\n",
       "                }\n",
       "            }, 500);\n",
       "            "
      ],
      "text/plain": [
       "<IPython.core.display.Javascript object>"
      ]
     },
     "metadata": {},
     "output_type": "display_data"
    }
   ],
   "source": [
    "# df = read_okx_daily_trades(\"allspot-aggtrades-2022-07-23.zip\", clean=True)"
   ]
  },
  {
   "cell_type": "code",
   "execution_count": 55,
   "id": "7162d4a2",
   "metadata": {},
   "outputs": [
    {
     "name": "stderr",
     "output_type": "stream",
     "text": [
      "100%|██████████████████████████████████████████████████████████████████████████████| 805/805 [00:00<00:00, 9700.47it/s]"
     ]
    },
    {
     "name": "stdout",
     "output_type": "stream",
     "text": [
      "time: 94 ms (started: 2023-12-12 07:59:35 +03:00)\n"
     ]
    },
    {
     "name": "stderr",
     "output_type": "stream",
     "text": [
      "\n"
     ]
    },
    {
     "data": {
      "application/javascript": [
       "\n",
       "            setTimeout(function() {\n",
       "                var nbb_cell_id = 55;\n",
       "                var nbb_unformatted_code = \"features, last_fname = read_last_known_features_file()\";\n",
       "                var nbb_formatted_code = \"features, last_fname = read_last_known_features_file()\";\n",
       "                var nbb_cells = Jupyter.notebook.get_cells();\n",
       "                for (var i = 0; i < nbb_cells.length; ++i) {\n",
       "                    if (nbb_cells[i].input_prompt_number == nbb_cell_id) {\n",
       "                        if (nbb_cells[i].get_text() == nbb_unformatted_code) {\n",
       "                             nbb_cells[i].set_text(nbb_formatted_code);\n",
       "                        }\n",
       "                        break;\n",
       "                    }\n",
       "                }\n",
       "            }, 500);\n",
       "            "
      ],
      "text/plain": [
       "<IPython.core.display.Javascript object>"
      ]
     },
     "metadata": {},
     "output_type": "display_data"
    }
   ],
   "source": [
    "features, last_fname = read_last_known_features_file()"
   ]
  },
  {
   "cell_type": "code",
   "execution_count": 56,
   "id": "5c11b629",
   "metadata": {},
   "outputs": [
    {
     "data": {
      "text/plain": [
       "'allspot-aggtrades-2023-12-11.zip'"
      ]
     },
     "execution_count": 56,
     "metadata": {},
     "output_type": "execute_result"
    },
    {
     "name": "stdout",
     "output_type": "stream",
     "text": [
      "time: 0 ns (started: 2023-12-12 07:59:36 +03:00)\n"
     ]
    },
    {
     "data": {
      "application/javascript": [
       "\n",
       "            setTimeout(function() {\n",
       "                var nbb_cell_id = 56;\n",
       "                var nbb_unformatted_code = \"last_fname\";\n",
       "                var nbb_formatted_code = \"last_fname\";\n",
       "                var nbb_cells = Jupyter.notebook.get_cells();\n",
       "                for (var i = 0; i < nbb_cells.length; ++i) {\n",
       "                    if (nbb_cells[i].input_prompt_number == nbb_cell_id) {\n",
       "                        if (nbb_cells[i].get_text() == nbb_unformatted_code) {\n",
       "                             nbb_cells[i].set_text(nbb_formatted_code);\n",
       "                        }\n",
       "                        break;\n",
       "                    }\n",
       "                }\n",
       "            }, 500);\n",
       "            "
      ],
      "text/plain": [
       "<IPython.core.display.Javascript object>"
      ]
     },
     "metadata": {},
     "output_type": "display_data"
    }
   ],
   "source": [
    "last_fname"
   ]
  }
 ],
 "metadata": {
  "kernelspec": {
   "display_name": "Python 3",
   "language": "python",
   "name": "python3"
  },
  "language_info": {
   "codemirror_mode": {
    "name": "ipython",
    "version": 3
   },
   "file_extension": ".py",
   "mimetype": "text/x-python",
   "name": "python",
   "nbconvert_exporter": "python",
   "pygments_lexer": "ipython3",
   "version": "3.8.8"
  },
  "toc": {
   "base_numbering": 1,
   "nav_menu": {},
   "number_sections": true,
   "sideBar": true,
   "skip_h1_title": false,
   "title_cell": "Table of Contents",
   "title_sidebar": "Contents",
   "toc_cell": false,
   "toc_position": {},
   "toc_section_display": true,
   "toc_window_display": false
  }
 },
 "nbformat": 4,
 "nbformat_minor": 5
}
